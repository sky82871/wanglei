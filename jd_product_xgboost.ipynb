{
 "cells": [
  {
   "cell_type": "markdown",
   "metadata": {},
   "source": [
    "<font color=red size=3> 模块一 导入模块、数据与数据预览 </font>"
   ]
  },
  {
   "cell_type": "code",
   "execution_count": 1,
   "metadata": {},
   "outputs": [],
   "source": [
    "import numpy as np\n",
    "import pandas as pd"
   ]
  },
  {
   "cell_type": "code",
   "execution_count": 2,
   "metadata": {},
   "outputs": [],
   "source": [
    "import warnings\n",
    "warnings.filterwarnings(\"ignore\")"
   ]
  },
  {
   "cell_type": "code",
   "execution_count": 3,
   "metadata": {},
   "outputs": [],
   "source": [
    "import matplotlib.pyplot as plt\n",
    "large = 22; med = 16; small = 12\n",
    "\n",
    "params = {'axes.titlesize': large,\n",
    "\n",
    "          'legend.fontsize': med,\n",
    "\n",
    "          'figure.figsize': (12, 8),\n",
    "\n",
    "          'axes.labelsize': med,\n",
    "\n",
    "          'axes.titlesize': med,\n",
    "\n",
    "          'xtick.labelsize': med,\n",
    "\n",
    "          'ytick.labelsize': med,\n",
    "\n",
    "          'figure.titlesize': large}\n",
    "\n",
    "plt.rcParams.update(params)\n",
    "\n",
    "plt.style.use('seaborn-whitegrid')\n",
    "%matplotlib inline\n",
    "plt.rcParams['font.sans-serif']=['SimHei'] #用来正常显示中文标签\n",
    "plt.rcParams['axes.unicode_minus']=False #用来正常显示负号"
   ]
  },
  {
   "cell_type": "markdown",
   "metadata": {},
   "source": [
    "<font color=red size=3> 模块二  数据准备 </font>"
   ]
  },
  {
   "cell_type": "markdown",
   "metadata": {},
   "source": [
    "<font color=red size=3> 2.1  处理过的产品数据准备 </font>"
   ]
  },
  {
   "cell_type": "code",
   "execution_count": 4,
   "metadata": {},
   "outputs": [],
   "source": [
    "data_product=pd.read_csv('d:data/jd/data_product_new.csv')"
   ]
  },
  {
   "cell_type": "code",
   "execution_count": 5,
   "metadata": {},
   "outputs": [
    {
     "data": {
      "text/html": [
       "<div>\n",
       "<style scoped>\n",
       "    .dataframe tbody tr th:only-of-type {\n",
       "        vertical-align: middle;\n",
       "    }\n",
       "\n",
       "    .dataframe tbody tr th {\n",
       "        vertical-align: top;\n",
       "    }\n",
       "\n",
       "    .dataframe thead th {\n",
       "        text-align: right;\n",
       "    }\n",
       "</style>\n",
       "<table border=\"1\" class=\"dataframe\">\n",
       "  <thead>\n",
       "    <tr style=\"text-align: right;\">\n",
       "      <th></th>\n",
       "      <th>Unnamed: 0</th>\n",
       "      <th>sku_id</th>\n",
       "      <th>a1</th>\n",
       "      <th>a2</th>\n",
       "      <th>a3</th>\n",
       "      <th>cate</th>\n",
       "      <th>brand</th>\n",
       "      <th>brand_sku_count</th>\n",
       "      <th>comment_num</th>\n",
       "      <th>has_bad_comment</th>\n",
       "      <th>...</th>\n",
       "      <th>brand_click_time</th>\n",
       "      <th>a1_click_amount</th>\n",
       "      <th>a1_order_amount</th>\n",
       "      <th>a2_click_amount</th>\n",
       "      <th>a2_order_amount</th>\n",
       "      <th>a3_click_amount</th>\n",
       "      <th>a3_order_amount</th>\n",
       "      <th>click_buy_timegap</th>\n",
       "      <th>cart_buy_timegap</th>\n",
       "      <th>collect_buy_timegap</th>\n",
       "    </tr>\n",
       "  </thead>\n",
       "  <tbody>\n",
       "    <tr>\n",
       "      <th>0</th>\n",
       "      <td>0</td>\n",
       "      <td>10011</td>\n",
       "      <td>3.0</td>\n",
       "      <td>1.0</td>\n",
       "      <td>1.0</td>\n",
       "      <td>8.0</td>\n",
       "      <td>214.0</td>\n",
       "      <td>6444.0</td>\n",
       "      <td>4.0</td>\n",
       "      <td>1.0</td>\n",
       "      <td>...</td>\n",
       "      <td>28691869.0</td>\n",
       "      <td>1423.0</td>\n",
       "      <td>330.0</td>\n",
       "      <td>1698.0</td>\n",
       "      <td>468.0</td>\n",
       "      <td>1133.0</td>\n",
       "      <td>321.0</td>\n",
       "      <td>NaN</td>\n",
       "      <td>NaN</td>\n",
       "      <td>NaN</td>\n",
       "    </tr>\n",
       "    <tr>\n",
       "      <th>1</th>\n",
       "      <td>1</td>\n",
       "      <td>101116</td>\n",
       "      <td>3.0</td>\n",
       "      <td>1.0</td>\n",
       "      <td>1.0</td>\n",
       "      <td>8.0</td>\n",
       "      <td>214.0</td>\n",
       "      <td>6444.0</td>\n",
       "      <td>3.0</td>\n",
       "      <td>0.0</td>\n",
       "      <td>...</td>\n",
       "      <td>28691869.0</td>\n",
       "      <td>1423.0</td>\n",
       "      <td>330.0</td>\n",
       "      <td>1698.0</td>\n",
       "      <td>468.0</td>\n",
       "      <td>1133.0</td>\n",
       "      <td>321.0</td>\n",
       "      <td>NaN</td>\n",
       "      <td>NaN</td>\n",
       "      <td>NaN</td>\n",
       "    </tr>\n",
       "    <tr>\n",
       "      <th>2</th>\n",
       "      <td>2</td>\n",
       "      <td>10133</td>\n",
       "      <td>3.0</td>\n",
       "      <td>1.0</td>\n",
       "      <td>1.0</td>\n",
       "      <td>8.0</td>\n",
       "      <td>214.0</td>\n",
       "      <td>6444.0</td>\n",
       "      <td>3.0</td>\n",
       "      <td>1.0</td>\n",
       "      <td>...</td>\n",
       "      <td>28691869.0</td>\n",
       "      <td>1423.0</td>\n",
       "      <td>330.0</td>\n",
       "      <td>1698.0</td>\n",
       "      <td>468.0</td>\n",
       "      <td>1133.0</td>\n",
       "      <td>321.0</td>\n",
       "      <td>NaN</td>\n",
       "      <td>NaN</td>\n",
       "      <td>NaN</td>\n",
       "    </tr>\n",
       "    <tr>\n",
       "      <th>3</th>\n",
       "      <td>3</td>\n",
       "      <td>10223</td>\n",
       "      <td>3.0</td>\n",
       "      <td>1.0</td>\n",
       "      <td>1.0</td>\n",
       "      <td>8.0</td>\n",
       "      <td>214.0</td>\n",
       "      <td>6444.0</td>\n",
       "      <td>NaN</td>\n",
       "      <td>NaN</td>\n",
       "      <td>...</td>\n",
       "      <td>28691869.0</td>\n",
       "      <td>1423.0</td>\n",
       "      <td>330.0</td>\n",
       "      <td>1698.0</td>\n",
       "      <td>468.0</td>\n",
       "      <td>1133.0</td>\n",
       "      <td>321.0</td>\n",
       "      <td>NaN</td>\n",
       "      <td>NaN</td>\n",
       "      <td>NaN</td>\n",
       "    </tr>\n",
       "    <tr>\n",
       "      <th>4</th>\n",
       "      <td>4</td>\n",
       "      <td>103386</td>\n",
       "      <td>3.0</td>\n",
       "      <td>1.0</td>\n",
       "      <td>1.0</td>\n",
       "      <td>8.0</td>\n",
       "      <td>214.0</td>\n",
       "      <td>6444.0</td>\n",
       "      <td>4.0</td>\n",
       "      <td>1.0</td>\n",
       "      <td>...</td>\n",
       "      <td>28691869.0</td>\n",
       "      <td>1423.0</td>\n",
       "      <td>330.0</td>\n",
       "      <td>1698.0</td>\n",
       "      <td>468.0</td>\n",
       "      <td>1133.0</td>\n",
       "      <td>321.0</td>\n",
       "      <td>NaN</td>\n",
       "      <td>NaN</td>\n",
       "      <td>NaN</td>\n",
       "    </tr>\n",
       "  </tbody>\n",
       "</table>\n",
       "<p>5 rows × 42 columns</p>\n",
       "</div>"
      ],
      "text/plain": [
       "   Unnamed: 0  sku_id   a1   a2   a3  cate  brand  brand_sku_count  \\\n",
       "0           0   10011  3.0  1.0  1.0   8.0  214.0           6444.0   \n",
       "1           1  101116  3.0  1.0  1.0   8.0  214.0           6444.0   \n",
       "2           2   10133  3.0  1.0  1.0   8.0  214.0           6444.0   \n",
       "3           3   10223  3.0  1.0  1.0   8.0  214.0           6444.0   \n",
       "4           4  103386  3.0  1.0  1.0   8.0  214.0           6444.0   \n",
       "\n",
       "   comment_num  has_bad_comment  ...  brand_click_time  a1_click_amount  \\\n",
       "0          4.0              1.0  ...        28691869.0           1423.0   \n",
       "1          3.0              0.0  ...        28691869.0           1423.0   \n",
       "2          3.0              1.0  ...        28691869.0           1423.0   \n",
       "3          NaN              NaN  ...        28691869.0           1423.0   \n",
       "4          4.0              1.0  ...        28691869.0           1423.0   \n",
       "\n",
       "   a1_order_amount  a2_click_amount  a2_order_amount  a3_click_amount  \\\n",
       "0            330.0           1698.0            468.0           1133.0   \n",
       "1            330.0           1698.0            468.0           1133.0   \n",
       "2            330.0           1698.0            468.0           1133.0   \n",
       "3            330.0           1698.0            468.0           1133.0   \n",
       "4            330.0           1698.0            468.0           1133.0   \n",
       "\n",
       "   a3_order_amount  click_buy_timegap  cart_buy_timegap  collect_buy_timegap  \n",
       "0            321.0                NaN               NaN                  NaN  \n",
       "1            321.0                NaN               NaN                  NaN  \n",
       "2            321.0                NaN               NaN                  NaN  \n",
       "3            321.0                NaN               NaN                  NaN  \n",
       "4            321.0                NaN               NaN                  NaN  \n",
       "\n",
       "[5 rows x 42 columns]"
      ]
     },
     "execution_count": 5,
     "metadata": {},
     "output_type": "execute_result"
    }
   ],
   "source": [
    "data_product.head()"
   ]
  },
  {
   "cell_type": "code",
   "execution_count": 6,
   "metadata": {},
   "outputs": [],
   "source": [
    "data_product=data_product.drop(columns='Unnamed: 0')"
   ]
  },
  {
   "cell_type": "code",
   "execution_count": 7,
   "metadata": {},
   "outputs": [
    {
     "data": {
      "text/html": [
       "<div>\n",
       "<style scoped>\n",
       "    .dataframe tbody tr th:only-of-type {\n",
       "        vertical-align: middle;\n",
       "    }\n",
       "\n",
       "    .dataframe tbody tr th {\n",
       "        vertical-align: top;\n",
       "    }\n",
       "\n",
       "    .dataframe thead th {\n",
       "        text-align: right;\n",
       "    }\n",
       "</style>\n",
       "<table border=\"1\" class=\"dataframe\">\n",
       "  <thead>\n",
       "    <tr style=\"text-align: right;\">\n",
       "      <th></th>\n",
       "      <th>sku_id</th>\n",
       "      <th>a1</th>\n",
       "      <th>a2</th>\n",
       "      <th>a3</th>\n",
       "      <th>cate</th>\n",
       "      <th>brand</th>\n",
       "      <th>brand_sku_count</th>\n",
       "      <th>comment_num</th>\n",
       "      <th>has_bad_comment</th>\n",
       "      <th>bad_comment_rate</th>\n",
       "      <th>...</th>\n",
       "      <th>brand_click_time</th>\n",
       "      <th>a1_click_amount</th>\n",
       "      <th>a1_order_amount</th>\n",
       "      <th>a2_click_amount</th>\n",
       "      <th>a2_order_amount</th>\n",
       "      <th>a3_click_amount</th>\n",
       "      <th>a3_order_amount</th>\n",
       "      <th>click_buy_timegap</th>\n",
       "      <th>cart_buy_timegap</th>\n",
       "      <th>collect_buy_timegap</th>\n",
       "    </tr>\n",
       "  </thead>\n",
       "  <tbody>\n",
       "    <tr>\n",
       "      <th>0</th>\n",
       "      <td>10011</td>\n",
       "      <td>3.0</td>\n",
       "      <td>1.0</td>\n",
       "      <td>1.0</td>\n",
       "      <td>8.0</td>\n",
       "      <td>214.0</td>\n",
       "      <td>6444.0</td>\n",
       "      <td>4.0</td>\n",
       "      <td>1.0</td>\n",
       "      <td>0.0239</td>\n",
       "      <td>...</td>\n",
       "      <td>28691869.0</td>\n",
       "      <td>1423.0</td>\n",
       "      <td>330.0</td>\n",
       "      <td>1698.0</td>\n",
       "      <td>468.0</td>\n",
       "      <td>1133.0</td>\n",
       "      <td>321.0</td>\n",
       "      <td>NaN</td>\n",
       "      <td>NaN</td>\n",
       "      <td>NaN</td>\n",
       "    </tr>\n",
       "    <tr>\n",
       "      <th>1</th>\n",
       "      <td>101116</td>\n",
       "      <td>3.0</td>\n",
       "      <td>1.0</td>\n",
       "      <td>1.0</td>\n",
       "      <td>8.0</td>\n",
       "      <td>214.0</td>\n",
       "      <td>6444.0</td>\n",
       "      <td>3.0</td>\n",
       "      <td>0.0</td>\n",
       "      <td>0.0000</td>\n",
       "      <td>...</td>\n",
       "      <td>28691869.0</td>\n",
       "      <td>1423.0</td>\n",
       "      <td>330.0</td>\n",
       "      <td>1698.0</td>\n",
       "      <td>468.0</td>\n",
       "      <td>1133.0</td>\n",
       "      <td>321.0</td>\n",
       "      <td>NaN</td>\n",
       "      <td>NaN</td>\n",
       "      <td>NaN</td>\n",
       "    </tr>\n",
       "    <tr>\n",
       "      <th>2</th>\n",
       "      <td>10133</td>\n",
       "      <td>3.0</td>\n",
       "      <td>1.0</td>\n",
       "      <td>1.0</td>\n",
       "      <td>8.0</td>\n",
       "      <td>214.0</td>\n",
       "      <td>6444.0</td>\n",
       "      <td>3.0</td>\n",
       "      <td>1.0</td>\n",
       "      <td>0.0294</td>\n",
       "      <td>...</td>\n",
       "      <td>28691869.0</td>\n",
       "      <td>1423.0</td>\n",
       "      <td>330.0</td>\n",
       "      <td>1698.0</td>\n",
       "      <td>468.0</td>\n",
       "      <td>1133.0</td>\n",
       "      <td>321.0</td>\n",
       "      <td>NaN</td>\n",
       "      <td>NaN</td>\n",
       "      <td>NaN</td>\n",
       "    </tr>\n",
       "    <tr>\n",
       "      <th>3</th>\n",
       "      <td>10223</td>\n",
       "      <td>3.0</td>\n",
       "      <td>1.0</td>\n",
       "      <td>1.0</td>\n",
       "      <td>8.0</td>\n",
       "      <td>214.0</td>\n",
       "      <td>6444.0</td>\n",
       "      <td>NaN</td>\n",
       "      <td>NaN</td>\n",
       "      <td>NaN</td>\n",
       "      <td>...</td>\n",
       "      <td>28691869.0</td>\n",
       "      <td>1423.0</td>\n",
       "      <td>330.0</td>\n",
       "      <td>1698.0</td>\n",
       "      <td>468.0</td>\n",
       "      <td>1133.0</td>\n",
       "      <td>321.0</td>\n",
       "      <td>NaN</td>\n",
       "      <td>NaN</td>\n",
       "      <td>NaN</td>\n",
       "    </tr>\n",
       "    <tr>\n",
       "      <th>4</th>\n",
       "      <td>103386</td>\n",
       "      <td>3.0</td>\n",
       "      <td>1.0</td>\n",
       "      <td>1.0</td>\n",
       "      <td>8.0</td>\n",
       "      <td>214.0</td>\n",
       "      <td>6444.0</td>\n",
       "      <td>4.0</td>\n",
       "      <td>1.0</td>\n",
       "      <td>0.0213</td>\n",
       "      <td>...</td>\n",
       "      <td>28691869.0</td>\n",
       "      <td>1423.0</td>\n",
       "      <td>330.0</td>\n",
       "      <td>1698.0</td>\n",
       "      <td>468.0</td>\n",
       "      <td>1133.0</td>\n",
       "      <td>321.0</td>\n",
       "      <td>NaN</td>\n",
       "      <td>NaN</td>\n",
       "      <td>NaN</td>\n",
       "    </tr>\n",
       "  </tbody>\n",
       "</table>\n",
       "<p>5 rows × 41 columns</p>\n",
       "</div>"
      ],
      "text/plain": [
       "   sku_id   a1   a2   a3  cate  brand  brand_sku_count  comment_num  \\\n",
       "0   10011  3.0  1.0  1.0   8.0  214.0           6444.0          4.0   \n",
       "1  101116  3.0  1.0  1.0   8.0  214.0           6444.0          3.0   \n",
       "2   10133  3.0  1.0  1.0   8.0  214.0           6444.0          3.0   \n",
       "3   10223  3.0  1.0  1.0   8.0  214.0           6444.0          NaN   \n",
       "4  103386  3.0  1.0  1.0   8.0  214.0           6444.0          4.0   \n",
       "\n",
       "   has_bad_comment  bad_comment_rate  ...  brand_click_time  a1_click_amount  \\\n",
       "0              1.0            0.0239  ...        28691869.0           1423.0   \n",
       "1              0.0            0.0000  ...        28691869.0           1423.0   \n",
       "2              1.0            0.0294  ...        28691869.0           1423.0   \n",
       "3              NaN               NaN  ...        28691869.0           1423.0   \n",
       "4              1.0            0.0213  ...        28691869.0           1423.0   \n",
       "\n",
       "   a1_order_amount  a2_click_amount  a2_order_amount  a3_click_amount  \\\n",
       "0            330.0           1698.0            468.0           1133.0   \n",
       "1            330.0           1698.0            468.0           1133.0   \n",
       "2            330.0           1698.0            468.0           1133.0   \n",
       "3            330.0           1698.0            468.0           1133.0   \n",
       "4            330.0           1698.0            468.0           1133.0   \n",
       "\n",
       "   a3_order_amount  click_buy_timegap  cart_buy_timegap  collect_buy_timegap  \n",
       "0            321.0                NaN               NaN                  NaN  \n",
       "1            321.0                NaN               NaN                  NaN  \n",
       "2            321.0                NaN               NaN                  NaN  \n",
       "3            321.0                NaN               NaN                  NaN  \n",
       "4            321.0                NaN               NaN                  NaN  \n",
       "\n",
       "[5 rows x 41 columns]"
      ]
     },
     "execution_count": 7,
     "metadata": {},
     "output_type": "execute_result"
    }
   ],
   "source": [
    "data_product.head()"
   ]
  },
  {
   "cell_type": "code",
   "execution_count": 8,
   "metadata": {},
   "outputs": [
    {
     "data": {
      "text/html": [
       "<div>\n",
       "<style scoped>\n",
       "    .dataframe tbody tr th:only-of-type {\n",
       "        vertical-align: middle;\n",
       "    }\n",
       "\n",
       "    .dataframe tbody tr th {\n",
       "        vertical-align: top;\n",
       "    }\n",
       "\n",
       "    .dataframe thead th {\n",
       "        text-align: right;\n",
       "    }\n",
       "</style>\n",
       "<table border=\"1\" class=\"dataframe\">\n",
       "  <thead>\n",
       "    <tr style=\"text-align: right;\">\n",
       "      <th></th>\n",
       "      <th>sku_id</th>\n",
       "      <th>a1</th>\n",
       "      <th>a2</th>\n",
       "      <th>a3</th>\n",
       "      <th>brand_sku_count</th>\n",
       "      <th>comment_num</th>\n",
       "      <th>has_bad_comment</th>\n",
       "      <th>bad_comment_rate</th>\n",
       "      <th>product_click_amount</th>\n",
       "      <th>product_cart_amount</th>\n",
       "      <th>...</th>\n",
       "      <th>brand_click_time</th>\n",
       "      <th>a1_click_amount</th>\n",
       "      <th>a1_order_amount</th>\n",
       "      <th>a2_click_amount</th>\n",
       "      <th>a2_order_amount</th>\n",
       "      <th>a3_click_amount</th>\n",
       "      <th>a3_order_amount</th>\n",
       "      <th>click_buy_timegap</th>\n",
       "      <th>cart_buy_timegap</th>\n",
       "      <th>collect_buy_timegap</th>\n",
       "    </tr>\n",
       "  </thead>\n",
       "  <tbody>\n",
       "    <tr>\n",
       "      <th>0</th>\n",
       "      <td>10011</td>\n",
       "      <td>3.0</td>\n",
       "      <td>1.0</td>\n",
       "      <td>1.0</td>\n",
       "      <td>6444.0</td>\n",
       "      <td>4.0</td>\n",
       "      <td>1.0</td>\n",
       "      <td>0.0239</td>\n",
       "      <td>6.0</td>\n",
       "      <td>NaN</td>\n",
       "      <td>...</td>\n",
       "      <td>28691869.0</td>\n",
       "      <td>1423.0</td>\n",
       "      <td>330.0</td>\n",
       "      <td>1698.0</td>\n",
       "      <td>468.0</td>\n",
       "      <td>1133.0</td>\n",
       "      <td>321.0</td>\n",
       "      <td>NaN</td>\n",
       "      <td>NaN</td>\n",
       "      <td>NaN</td>\n",
       "    </tr>\n",
       "    <tr>\n",
       "      <th>1</th>\n",
       "      <td>101116</td>\n",
       "      <td>3.0</td>\n",
       "      <td>1.0</td>\n",
       "      <td>1.0</td>\n",
       "      <td>6444.0</td>\n",
       "      <td>3.0</td>\n",
       "      <td>0.0</td>\n",
       "      <td>0.0000</td>\n",
       "      <td>214.0</td>\n",
       "      <td>NaN</td>\n",
       "      <td>...</td>\n",
       "      <td>28691869.0</td>\n",
       "      <td>1423.0</td>\n",
       "      <td>330.0</td>\n",
       "      <td>1698.0</td>\n",
       "      <td>468.0</td>\n",
       "      <td>1133.0</td>\n",
       "      <td>321.0</td>\n",
       "      <td>NaN</td>\n",
       "      <td>NaN</td>\n",
       "      <td>NaN</td>\n",
       "    </tr>\n",
       "    <tr>\n",
       "      <th>2</th>\n",
       "      <td>10133</td>\n",
       "      <td>3.0</td>\n",
       "      <td>1.0</td>\n",
       "      <td>1.0</td>\n",
       "      <td>6444.0</td>\n",
       "      <td>3.0</td>\n",
       "      <td>1.0</td>\n",
       "      <td>0.0294</td>\n",
       "      <td>305.0</td>\n",
       "      <td>5.0</td>\n",
       "      <td>...</td>\n",
       "      <td>28691869.0</td>\n",
       "      <td>1423.0</td>\n",
       "      <td>330.0</td>\n",
       "      <td>1698.0</td>\n",
       "      <td>468.0</td>\n",
       "      <td>1133.0</td>\n",
       "      <td>321.0</td>\n",
       "      <td>NaN</td>\n",
       "      <td>NaN</td>\n",
       "      <td>NaN</td>\n",
       "    </tr>\n",
       "    <tr>\n",
       "      <th>3</th>\n",
       "      <td>10223</td>\n",
       "      <td>3.0</td>\n",
       "      <td>1.0</td>\n",
       "      <td>1.0</td>\n",
       "      <td>6444.0</td>\n",
       "      <td>NaN</td>\n",
       "      <td>NaN</td>\n",
       "      <td>NaN</td>\n",
       "      <td>72.0</td>\n",
       "      <td>NaN</td>\n",
       "      <td>...</td>\n",
       "      <td>28691869.0</td>\n",
       "      <td>1423.0</td>\n",
       "      <td>330.0</td>\n",
       "      <td>1698.0</td>\n",
       "      <td>468.0</td>\n",
       "      <td>1133.0</td>\n",
       "      <td>321.0</td>\n",
       "      <td>NaN</td>\n",
       "      <td>NaN</td>\n",
       "      <td>NaN</td>\n",
       "    </tr>\n",
       "    <tr>\n",
       "      <th>4</th>\n",
       "      <td>103386</td>\n",
       "      <td>3.0</td>\n",
       "      <td>1.0</td>\n",
       "      <td>1.0</td>\n",
       "      <td>6444.0</td>\n",
       "      <td>4.0</td>\n",
       "      <td>1.0</td>\n",
       "      <td>0.0213</td>\n",
       "      <td>8.0</td>\n",
       "      <td>NaN</td>\n",
       "      <td>...</td>\n",
       "      <td>28691869.0</td>\n",
       "      <td>1423.0</td>\n",
       "      <td>330.0</td>\n",
       "      <td>1698.0</td>\n",
       "      <td>468.0</td>\n",
       "      <td>1133.0</td>\n",
       "      <td>321.0</td>\n",
       "      <td>NaN</td>\n",
       "      <td>NaN</td>\n",
       "      <td>NaN</td>\n",
       "    </tr>\n",
       "  </tbody>\n",
       "</table>\n",
       "<p>5 rows × 39 columns</p>\n",
       "</div>"
      ],
      "text/plain": [
       "   sku_id   a1   a2   a3  brand_sku_count  comment_num  has_bad_comment  \\\n",
       "0   10011  3.0  1.0  1.0           6444.0          4.0              1.0   \n",
       "1  101116  3.0  1.0  1.0           6444.0          3.0              0.0   \n",
       "2   10133  3.0  1.0  1.0           6444.0          3.0              1.0   \n",
       "3   10223  3.0  1.0  1.0           6444.0          NaN              NaN   \n",
       "4  103386  3.0  1.0  1.0           6444.0          4.0              1.0   \n",
       "\n",
       "   bad_comment_rate  product_click_amount  product_cart_amount  ...  \\\n",
       "0            0.0239                   6.0                  NaN  ...   \n",
       "1            0.0000                 214.0                  NaN  ...   \n",
       "2            0.0294                 305.0                  5.0  ...   \n",
       "3               NaN                  72.0                  NaN  ...   \n",
       "4            0.0213                   8.0                  NaN  ...   \n",
       "\n",
       "   brand_click_time  a1_click_amount  a1_order_amount  a2_click_amount  \\\n",
       "0        28691869.0           1423.0            330.0           1698.0   \n",
       "1        28691869.0           1423.0            330.0           1698.0   \n",
       "2        28691869.0           1423.0            330.0           1698.0   \n",
       "3        28691869.0           1423.0            330.0           1698.0   \n",
       "4        28691869.0           1423.0            330.0           1698.0   \n",
       "\n",
       "   a2_order_amount  a3_click_amount  a3_order_amount  click_buy_timegap  \\\n",
       "0            468.0           1133.0            321.0                NaN   \n",
       "1            468.0           1133.0            321.0                NaN   \n",
       "2            468.0           1133.0            321.0                NaN   \n",
       "3            468.0           1133.0            321.0                NaN   \n",
       "4            468.0           1133.0            321.0                NaN   \n",
       "\n",
       "   cart_buy_timegap  collect_buy_timegap  \n",
       "0               NaN                  NaN  \n",
       "1               NaN                  NaN  \n",
       "2               NaN                  NaN  \n",
       "3               NaN                  NaN  \n",
       "4               NaN                  NaN  \n",
       "\n",
       "[5 rows x 39 columns]"
      ]
     },
     "execution_count": 8,
     "metadata": {},
     "output_type": "execute_result"
    }
   ],
   "source": [
    "data_product=data_product.drop(columns=['cate','brand'])\n",
    "data_product.head()"
   ]
  },
  {
   "cell_type": "code",
   "execution_count": 9,
   "metadata": {},
   "outputs": [
    {
     "data": {
      "text/plain": [
       "25931"
      ]
     },
     "execution_count": 9,
     "metadata": {},
     "output_type": "execute_result"
    }
   ],
   "source": [
    "data_product.sku_id.drop_duplicates().count()"
   ]
  },
  {
   "cell_type": "code",
   "execution_count": 10,
   "metadata": {},
   "outputs": [],
   "source": [
    "data_product['product_conversion_ratio']=data_product.apply(lambda x:x['product_order_amount']/x['product_click_amount'],axis=1)"
   ]
  },
  {
   "cell_type": "code",
   "execution_count": 11,
   "metadata": {},
   "outputs": [
    {
     "data": {
      "text/html": [
       "<div>\n",
       "<style scoped>\n",
       "    .dataframe tbody tr th:only-of-type {\n",
       "        vertical-align: middle;\n",
       "    }\n",
       "\n",
       "    .dataframe tbody tr th {\n",
       "        vertical-align: top;\n",
       "    }\n",
       "\n",
       "    .dataframe thead th {\n",
       "        text-align: right;\n",
       "    }\n",
       "</style>\n",
       "<table border=\"1\" class=\"dataframe\">\n",
       "  <thead>\n",
       "    <tr style=\"text-align: right;\">\n",
       "      <th></th>\n",
       "      <th>sku_id</th>\n",
       "      <th>a1</th>\n",
       "      <th>a2</th>\n",
       "      <th>a3</th>\n",
       "      <th>brand_sku_count</th>\n",
       "      <th>comment_num</th>\n",
       "      <th>has_bad_comment</th>\n",
       "      <th>bad_comment_rate</th>\n",
       "      <th>product_click_amount</th>\n",
       "      <th>product_cart_amount</th>\n",
       "      <th>...</th>\n",
       "      <th>a1_click_amount</th>\n",
       "      <th>a1_order_amount</th>\n",
       "      <th>a2_click_amount</th>\n",
       "      <th>a2_order_amount</th>\n",
       "      <th>a3_click_amount</th>\n",
       "      <th>a3_order_amount</th>\n",
       "      <th>click_buy_timegap</th>\n",
       "      <th>cart_buy_timegap</th>\n",
       "      <th>collect_buy_timegap</th>\n",
       "      <th>product_conversion_ratio</th>\n",
       "    </tr>\n",
       "  </thead>\n",
       "  <tbody>\n",
       "    <tr>\n",
       "      <th>0</th>\n",
       "      <td>10011</td>\n",
       "      <td>3.0</td>\n",
       "      <td>1.0</td>\n",
       "      <td>1.0</td>\n",
       "      <td>6444.0</td>\n",
       "      <td>4.0</td>\n",
       "      <td>1.0</td>\n",
       "      <td>0.0239</td>\n",
       "      <td>6.0</td>\n",
       "      <td>NaN</td>\n",
       "      <td>...</td>\n",
       "      <td>1423.0</td>\n",
       "      <td>330.0</td>\n",
       "      <td>1698.0</td>\n",
       "      <td>468.0</td>\n",
       "      <td>1133.0</td>\n",
       "      <td>321.0</td>\n",
       "      <td>NaN</td>\n",
       "      <td>NaN</td>\n",
       "      <td>NaN</td>\n",
       "      <td>NaN</td>\n",
       "    </tr>\n",
       "    <tr>\n",
       "      <th>1</th>\n",
       "      <td>101116</td>\n",
       "      <td>3.0</td>\n",
       "      <td>1.0</td>\n",
       "      <td>1.0</td>\n",
       "      <td>6444.0</td>\n",
       "      <td>3.0</td>\n",
       "      <td>0.0</td>\n",
       "      <td>0.0000</td>\n",
       "      <td>214.0</td>\n",
       "      <td>NaN</td>\n",
       "      <td>...</td>\n",
       "      <td>1423.0</td>\n",
       "      <td>330.0</td>\n",
       "      <td>1698.0</td>\n",
       "      <td>468.0</td>\n",
       "      <td>1133.0</td>\n",
       "      <td>321.0</td>\n",
       "      <td>NaN</td>\n",
       "      <td>NaN</td>\n",
       "      <td>NaN</td>\n",
       "      <td>NaN</td>\n",
       "    </tr>\n",
       "    <tr>\n",
       "      <th>2</th>\n",
       "      <td>10133</td>\n",
       "      <td>3.0</td>\n",
       "      <td>1.0</td>\n",
       "      <td>1.0</td>\n",
       "      <td>6444.0</td>\n",
       "      <td>3.0</td>\n",
       "      <td>1.0</td>\n",
       "      <td>0.0294</td>\n",
       "      <td>305.0</td>\n",
       "      <td>5.0</td>\n",
       "      <td>...</td>\n",
       "      <td>1423.0</td>\n",
       "      <td>330.0</td>\n",
       "      <td>1698.0</td>\n",
       "      <td>468.0</td>\n",
       "      <td>1133.0</td>\n",
       "      <td>321.0</td>\n",
       "      <td>NaN</td>\n",
       "      <td>NaN</td>\n",
       "      <td>NaN</td>\n",
       "      <td>NaN</td>\n",
       "    </tr>\n",
       "    <tr>\n",
       "      <th>3</th>\n",
       "      <td>10223</td>\n",
       "      <td>3.0</td>\n",
       "      <td>1.0</td>\n",
       "      <td>1.0</td>\n",
       "      <td>6444.0</td>\n",
       "      <td>NaN</td>\n",
       "      <td>NaN</td>\n",
       "      <td>NaN</td>\n",
       "      <td>72.0</td>\n",
       "      <td>NaN</td>\n",
       "      <td>...</td>\n",
       "      <td>1423.0</td>\n",
       "      <td>330.0</td>\n",
       "      <td>1698.0</td>\n",
       "      <td>468.0</td>\n",
       "      <td>1133.0</td>\n",
       "      <td>321.0</td>\n",
       "      <td>NaN</td>\n",
       "      <td>NaN</td>\n",
       "      <td>NaN</td>\n",
       "      <td>NaN</td>\n",
       "    </tr>\n",
       "    <tr>\n",
       "      <th>4</th>\n",
       "      <td>103386</td>\n",
       "      <td>3.0</td>\n",
       "      <td>1.0</td>\n",
       "      <td>1.0</td>\n",
       "      <td>6444.0</td>\n",
       "      <td>4.0</td>\n",
       "      <td>1.0</td>\n",
       "      <td>0.0213</td>\n",
       "      <td>8.0</td>\n",
       "      <td>NaN</td>\n",
       "      <td>...</td>\n",
       "      <td>1423.0</td>\n",
       "      <td>330.0</td>\n",
       "      <td>1698.0</td>\n",
       "      <td>468.0</td>\n",
       "      <td>1133.0</td>\n",
       "      <td>321.0</td>\n",
       "      <td>NaN</td>\n",
       "      <td>NaN</td>\n",
       "      <td>NaN</td>\n",
       "      <td>NaN</td>\n",
       "    </tr>\n",
       "  </tbody>\n",
       "</table>\n",
       "<p>5 rows × 40 columns</p>\n",
       "</div>"
      ],
      "text/plain": [
       "   sku_id   a1   a2   a3  brand_sku_count  comment_num  has_bad_comment  \\\n",
       "0   10011  3.0  1.0  1.0           6444.0          4.0              1.0   \n",
       "1  101116  3.0  1.0  1.0           6444.0          3.0              0.0   \n",
       "2   10133  3.0  1.0  1.0           6444.0          3.0              1.0   \n",
       "3   10223  3.0  1.0  1.0           6444.0          NaN              NaN   \n",
       "4  103386  3.0  1.0  1.0           6444.0          4.0              1.0   \n",
       "\n",
       "   bad_comment_rate  product_click_amount  product_cart_amount  ...  \\\n",
       "0            0.0239                   6.0                  NaN  ...   \n",
       "1            0.0000                 214.0                  NaN  ...   \n",
       "2            0.0294                 305.0                  5.0  ...   \n",
       "3               NaN                  72.0                  NaN  ...   \n",
       "4            0.0213                   8.0                  NaN  ...   \n",
       "\n",
       "   a1_click_amount  a1_order_amount  a2_click_amount  a2_order_amount  \\\n",
       "0           1423.0            330.0           1698.0            468.0   \n",
       "1           1423.0            330.0           1698.0            468.0   \n",
       "2           1423.0            330.0           1698.0            468.0   \n",
       "3           1423.0            330.0           1698.0            468.0   \n",
       "4           1423.0            330.0           1698.0            468.0   \n",
       "\n",
       "   a3_click_amount  a3_order_amount  click_buy_timegap  cart_buy_timegap  \\\n",
       "0           1133.0            321.0                NaN               NaN   \n",
       "1           1133.0            321.0                NaN               NaN   \n",
       "2           1133.0            321.0                NaN               NaN   \n",
       "3           1133.0            321.0                NaN               NaN   \n",
       "4           1133.0            321.0                NaN               NaN   \n",
       "\n",
       "   collect_buy_timegap  product_conversion_ratio  \n",
       "0                  NaN                       NaN  \n",
       "1                  NaN                       NaN  \n",
       "2                  NaN                       NaN  \n",
       "3                  NaN                       NaN  \n",
       "4                  NaN                       NaN  \n",
       "\n",
       "[5 rows x 40 columns]"
      ]
     },
     "execution_count": 11,
     "metadata": {},
     "output_type": "execute_result"
    }
   ],
   "source": [
    "data_product.head()"
   ]
  },
  {
   "cell_type": "markdown",
   "metadata": {},
   "source": [
    "<font color=red size=3> 2.2  候选商品子集P </font>"
   ]
  },
  {
   "cell_type": "code",
   "execution_count": 12,
   "metadata": {},
   "outputs": [],
   "source": [
    "product_p=pd.read_csv('d:data/jd/JData_Product.csv')"
   ]
  },
  {
   "cell_type": "code",
   "execution_count": 13,
   "metadata": {},
   "outputs": [],
   "source": [
    "data_product=pd.merge(data_product,product_p['sku_id'],on='sku_id',how='right')"
   ]
  },
  {
   "cell_type": "code",
   "execution_count": 14,
   "metadata": {},
   "outputs": [
    {
     "data": {
      "text/plain": [
       "24187"
      ]
     },
     "execution_count": 14,
     "metadata": {},
     "output_type": "execute_result"
    }
   ],
   "source": [
    "data_product.sku_id.drop_duplicates().count()"
   ]
  },
  {
   "cell_type": "code",
   "execution_count": 15,
   "metadata": {},
   "outputs": [
    {
     "data": {
      "text/html": [
       "<div>\n",
       "<style scoped>\n",
       "    .dataframe tbody tr th:only-of-type {\n",
       "        vertical-align: middle;\n",
       "    }\n",
       "\n",
       "    .dataframe tbody tr th {\n",
       "        vertical-align: top;\n",
       "    }\n",
       "\n",
       "    .dataframe thead th {\n",
       "        text-align: right;\n",
       "    }\n",
       "</style>\n",
       "<table border=\"1\" class=\"dataframe\">\n",
       "  <thead>\n",
       "    <tr style=\"text-align: right;\">\n",
       "      <th></th>\n",
       "      <th>sku_id</th>\n",
       "      <th>a1</th>\n",
       "      <th>a2</th>\n",
       "      <th>a3</th>\n",
       "      <th>brand_sku_count</th>\n",
       "      <th>comment_num</th>\n",
       "      <th>has_bad_comment</th>\n",
       "      <th>bad_comment_rate</th>\n",
       "      <th>product_click_amount</th>\n",
       "      <th>product_cart_amount</th>\n",
       "      <th>...</th>\n",
       "      <th>a1_click_amount</th>\n",
       "      <th>a1_order_amount</th>\n",
       "      <th>a2_click_amount</th>\n",
       "      <th>a2_order_amount</th>\n",
       "      <th>a3_click_amount</th>\n",
       "      <th>a3_order_amount</th>\n",
       "      <th>click_buy_timegap</th>\n",
       "      <th>cart_buy_timegap</th>\n",
       "      <th>collect_buy_timegap</th>\n",
       "      <th>product_conversion_ratio</th>\n",
       "    </tr>\n",
       "  </thead>\n",
       "  <tbody>\n",
       "    <tr>\n",
       "      <th>0</th>\n",
       "      <td>10011</td>\n",
       "      <td>3.0</td>\n",
       "      <td>1.0</td>\n",
       "      <td>1.0</td>\n",
       "      <td>6444.0</td>\n",
       "      <td>4.0</td>\n",
       "      <td>1.0</td>\n",
       "      <td>0.0239</td>\n",
       "      <td>6.0</td>\n",
       "      <td>NaN</td>\n",
       "      <td>...</td>\n",
       "      <td>1423.0</td>\n",
       "      <td>330.0</td>\n",
       "      <td>1698.0</td>\n",
       "      <td>468.0</td>\n",
       "      <td>1133.0</td>\n",
       "      <td>321.0</td>\n",
       "      <td>NaN</td>\n",
       "      <td>NaN</td>\n",
       "      <td>NaN</td>\n",
       "      <td>NaN</td>\n",
       "    </tr>\n",
       "    <tr>\n",
       "      <th>1</th>\n",
       "      <td>101116</td>\n",
       "      <td>3.0</td>\n",
       "      <td>1.0</td>\n",
       "      <td>1.0</td>\n",
       "      <td>6444.0</td>\n",
       "      <td>3.0</td>\n",
       "      <td>0.0</td>\n",
       "      <td>0.0000</td>\n",
       "      <td>214.0</td>\n",
       "      <td>NaN</td>\n",
       "      <td>...</td>\n",
       "      <td>1423.0</td>\n",
       "      <td>330.0</td>\n",
       "      <td>1698.0</td>\n",
       "      <td>468.0</td>\n",
       "      <td>1133.0</td>\n",
       "      <td>321.0</td>\n",
       "      <td>NaN</td>\n",
       "      <td>NaN</td>\n",
       "      <td>NaN</td>\n",
       "      <td>NaN</td>\n",
       "    </tr>\n",
       "    <tr>\n",
       "      <th>2</th>\n",
       "      <td>10133</td>\n",
       "      <td>3.0</td>\n",
       "      <td>1.0</td>\n",
       "      <td>1.0</td>\n",
       "      <td>6444.0</td>\n",
       "      <td>3.0</td>\n",
       "      <td>1.0</td>\n",
       "      <td>0.0294</td>\n",
       "      <td>305.0</td>\n",
       "      <td>5.0</td>\n",
       "      <td>...</td>\n",
       "      <td>1423.0</td>\n",
       "      <td>330.0</td>\n",
       "      <td>1698.0</td>\n",
       "      <td>468.0</td>\n",
       "      <td>1133.0</td>\n",
       "      <td>321.0</td>\n",
       "      <td>NaN</td>\n",
       "      <td>NaN</td>\n",
       "      <td>NaN</td>\n",
       "      <td>NaN</td>\n",
       "    </tr>\n",
       "    <tr>\n",
       "      <th>3</th>\n",
       "      <td>10223</td>\n",
       "      <td>3.0</td>\n",
       "      <td>1.0</td>\n",
       "      <td>1.0</td>\n",
       "      <td>6444.0</td>\n",
       "      <td>NaN</td>\n",
       "      <td>NaN</td>\n",
       "      <td>NaN</td>\n",
       "      <td>72.0</td>\n",
       "      <td>NaN</td>\n",
       "      <td>...</td>\n",
       "      <td>1423.0</td>\n",
       "      <td>330.0</td>\n",
       "      <td>1698.0</td>\n",
       "      <td>468.0</td>\n",
       "      <td>1133.0</td>\n",
       "      <td>321.0</td>\n",
       "      <td>NaN</td>\n",
       "      <td>NaN</td>\n",
       "      <td>NaN</td>\n",
       "      <td>NaN</td>\n",
       "    </tr>\n",
       "    <tr>\n",
       "      <th>4</th>\n",
       "      <td>103386</td>\n",
       "      <td>3.0</td>\n",
       "      <td>1.0</td>\n",
       "      <td>1.0</td>\n",
       "      <td>6444.0</td>\n",
       "      <td>4.0</td>\n",
       "      <td>1.0</td>\n",
       "      <td>0.0213</td>\n",
       "      <td>8.0</td>\n",
       "      <td>NaN</td>\n",
       "      <td>...</td>\n",
       "      <td>1423.0</td>\n",
       "      <td>330.0</td>\n",
       "      <td>1698.0</td>\n",
       "      <td>468.0</td>\n",
       "      <td>1133.0</td>\n",
       "      <td>321.0</td>\n",
       "      <td>NaN</td>\n",
       "      <td>NaN</td>\n",
       "      <td>NaN</td>\n",
       "      <td>NaN</td>\n",
       "    </tr>\n",
       "  </tbody>\n",
       "</table>\n",
       "<p>5 rows × 40 columns</p>\n",
       "</div>"
      ],
      "text/plain": [
       "   sku_id   a1   a2   a3  brand_sku_count  comment_num  has_bad_comment  \\\n",
       "0   10011  3.0  1.0  1.0           6444.0          4.0              1.0   \n",
       "1  101116  3.0  1.0  1.0           6444.0          3.0              0.0   \n",
       "2   10133  3.0  1.0  1.0           6444.0          3.0              1.0   \n",
       "3   10223  3.0  1.0  1.0           6444.0          NaN              NaN   \n",
       "4  103386  3.0  1.0  1.0           6444.0          4.0              1.0   \n",
       "\n",
       "   bad_comment_rate  product_click_amount  product_cart_amount  ...  \\\n",
       "0            0.0239                   6.0                  NaN  ...   \n",
       "1            0.0000                 214.0                  NaN  ...   \n",
       "2            0.0294                 305.0                  5.0  ...   \n",
       "3               NaN                  72.0                  NaN  ...   \n",
       "4            0.0213                   8.0                  NaN  ...   \n",
       "\n",
       "   a1_click_amount  a1_order_amount  a2_click_amount  a2_order_amount  \\\n",
       "0           1423.0            330.0           1698.0            468.0   \n",
       "1           1423.0            330.0           1698.0            468.0   \n",
       "2           1423.0            330.0           1698.0            468.0   \n",
       "3           1423.0            330.0           1698.0            468.0   \n",
       "4           1423.0            330.0           1698.0            468.0   \n",
       "\n",
       "   a3_click_amount  a3_order_amount  click_buy_timegap  cart_buy_timegap  \\\n",
       "0           1133.0            321.0                NaN               NaN   \n",
       "1           1133.0            321.0                NaN               NaN   \n",
       "2           1133.0            321.0                NaN               NaN   \n",
       "3           1133.0            321.0                NaN               NaN   \n",
       "4           1133.0            321.0                NaN               NaN   \n",
       "\n",
       "   collect_buy_timegap  product_conversion_ratio  \n",
       "0                  NaN                       NaN  \n",
       "1                  NaN                       NaN  \n",
       "2                  NaN                       NaN  \n",
       "3                  NaN                       NaN  \n",
       "4                  NaN                       NaN  \n",
       "\n",
       "[5 rows x 40 columns]"
      ]
     },
     "execution_count": 15,
     "metadata": {},
     "output_type": "execute_result"
    }
   ],
   "source": [
    "data_product.head()"
   ]
  },
  {
   "cell_type": "markdown",
   "metadata": {},
   "source": [
    "<font color=red size=3>2.3  3月target数据 </font>"
   ]
  },
  {
   "cell_type": "code",
   "execution_count": 16,
   "metadata": {},
   "outputs": [],
   "source": [
    "data_Action_201603=pd.read_csv('d:/data/jd/JData_Action_201603.csv')\n",
    "data_Action_201603_test=data_Action_201603[(data_Action_201603.time>'2016-03-26')&(data_Action_201603.time<'2016-03-30')]"
   ]
  },
  {
   "cell_type": "code",
   "execution_count": 17,
   "metadata": {},
   "outputs": [],
   "source": [
    "target_20160326=data_Action_201603_test[data_Action_201603_test['type']==4][['sku_id']]"
   ]
  },
  {
   "cell_type": "code",
   "execution_count": 18,
   "metadata": {},
   "outputs": [
    {
     "data": {
      "text/html": [
       "<div>\n",
       "<style scoped>\n",
       "    .dataframe tbody tr th:only-of-type {\n",
       "        vertical-align: middle;\n",
       "    }\n",
       "\n",
       "    .dataframe tbody tr th {\n",
       "        vertical-align: top;\n",
       "    }\n",
       "\n",
       "    .dataframe thead th {\n",
       "        text-align: right;\n",
       "    }\n",
       "</style>\n",
       "<table border=\"1\" class=\"dataframe\">\n",
       "  <thead>\n",
       "    <tr style=\"text-align: right;\">\n",
       "      <th></th>\n",
       "      <th>sku_id</th>\n",
       "      <th>target</th>\n",
       "    </tr>\n",
       "  </thead>\n",
       "  <tbody>\n",
       "    <tr>\n",
       "      <th>21631174</th>\n",
       "      <td>34648</td>\n",
       "      <td>1</td>\n",
       "    </tr>\n",
       "    <tr>\n",
       "      <th>21634297</th>\n",
       "      <td>133134</td>\n",
       "      <td>1</td>\n",
       "    </tr>\n",
       "    <tr>\n",
       "      <th>21637212</th>\n",
       "      <td>126146</td>\n",
       "      <td>1</td>\n",
       "    </tr>\n",
       "    <tr>\n",
       "      <th>21642945</th>\n",
       "      <td>32876</td>\n",
       "      <td>1</td>\n",
       "    </tr>\n",
       "    <tr>\n",
       "      <th>21643252</th>\n",
       "      <td>21183</td>\n",
       "      <td>1</td>\n",
       "    </tr>\n",
       "  </tbody>\n",
       "</table>\n",
       "</div>"
      ],
      "text/plain": [
       "          sku_id  target\n",
       "21631174   34648       1\n",
       "21634297  133134       1\n",
       "21637212  126146       1\n",
       "21642945   32876       1\n",
       "21643252   21183       1"
      ]
     },
     "execution_count": 18,
     "metadata": {},
     "output_type": "execute_result"
    }
   ],
   "source": [
    "target_20160326['target']=1\n",
    "target_20160326.head()"
   ]
  },
  {
   "cell_type": "markdown",
   "metadata": {},
   "source": [
    "<font color=red size=3>2.4   3月近期行为数据 </font>"
   ]
  },
  {
   "cell_type": "markdown",
   "metadata": {},
   "source": [
    "<font color=red size=3> 3月各商品点击数量，加购物车数量 </font>"
   ]
  },
  {
   "cell_type": "code",
   "execution_count": 19,
   "metadata": {},
   "outputs": [],
   "source": [
    "def get_sku_action(data_train): \n",
    "    global target_20160326,data_product\n",
    "    recent_clicks=data_train[data_train['type']==1][['sku_id','type']].groupby('sku_id').sum().reset_index()\n",
    "    data_for_model=pd.merge(data_product,recent_clicks,on='sku_id',how='left').rename(columns={'type':'recent_clicks'})\n",
    "    recent_carts=data_train[data_train['type']==2][['sku_id','type']].groupby('sku_id').count().reset_index()\n",
    "    data_for_model=pd.merge(data_for_model,recent_carts,on='sku_id',how='left').rename(columns={'type':'recent_carts'})\n",
    "    recent_cartsout=data_train[data_train['type']==3][['sku_id','type']].groupby('sku_id').count().reset_index()\n",
    "    data_for_model=pd.merge(data_for_model,recent_cartsout,on='sku_id',how='left').rename(columns={'type':'recent_cartsout'})\n",
    "    recent_orders=data_train[data_train['type']==4][['sku_id','type']].groupby('sku_id').count().reset_index()\n",
    "    data_for_model=pd.merge(data_for_model,recent_orders,on='sku_id',how='left').rename(columns={'type':'recent_orders'})\n",
    "    recent_collect=data_train[data_train['type']==5][['sku_id','type']].groupby('sku_id').count().reset_index()\n",
    "    data_for_model=pd.merge(data_for_model,recent_collect,on='sku_id',how='left').rename(columns={'type':'recent_collect'})\n",
    "    recent_detail_click=data_train[data_train['type']==6][['sku_id','type']].groupby('sku_id').count().reset_index()\n",
    "    data_for_model=pd.merge(data_for_model,recent_detail_click,on='sku_id',how='left').rename(columns={'type':'recent_detail_click'})\n",
    "    data_for_model['recent_cart_click_ratio']=data_for_model['recent_carts']/data_for_model['recent_clicks']\n",
    "    target_20160326=pd.merge(data_for_model,target_20160326,on='sku_id',how='left')"
   ]
  },
  {
   "cell_type": "code",
   "execution_count": 20,
   "metadata": {},
   "outputs": [],
   "source": [
    "data_Action_201603=pd.read_csv('d:/data/jd/JData_Action_201603.csv')\n",
    "data_Action_20160321_train=data_Action_201603[(data_Action_201603.time>'2016-03-21')&(data_Action_201603.time<'2016-03-26')]"
   ]
  },
  {
   "cell_type": "code",
   "execution_count": 21,
   "metadata": {},
   "outputs": [],
   "source": [
    "get_sku_action(data_Action_20160321_train)"
   ]
  },
  {
   "cell_type": "markdown",
   "metadata": {},
   "source": [
    "<font color=red size=3> 3月各商品点击时间相关数据 </font>"
   ]
  },
  {
   "cell_type": "code",
   "execution_count": 22,
   "metadata": {},
   "outputs": [],
   "source": [
    "def get_sku_actiontime(data_train):\n",
    "    global target_20160326\n",
    "    data_train.time=pd.to_datetime(data_train.time)\n",
    "    user_sku_time=data_train[['user_id','sku_id','time']].groupby(['user_id','sku_id']).time.apply(lambda x:x-x.shift(1))\n",
    "    data_train['recent_click_time']=user_sku_time/np.timedelta64(1, 's')\n",
    "    data_train['recent_click_time']=data_train['recent_click_time'][data_train['recent_click_time']<400]\n",
    "    recent_click_number=data_train[['sku_id','recent_click_time']].groupby('sku_id').count().reset_index()\n",
    "    recent_click_number=recent_click_number.rename(columns={'recent_click_time':'recent_click_number'})\n",
    "    recent_click_time=data_train[['sku_id','recent_click_time']].groupby('sku_id').sum().reset_index()    \n",
    "    recent_perclick_time=pd.merge(recent_click_time,recent_click_number,on='sku_id')\n",
    "    target_20160326=pd.merge(target_20160326,recent_perclick_time,on='sku_id',how='left')    "
   ]
  },
  {
   "cell_type": "code",
   "execution_count": 23,
   "metadata": {},
   "outputs": [],
   "source": [
    "get_sku_actiontime(data_Action_20160321_train)"
   ]
  },
  {
   "cell_type": "code",
   "execution_count": 24,
   "metadata": {},
   "outputs": [],
   "source": [
    "target_20160326['recent_perclick_tim']=target_20160326[['recent_click_time','recent_click_number']].apply(lambda x:x['recent_click_time']/x['recent_click_number'],axis=1)"
   ]
  },
  {
   "cell_type": "markdown",
   "metadata": {},
   "source": [
    "<font color=red size=3> 2.5  4月target数据 </font>"
   ]
  },
  {
   "cell_type": "code",
   "execution_count": 25,
   "metadata": {},
   "outputs": [
    {
     "data": {
      "text/html": [
       "<div>\n",
       "<style scoped>\n",
       "    .dataframe tbody tr th:only-of-type {\n",
       "        vertical-align: middle;\n",
       "    }\n",
       "\n",
       "    .dataframe tbody tr th {\n",
       "        vertical-align: top;\n",
       "    }\n",
       "\n",
       "    .dataframe thead th {\n",
       "        text-align: right;\n",
       "    }\n",
       "</style>\n",
       "<table border=\"1\" class=\"dataframe\">\n",
       "  <thead>\n",
       "    <tr style=\"text-align: right;\">\n",
       "      <th></th>\n",
       "      <th>user_id</th>\n",
       "      <th>sku_id</th>\n",
       "      <th>time</th>\n",
       "      <th>model_id</th>\n",
       "      <th>type</th>\n",
       "      <th>cate</th>\n",
       "      <th>brand</th>\n",
       "    </tr>\n",
       "  </thead>\n",
       "  <tbody>\n",
       "    <tr>\n",
       "      <th>0</th>\n",
       "      <td>287842</td>\n",
       "      <td>75018</td>\n",
       "      <td>2016-03-31 23:59:01</td>\n",
       "      <td>14.0</td>\n",
       "      <td>6</td>\n",
       "      <td>9</td>\n",
       "      <td>630</td>\n",
       "    </tr>\n",
       "    <tr>\n",
       "      <th>1</th>\n",
       "      <td>208266</td>\n",
       "      <td>31662</td>\n",
       "      <td>2016-03-31 23:59:04</td>\n",
       "      <td>NaN</td>\n",
       "      <td>1</td>\n",
       "      <td>8</td>\n",
       "      <td>545</td>\n",
       "    </tr>\n",
       "    <tr>\n",
       "      <th>2</th>\n",
       "      <td>209390</td>\n",
       "      <td>118799</td>\n",
       "      <td>2016-03-31 23:59:05</td>\n",
       "      <td>111.0</td>\n",
       "      <td>6</td>\n",
       "      <td>8</td>\n",
       "      <td>244</td>\n",
       "    </tr>\n",
       "    <tr>\n",
       "      <th>3</th>\n",
       "      <td>237311</td>\n",
       "      <td>5825</td>\n",
       "      <td>2016-03-31 23:59:05</td>\n",
       "      <td>NaN</td>\n",
       "      <td>1</td>\n",
       "      <td>8</td>\n",
       "      <td>885</td>\n",
       "    </tr>\n",
       "    <tr>\n",
       "      <th>4</th>\n",
       "      <td>257651</td>\n",
       "      <td>128104</td>\n",
       "      <td>2016-03-31 23:59:05</td>\n",
       "      <td>NaN</td>\n",
       "      <td>1</td>\n",
       "      <td>4</td>\n",
       "      <td>300</td>\n",
       "    </tr>\n",
       "  </tbody>\n",
       "</table>\n",
       "</div>"
      ],
      "text/plain": [
       "   user_id  sku_id                 time  model_id  type  cate  brand\n",
       "0   287842   75018  2016-03-31 23:59:01      14.0     6     9    630\n",
       "1   208266   31662  2016-03-31 23:59:04       NaN     1     8    545\n",
       "2   209390  118799  2016-03-31 23:59:05     111.0     6     8    244\n",
       "3   237311    5825  2016-03-31 23:59:05       NaN     1     8    885\n",
       "4   257651  128104  2016-03-31 23:59:05       NaN     1     4    300"
      ]
     },
     "execution_count": 25,
     "metadata": {},
     "output_type": "execute_result"
    }
   ],
   "source": [
    "data_Action_201604=pd.read_csv('d:/data/jd/JData_Action_201604.csv')\n",
    "data_Action_201604.head()"
   ]
  },
  {
   "cell_type": "code",
   "execution_count": 26,
   "metadata": {},
   "outputs": [],
   "source": [
    "data_Action_201604_target=data_Action_201604[(data_Action_201604.time>'2016-04-06')&(data_Action_201604.time<'2016-04-11')]"
   ]
  },
  {
   "cell_type": "code",
   "execution_count": 27,
   "metadata": {},
   "outputs": [
    {
     "data": {
      "text/html": [
       "<div>\n",
       "<style scoped>\n",
       "    .dataframe tbody tr th:only-of-type {\n",
       "        vertical-align: middle;\n",
       "    }\n",
       "\n",
       "    .dataframe tbody tr th {\n",
       "        vertical-align: top;\n",
       "    }\n",
       "\n",
       "    .dataframe thead th {\n",
       "        text-align: right;\n",
       "    }\n",
       "</style>\n",
       "<table border=\"1\" class=\"dataframe\">\n",
       "  <thead>\n",
       "    <tr style=\"text-align: right;\">\n",
       "      <th></th>\n",
       "      <th>sku_id</th>\n",
       "      <th>target</th>\n",
       "    </tr>\n",
       "  </thead>\n",
       "  <tbody>\n",
       "    <tr>\n",
       "      <th>3880117</th>\n",
       "      <td>11036</td>\n",
       "      <td>1</td>\n",
       "    </tr>\n",
       "    <tr>\n",
       "      <th>3880118</th>\n",
       "      <td>105850</td>\n",
       "      <td>1</td>\n",
       "    </tr>\n",
       "    <tr>\n",
       "      <th>3880746</th>\n",
       "      <td>95399</td>\n",
       "      <td>1</td>\n",
       "    </tr>\n",
       "    <tr>\n",
       "      <th>3882552</th>\n",
       "      <td>22876</td>\n",
       "      <td>1</td>\n",
       "    </tr>\n",
       "    <tr>\n",
       "      <th>3883757</th>\n",
       "      <td>100874</td>\n",
       "      <td>1</td>\n",
       "    </tr>\n",
       "  </tbody>\n",
       "</table>\n",
       "</div>"
      ],
      "text/plain": [
       "         sku_id  target\n",
       "3880117   11036       1\n",
       "3880118  105850       1\n",
       "3880746   95399       1\n",
       "3882552   22876       1\n",
       "3883757  100874       1"
      ]
     },
     "execution_count": 27,
     "metadata": {},
     "output_type": "execute_result"
    }
   ],
   "source": [
    "target_201604=data_Action_201604_target[data_Action_201604_target['type']==4][['sku_id']]\n",
    "target_201604['target']=1\n",
    "target_201604.head()"
   ]
  },
  {
   "cell_type": "markdown",
   "metadata": {},
   "source": [
    "<font color=red size=3> 4月行为数据 </font>"
   ]
  },
  {
   "cell_type": "markdown",
   "metadata": {},
   "source": [
    "<font color=red size=3> 4月各商品点击数量，加购物车数量 </font>"
   ]
  },
  {
   "cell_type": "code",
   "execution_count": 28,
   "metadata": {},
   "outputs": [],
   "source": [
    "def get_sku_action(data_train): \n",
    "    global target_201604,data_product\n",
    "    recent_clicks=data_train[data_train['type']==1][['sku_id','type']].groupby('sku_id').sum().reset_index()\n",
    "    data_for_model=pd.merge(data_product,recent_clicks,on='sku_id',how='left').rename(columns={'type':'recent_clicks'})\n",
    "    recent_carts=data_train[data_train['type']==2][['sku_id','type']].groupby('sku_id').count().reset_index()\n",
    "    data_for_model=pd.merge(data_for_model,recent_carts,on='sku_id',how='left').rename(columns={'type':'recent_carts'})\n",
    "    recent_cartsout=data_train[data_train['type']==3][['sku_id','type']].groupby('sku_id').count().reset_index()\n",
    "    data_for_model=pd.merge(data_for_model,recent_cartsout,on='sku_id',how='left').rename(columns={'type':'recent_cartsout'})\n",
    "    recent_orders=data_train[data_train['type']==4][['sku_id','type']].groupby('sku_id').count().reset_index()\n",
    "    data_for_model=pd.merge(data_for_model,recent_orders,on='sku_id',how='left').rename(columns={'type':'recent_orders'})\n",
    "    recent_collect=data_train[data_train['type']==5][['sku_id','type']].groupby('sku_id').count().reset_index()\n",
    "    data_for_model=pd.merge(data_for_model,recent_collect,on='sku_id',how='left').rename(columns={'type':'recent_collect'})\n",
    "    recent_detail_click=data_train[data_train['type']==6][['sku_id','type']].groupby('sku_id').count().reset_index()\n",
    "    data_for_model=pd.merge(data_for_model,recent_detail_click,on='sku_id',how='left').rename(columns={'type':'recent_detail_click'})\n",
    "    data_for_model['recent_cart_click_ratio']=data_for_model['recent_carts']/data_for_model['recent_clicks']\n",
    "    target_201604=pd.merge(data_for_model,target_201604,on='sku_id',how='left')"
   ]
  },
  {
   "cell_type": "code",
   "execution_count": 29,
   "metadata": {},
   "outputs": [],
   "source": [
    "data_Action_201604=pd.read_csv('d:/data/jd/JData_Action_201604.csv')\n",
    "data_Action_201604_train=data_Action_201604[(data_Action_201604.time>'2016-04-01')&(data_Action_201604.time<'2016-04-06')]\n"
   ]
  },
  {
   "cell_type": "code",
   "execution_count": 30,
   "metadata": {},
   "outputs": [],
   "source": [
    "get_sku_action(data_Action_201604_train)"
   ]
  },
  {
   "cell_type": "markdown",
   "metadata": {},
   "source": [
    "<font color=red size=3> 4月各商品停留时间 </font>"
   ]
  },
  {
   "cell_type": "code",
   "execution_count": 31,
   "metadata": {},
   "outputs": [],
   "source": [
    "def get_sku_actiontime(data_train):\n",
    "    global target_201604\n",
    "    data_train.time=pd.to_datetime(data_train.time)\n",
    "    user_sku_time=data_train[['user_id','sku_id','time']].groupby(['user_id','sku_id']).time.apply(lambda x:x-x.shift(1))\n",
    "    data_train['recent_click_time']=user_sku_time/np.timedelta64(1, 's')\n",
    "    data_train['recent_click_time']=data_train['recent_click_time'][data_train['recent_click_time']<400]\n",
    "    recent_click_number=data_train[['sku_id','recent_click_time']].groupby('sku_id').count().reset_index()\n",
    "    recent_click_number=recent_click_number.rename(columns={'recent_click_time':'recent_click_number'})\n",
    "    recent_click_time=data_train[['sku_id','recent_click_time']].groupby('sku_id').sum().reset_index()    \n",
    "    recent_perclick_time=pd.merge(recent_click_time,recent_click_number,on='sku_id')\n",
    "    target_201604=pd.merge(target_201604,recent_perclick_time,on='sku_id',how='left')    "
   ]
  },
  {
   "cell_type": "code",
   "execution_count": 32,
   "metadata": {},
   "outputs": [],
   "source": [
    "get_sku_actiontime(data_Action_201604_train)"
   ]
  },
  {
   "cell_type": "code",
   "execution_count": 33,
   "metadata": {},
   "outputs": [],
   "source": [
    "target_201604['recent_perclick_tim']=target_201604[['recent_click_time','recent_click_number']].apply(lambda x:x['recent_click_time']/x['recent_click_number'],axis=1)"
   ]
  },
  {
   "cell_type": "markdown",
   "metadata": {},
   "source": [
    "<font color=red size=3> 3月+4月数据拼接 </font>"
   ]
  },
  {
   "cell_type": "code",
   "execution_count": 34,
   "metadata": {},
   "outputs": [],
   "source": [
    "data_for_model=pd.concat([target_20160326,target_201604]).reset_index(drop=True)"
   ]
  },
  {
   "cell_type": "code",
   "execution_count": 35,
   "metadata": {},
   "outputs": [
    {
     "data": {
      "text/html": [
       "<div>\n",
       "<style scoped>\n",
       "    .dataframe tbody tr th:only-of-type {\n",
       "        vertical-align: middle;\n",
       "    }\n",
       "\n",
       "    .dataframe tbody tr th {\n",
       "        vertical-align: top;\n",
       "    }\n",
       "\n",
       "    .dataframe thead th {\n",
       "        text-align: right;\n",
       "    }\n",
       "</style>\n",
       "<table border=\"1\" class=\"dataframe\">\n",
       "  <thead>\n",
       "    <tr style=\"text-align: right;\">\n",
       "      <th></th>\n",
       "      <th>sku_id</th>\n",
       "      <th>a1</th>\n",
       "      <th>a2</th>\n",
       "      <th>a3</th>\n",
       "      <th>brand_sku_count</th>\n",
       "      <th>comment_num</th>\n",
       "      <th>has_bad_comment</th>\n",
       "      <th>bad_comment_rate</th>\n",
       "      <th>product_click_amount</th>\n",
       "      <th>product_cart_amount</th>\n",
       "      <th>...</th>\n",
       "      <th>recent_carts</th>\n",
       "      <th>recent_cartsout</th>\n",
       "      <th>recent_orders</th>\n",
       "      <th>recent_collect</th>\n",
       "      <th>recent_detail_click</th>\n",
       "      <th>recent_cart_click_ratio</th>\n",
       "      <th>target</th>\n",
       "      <th>recent_click_time</th>\n",
       "      <th>recent_click_number</th>\n",
       "      <th>recent_perclick_tim</th>\n",
       "    </tr>\n",
       "  </thead>\n",
       "  <tbody>\n",
       "    <tr>\n",
       "      <th>0</th>\n",
       "      <td>10011</td>\n",
       "      <td>3.0</td>\n",
       "      <td>1.0</td>\n",
       "      <td>1.0</td>\n",
       "      <td>6444.0</td>\n",
       "      <td>4.0</td>\n",
       "      <td>1.0</td>\n",
       "      <td>0.0239</td>\n",
       "      <td>6.0</td>\n",
       "      <td>NaN</td>\n",
       "      <td>...</td>\n",
       "      <td>NaN</td>\n",
       "      <td>NaN</td>\n",
       "      <td>NaN</td>\n",
       "      <td>NaN</td>\n",
       "      <td>NaN</td>\n",
       "      <td>NaN</td>\n",
       "      <td>NaN</td>\n",
       "      <td>NaN</td>\n",
       "      <td>NaN</td>\n",
       "      <td>NaN</td>\n",
       "    </tr>\n",
       "    <tr>\n",
       "      <th>1</th>\n",
       "      <td>101116</td>\n",
       "      <td>3.0</td>\n",
       "      <td>1.0</td>\n",
       "      <td>1.0</td>\n",
       "      <td>6444.0</td>\n",
       "      <td>3.0</td>\n",
       "      <td>0.0</td>\n",
       "      <td>0.0000</td>\n",
       "      <td>214.0</td>\n",
       "      <td>NaN</td>\n",
       "      <td>...</td>\n",
       "      <td>NaN</td>\n",
       "      <td>NaN</td>\n",
       "      <td>NaN</td>\n",
       "      <td>NaN</td>\n",
       "      <td>34.0</td>\n",
       "      <td>NaN</td>\n",
       "      <td>NaN</td>\n",
       "      <td>220.0</td>\n",
       "      <td>44.0</td>\n",
       "      <td>5.000000</td>\n",
       "    </tr>\n",
       "    <tr>\n",
       "      <th>2</th>\n",
       "      <td>10133</td>\n",
       "      <td>3.0</td>\n",
       "      <td>1.0</td>\n",
       "      <td>1.0</td>\n",
       "      <td>6444.0</td>\n",
       "      <td>3.0</td>\n",
       "      <td>1.0</td>\n",
       "      <td>0.0294</td>\n",
       "      <td>305.0</td>\n",
       "      <td>5.0</td>\n",
       "      <td>...</td>\n",
       "      <td>NaN</td>\n",
       "      <td>NaN</td>\n",
       "      <td>NaN</td>\n",
       "      <td>NaN</td>\n",
       "      <td>50.0</td>\n",
       "      <td>NaN</td>\n",
       "      <td>NaN</td>\n",
       "      <td>557.0</td>\n",
       "      <td>72.0</td>\n",
       "      <td>7.736111</td>\n",
       "    </tr>\n",
       "    <tr>\n",
       "      <th>3</th>\n",
       "      <td>10223</td>\n",
       "      <td>3.0</td>\n",
       "      <td>1.0</td>\n",
       "      <td>1.0</td>\n",
       "      <td>6444.0</td>\n",
       "      <td>NaN</td>\n",
       "      <td>NaN</td>\n",
       "      <td>NaN</td>\n",
       "      <td>72.0</td>\n",
       "      <td>NaN</td>\n",
       "      <td>...</td>\n",
       "      <td>NaN</td>\n",
       "      <td>NaN</td>\n",
       "      <td>NaN</td>\n",
       "      <td>NaN</td>\n",
       "      <td>23.0</td>\n",
       "      <td>NaN</td>\n",
       "      <td>NaN</td>\n",
       "      <td>170.0</td>\n",
       "      <td>27.0</td>\n",
       "      <td>6.296296</td>\n",
       "    </tr>\n",
       "    <tr>\n",
       "      <th>4</th>\n",
       "      <td>103386</td>\n",
       "      <td>3.0</td>\n",
       "      <td>1.0</td>\n",
       "      <td>1.0</td>\n",
       "      <td>6444.0</td>\n",
       "      <td>4.0</td>\n",
       "      <td>1.0</td>\n",
       "      <td>0.0213</td>\n",
       "      <td>8.0</td>\n",
       "      <td>NaN</td>\n",
       "      <td>...</td>\n",
       "      <td>NaN</td>\n",
       "      <td>NaN</td>\n",
       "      <td>NaN</td>\n",
       "      <td>NaN</td>\n",
       "      <td>NaN</td>\n",
       "      <td>NaN</td>\n",
       "      <td>NaN</td>\n",
       "      <td>NaN</td>\n",
       "      <td>NaN</td>\n",
       "      <td>NaN</td>\n",
       "    </tr>\n",
       "  </tbody>\n",
       "</table>\n",
       "<p>5 rows × 51 columns</p>\n",
       "</div>"
      ],
      "text/plain": [
       "   sku_id   a1   a2   a3  brand_sku_count  comment_num  has_bad_comment  \\\n",
       "0   10011  3.0  1.0  1.0           6444.0          4.0              1.0   \n",
       "1  101116  3.0  1.0  1.0           6444.0          3.0              0.0   \n",
       "2   10133  3.0  1.0  1.0           6444.0          3.0              1.0   \n",
       "3   10223  3.0  1.0  1.0           6444.0          NaN              NaN   \n",
       "4  103386  3.0  1.0  1.0           6444.0          4.0              1.0   \n",
       "\n",
       "   bad_comment_rate  product_click_amount  product_cart_amount  ...  \\\n",
       "0            0.0239                   6.0                  NaN  ...   \n",
       "1            0.0000                 214.0                  NaN  ...   \n",
       "2            0.0294                 305.0                  5.0  ...   \n",
       "3               NaN                  72.0                  NaN  ...   \n",
       "4            0.0213                   8.0                  NaN  ...   \n",
       "\n",
       "   recent_carts  recent_cartsout  recent_orders  recent_collect  \\\n",
       "0           NaN              NaN            NaN             NaN   \n",
       "1           NaN              NaN            NaN             NaN   \n",
       "2           NaN              NaN            NaN             NaN   \n",
       "3           NaN              NaN            NaN             NaN   \n",
       "4           NaN              NaN            NaN             NaN   \n",
       "\n",
       "   recent_detail_click  recent_cart_click_ratio  target  recent_click_time  \\\n",
       "0                  NaN                      NaN     NaN                NaN   \n",
       "1                 34.0                      NaN     NaN              220.0   \n",
       "2                 50.0                      NaN     NaN              557.0   \n",
       "3                 23.0                      NaN     NaN              170.0   \n",
       "4                  NaN                      NaN     NaN                NaN   \n",
       "\n",
       "   recent_click_number  recent_perclick_tim  \n",
       "0                  NaN                  NaN  \n",
       "1                 44.0             5.000000  \n",
       "2                 72.0             7.736111  \n",
       "3                 27.0             6.296296  \n",
       "4                  NaN                  NaN  \n",
       "\n",
       "[5 rows x 51 columns]"
      ]
     },
     "execution_count": 35,
     "metadata": {},
     "output_type": "execute_result"
    }
   ],
   "source": [
    "data_for_model.head()"
   ]
  },
  {
   "cell_type": "code",
   "execution_count": 36,
   "metadata": {},
   "outputs": [
    {
     "name": "stdout",
     "output_type": "stream",
     "text": [
      "<class 'pandas.core.frame.DataFrame'>\n",
      "RangeIndex: 50245 entries, 0 to 50244\n",
      "Data columns (total 51 columns):\n",
      "sku_id                          50245 non-null int64\n",
      "a1                              7937 non-null float64\n",
      "a2                              7937 non-null float64\n",
      "a3                              7937 non-null float64\n",
      "brand_sku_count                 7937 non-null float64\n",
      "comment_num                     6519 non-null float64\n",
      "has_bad_comment                 6519 non-null float64\n",
      "bad_comment_rate                6519 non-null float64\n",
      "product_click_amount            7937 non-null float64\n",
      "product_cart_amount             5843 non-null float64\n",
      "product_cartout_amount          5331 non-null float64\n",
      "product_order_amount            3321 non-null float64\n",
      "product_collect_amount          5379 non-null float64\n",
      "product_detail_cilick_amount    7915 non-null float64\n",
      "cart_rate                       5843 non-null float64\n",
      "cartout_rate                    5331 non-null float64\n",
      "collect_rate                    5379 non-null float64\n",
      "detailclick_rate                7915 non-null float64\n",
      "user_amount                     7937 non-null float64\n",
      "click_per_user                  7937 non-null float64\n",
      "product_click3plus_usercount    7937 non-null float64\n",
      "click_time                      8893 non-null float64\n",
      "brand_click_amount              7937 non-null float64\n",
      "brand_cart_amount               7937 non-null float64\n",
      "brand_cartout_amount            7937 non-null float64\n",
      "brand_order_amount              7937 non-null float64\n",
      "brand_collect_amount            7937 non-null float64\n",
      "brandt_detail_cilick_amount     7937 non-null float64\n",
      "brand_order_click_rate          7937 non-null float64\n",
      "brand_click_time                7937 non-null float64\n",
      "a1_click_amount                 7937 non-null float64\n",
      "a1_order_amount                 7937 non-null float64\n",
      "a2_click_amount                 7937 non-null float64\n",
      "a2_order_amount                 7937 non-null float64\n",
      "a3_click_amount                 7937 non-null float64\n",
      "a3_order_amount                 7937 non-null float64\n",
      "click_buy_timegap               3325 non-null float64\n",
      "cart_buy_timegap                3198 non-null float64\n",
      "collect_buy_timegap             2260 non-null float64\n",
      "product_conversion_ratio        3321 non-null float64\n",
      "recent_clicks                   7062 non-null float64\n",
      "recent_carts                    4051 non-null float64\n",
      "recent_cartsout                 3626 non-null float64\n",
      "recent_orders                   2089 non-null float64\n",
      "recent_collect                  3261 non-null float64\n",
      "recent_detail_click             6972 non-null float64\n",
      "recent_cart_click_ratio         4048 non-null float64\n",
      "target                          2407 non-null float64\n",
      "recent_click_time               7099 non-null float64\n",
      "recent_click_number             7099 non-null float64\n",
      "recent_perclick_tim             6984 non-null float64\n",
      "dtypes: float64(50), int64(1)\n",
      "memory usage: 19.6 MB\n"
     ]
    }
   ],
   "source": [
    "data_for_model.info()"
   ]
  },
  {
   "cell_type": "code",
   "execution_count": null,
   "metadata": {},
   "outputs": [],
   "source": []
  },
  {
   "cell_type": "markdown",
   "metadata": {},
   "source": [
    "<font color=red size=3> 模块三、 建模数据准备 </font>"
   ]
  },
  {
   "cell_type": "code",
   "execution_count": 37,
   "metadata": {},
   "outputs": [],
   "source": [
    "model_data=data_for_model\n"
   ]
  },
  {
   "cell_type": "code",
   "execution_count": 38,
   "metadata": {},
   "outputs": [
    {
     "data": {
      "text/html": [
       "<div>\n",
       "<style scoped>\n",
       "    .dataframe tbody tr th:only-of-type {\n",
       "        vertical-align: middle;\n",
       "    }\n",
       "\n",
       "    .dataframe tbody tr th {\n",
       "        vertical-align: top;\n",
       "    }\n",
       "\n",
       "    .dataframe thead th {\n",
       "        text-align: right;\n",
       "    }\n",
       "</style>\n",
       "<table border=\"1\" class=\"dataframe\">\n",
       "  <thead>\n",
       "    <tr style=\"text-align: right;\">\n",
       "      <th></th>\n",
       "      <th>sku_id</th>\n",
       "      <th>a1</th>\n",
       "      <th>a2</th>\n",
       "      <th>a3</th>\n",
       "      <th>brand_sku_count</th>\n",
       "      <th>comment_num</th>\n",
       "      <th>has_bad_comment</th>\n",
       "      <th>bad_comment_rate</th>\n",
       "      <th>product_click_amount</th>\n",
       "      <th>product_cart_amount</th>\n",
       "      <th>...</th>\n",
       "      <th>recent_carts</th>\n",
       "      <th>recent_cartsout</th>\n",
       "      <th>recent_orders</th>\n",
       "      <th>recent_collect</th>\n",
       "      <th>recent_detail_click</th>\n",
       "      <th>recent_cart_click_ratio</th>\n",
       "      <th>target</th>\n",
       "      <th>recent_click_time</th>\n",
       "      <th>recent_click_number</th>\n",
       "      <th>recent_perclick_tim</th>\n",
       "    </tr>\n",
       "  </thead>\n",
       "  <tbody>\n",
       "    <tr>\n",
       "      <th>0</th>\n",
       "      <td>10011</td>\n",
       "      <td>3.0</td>\n",
       "      <td>1.0</td>\n",
       "      <td>1.0</td>\n",
       "      <td>6444.0</td>\n",
       "      <td>4.0</td>\n",
       "      <td>1.0</td>\n",
       "      <td>0.0239</td>\n",
       "      <td>6.0</td>\n",
       "      <td>NaN</td>\n",
       "      <td>...</td>\n",
       "      <td>NaN</td>\n",
       "      <td>NaN</td>\n",
       "      <td>NaN</td>\n",
       "      <td>NaN</td>\n",
       "      <td>NaN</td>\n",
       "      <td>NaN</td>\n",
       "      <td>0.0</td>\n",
       "      <td>NaN</td>\n",
       "      <td>NaN</td>\n",
       "      <td>NaN</td>\n",
       "    </tr>\n",
       "    <tr>\n",
       "      <th>1</th>\n",
       "      <td>101116</td>\n",
       "      <td>3.0</td>\n",
       "      <td>1.0</td>\n",
       "      <td>1.0</td>\n",
       "      <td>6444.0</td>\n",
       "      <td>3.0</td>\n",
       "      <td>0.0</td>\n",
       "      <td>0.0000</td>\n",
       "      <td>214.0</td>\n",
       "      <td>NaN</td>\n",
       "      <td>...</td>\n",
       "      <td>NaN</td>\n",
       "      <td>NaN</td>\n",
       "      <td>NaN</td>\n",
       "      <td>NaN</td>\n",
       "      <td>34.0</td>\n",
       "      <td>NaN</td>\n",
       "      <td>0.0</td>\n",
       "      <td>220.0</td>\n",
       "      <td>44.0</td>\n",
       "      <td>5.000000</td>\n",
       "    </tr>\n",
       "    <tr>\n",
       "      <th>2</th>\n",
       "      <td>10133</td>\n",
       "      <td>3.0</td>\n",
       "      <td>1.0</td>\n",
       "      <td>1.0</td>\n",
       "      <td>6444.0</td>\n",
       "      <td>3.0</td>\n",
       "      <td>1.0</td>\n",
       "      <td>0.0294</td>\n",
       "      <td>305.0</td>\n",
       "      <td>5.0</td>\n",
       "      <td>...</td>\n",
       "      <td>NaN</td>\n",
       "      <td>NaN</td>\n",
       "      <td>NaN</td>\n",
       "      <td>NaN</td>\n",
       "      <td>50.0</td>\n",
       "      <td>NaN</td>\n",
       "      <td>0.0</td>\n",
       "      <td>557.0</td>\n",
       "      <td>72.0</td>\n",
       "      <td>7.736111</td>\n",
       "    </tr>\n",
       "    <tr>\n",
       "      <th>3</th>\n",
       "      <td>10223</td>\n",
       "      <td>3.0</td>\n",
       "      <td>1.0</td>\n",
       "      <td>1.0</td>\n",
       "      <td>6444.0</td>\n",
       "      <td>NaN</td>\n",
       "      <td>NaN</td>\n",
       "      <td>NaN</td>\n",
       "      <td>72.0</td>\n",
       "      <td>NaN</td>\n",
       "      <td>...</td>\n",
       "      <td>NaN</td>\n",
       "      <td>NaN</td>\n",
       "      <td>NaN</td>\n",
       "      <td>NaN</td>\n",
       "      <td>23.0</td>\n",
       "      <td>NaN</td>\n",
       "      <td>0.0</td>\n",
       "      <td>170.0</td>\n",
       "      <td>27.0</td>\n",
       "      <td>6.296296</td>\n",
       "    </tr>\n",
       "    <tr>\n",
       "      <th>4</th>\n",
       "      <td>103386</td>\n",
       "      <td>3.0</td>\n",
       "      <td>1.0</td>\n",
       "      <td>1.0</td>\n",
       "      <td>6444.0</td>\n",
       "      <td>4.0</td>\n",
       "      <td>1.0</td>\n",
       "      <td>0.0213</td>\n",
       "      <td>8.0</td>\n",
       "      <td>NaN</td>\n",
       "      <td>...</td>\n",
       "      <td>NaN</td>\n",
       "      <td>NaN</td>\n",
       "      <td>NaN</td>\n",
       "      <td>NaN</td>\n",
       "      <td>NaN</td>\n",
       "      <td>NaN</td>\n",
       "      <td>0.0</td>\n",
       "      <td>NaN</td>\n",
       "      <td>NaN</td>\n",
       "      <td>NaN</td>\n",
       "    </tr>\n",
       "  </tbody>\n",
       "</table>\n",
       "<p>5 rows × 51 columns</p>\n",
       "</div>"
      ],
      "text/plain": [
       "   sku_id   a1   a2   a3  brand_sku_count  comment_num  has_bad_comment  \\\n",
       "0   10011  3.0  1.0  1.0           6444.0          4.0              1.0   \n",
       "1  101116  3.0  1.0  1.0           6444.0          3.0              0.0   \n",
       "2   10133  3.0  1.0  1.0           6444.0          3.0              1.0   \n",
       "3   10223  3.0  1.0  1.0           6444.0          NaN              NaN   \n",
       "4  103386  3.0  1.0  1.0           6444.0          4.0              1.0   \n",
       "\n",
       "   bad_comment_rate  product_click_amount  product_cart_amount  ...  \\\n",
       "0            0.0239                   6.0                  NaN  ...   \n",
       "1            0.0000                 214.0                  NaN  ...   \n",
       "2            0.0294                 305.0                  5.0  ...   \n",
       "3               NaN                  72.0                  NaN  ...   \n",
       "4            0.0213                   8.0                  NaN  ...   \n",
       "\n",
       "   recent_carts  recent_cartsout  recent_orders  recent_collect  \\\n",
       "0           NaN              NaN            NaN             NaN   \n",
       "1           NaN              NaN            NaN             NaN   \n",
       "2           NaN              NaN            NaN             NaN   \n",
       "3           NaN              NaN            NaN             NaN   \n",
       "4           NaN              NaN            NaN             NaN   \n",
       "\n",
       "   recent_detail_click  recent_cart_click_ratio  target  recent_click_time  \\\n",
       "0                  NaN                      NaN     0.0                NaN   \n",
       "1                 34.0                      NaN     0.0              220.0   \n",
       "2                 50.0                      NaN     0.0              557.0   \n",
       "3                 23.0                      NaN     0.0              170.0   \n",
       "4                  NaN                      NaN     0.0                NaN   \n",
       "\n",
       "   recent_click_number  recent_perclick_tim  \n",
       "0                  NaN                  NaN  \n",
       "1                 44.0             5.000000  \n",
       "2                 72.0             7.736111  \n",
       "3                 27.0             6.296296  \n",
       "4                  NaN                  NaN  \n",
       "\n",
       "[5 rows x 51 columns]"
      ]
     },
     "execution_count": 38,
     "metadata": {},
     "output_type": "execute_result"
    }
   ],
   "source": [
    "model_data.target.fillna(0,inplace=True)\n",
    "model_data.head()"
   ]
  },
  {
   "cell_type": "code",
   "execution_count": 39,
   "metadata": {},
   "outputs": [
    {
     "data": {
      "text/plain": [
       "50245"
      ]
     },
     "execution_count": 39,
     "metadata": {},
     "output_type": "execute_result"
    }
   ],
   "source": [
    "model_data['target'].count()"
   ]
  },
  {
   "cell_type": "code",
   "execution_count": 40,
   "metadata": {},
   "outputs": [
    {
     "data": {
      "text/plain": [
       "2407.0"
      ]
     },
     "execution_count": 40,
     "metadata": {},
     "output_type": "execute_result"
    }
   ],
   "source": [
    "model_data['target'].sum()"
   ]
  },
  {
   "cell_type": "code",
   "execution_count": 41,
   "metadata": {},
   "outputs": [],
   "source": [
    "model_data=model_data.drop(columns=\"sku_id\")"
   ]
  },
  {
   "cell_type": "code",
   "execution_count": 42,
   "metadata": {},
   "outputs": [
    {
     "data": {
      "text/plain": [
       "Index(['a1', 'a2', 'a3', 'brand_sku_count', 'comment_num', 'has_bad_comment',\n",
       "       'bad_comment_rate', 'product_click_amount', 'product_cart_amount',\n",
       "       'product_cartout_amount', 'product_order_amount',\n",
       "       'product_collect_amount', 'product_detail_cilick_amount', 'cart_rate',\n",
       "       'cartout_rate', 'collect_rate', 'detailclick_rate', 'user_amount',\n",
       "       'click_per_user', 'product_click3plus_usercount', 'click_time',\n",
       "       'brand_click_amount', 'brand_cart_amount', 'brand_cartout_amount',\n",
       "       'brand_order_amount', 'brand_collect_amount',\n",
       "       'brandt_detail_cilick_amount', 'brand_order_click_rate',\n",
       "       'brand_click_time', 'a1_click_amount', 'a1_order_amount',\n",
       "       'a2_click_amount', 'a2_order_amount', 'a3_click_amount',\n",
       "       'a3_order_amount', 'click_buy_timegap', 'cart_buy_timegap',\n",
       "       'collect_buy_timegap', 'product_conversion_ratio', 'recent_clicks',\n",
       "       'recent_carts', 'recent_cartsout', 'recent_orders', 'recent_collect',\n",
       "       'recent_detail_click', 'recent_cart_click_ratio', 'target',\n",
       "       'recent_click_time', 'recent_click_number', 'recent_perclick_tim'],\n",
       "      dtype='object')"
      ]
     },
     "execution_count": 42,
     "metadata": {},
     "output_type": "execute_result"
    }
   ],
   "source": [
    "model_data.columns"
   ]
  },
  {
   "cell_type": "markdown",
   "metadata": {},
   "source": [
    "<font color=red size=3> 行为规则 </font>"
   ]
  },
  {
   "cell_type": "code",
   "execution_count": 44,
   "metadata": {},
   "outputs": [],
   "source": [
    "model_data=model_data[model_data['product_click_amount'].notna()]\n",
    "model_data=model_data[model_data['recent_clicks'].notna()]\n",
    "model_data=model_data[model_data['recent_clicks']>2]\n",
    "model_data=model_data[model_data['product_click_amount']>19]\n",
    "model_data=model_data[model_data['recent_click_time']>6]\n",
    "model_data=model_data[model_data['recent_detail_click']>7]\n",
    "model_data=model_data[model_data['click_time'].notna()]"
   ]
  },
  {
   "cell_type": "code",
   "execution_count": 45,
   "metadata": {},
   "outputs": [
    {
     "name": "stdout",
     "output_type": "stream",
     "text": [
      "<class 'pandas.core.frame.DataFrame'>\n",
      "Int64Index: 5920 entries, 1 to 29080\n",
      "Data columns (total 50 columns):\n",
      "a1                              5920 non-null float64\n",
      "a2                              5920 non-null float64\n",
      "a3                              5920 non-null float64\n",
      "brand_sku_count                 5920 non-null float64\n",
      "comment_num                     5223 non-null float64\n",
      "has_bad_comment                 5223 non-null float64\n",
      "bad_comment_rate                5223 non-null float64\n",
      "product_click_amount            5920 non-null float64\n",
      "product_cart_amount             5183 non-null float64\n",
      "product_cartout_amount          4879 non-null float64\n",
      "product_order_amount            3263 non-null float64\n",
      "product_collect_amount          4910 non-null float64\n",
      "product_detail_cilick_amount    5920 non-null float64\n",
      "cart_rate                       5183 non-null float64\n",
      "cartout_rate                    4879 non-null float64\n",
      "collect_rate                    4910 non-null float64\n",
      "detailclick_rate                5920 non-null float64\n",
      "user_amount                     5920 non-null float64\n",
      "click_per_user                  5920 non-null float64\n",
      "product_click3plus_usercount    5920 non-null float64\n",
      "click_time                      5920 non-null float64\n",
      "brand_click_amount              5920 non-null float64\n",
      "brand_cart_amount               5920 non-null float64\n",
      "brand_cartout_amount            5920 non-null float64\n",
      "brand_order_amount              5920 non-null float64\n",
      "brand_collect_amount            5920 non-null float64\n",
      "brandt_detail_cilick_amount     5920 non-null float64\n",
      "brand_order_click_rate          5920 non-null float64\n",
      "brand_click_time                5920 non-null float64\n",
      "a1_click_amount                 5920 non-null float64\n",
      "a1_order_amount                 5920 non-null float64\n",
      "a2_click_amount                 5920 non-null float64\n",
      "a2_order_amount                 5920 non-null float64\n",
      "a3_click_amount                 5920 non-null float64\n",
      "a3_order_amount                 5920 non-null float64\n",
      "click_buy_timegap               3263 non-null float64\n",
      "cart_buy_timegap                3153 non-null float64\n",
      "collect_buy_timegap             2254 non-null float64\n",
      "product_conversion_ratio        3263 non-null float64\n",
      "recent_clicks                   5920 non-null float64\n",
      "recent_carts                    3981 non-null float64\n",
      "recent_cartsout                 3579 non-null float64\n",
      "recent_orders                   2085 non-null float64\n",
      "recent_collect                  3238 non-null float64\n",
      "recent_detail_click             5920 non-null float64\n",
      "recent_cart_click_ratio         3981 non-null float64\n",
      "target                          5920 non-null float64\n",
      "recent_click_time               5920 non-null float64\n",
      "recent_click_number             5920 non-null float64\n",
      "recent_perclick_tim             5920 non-null float64\n",
      "dtypes: float64(50)\n",
      "memory usage: 2.3 MB\n"
     ]
    }
   ],
   "source": [
    "model_data.info()"
   ]
  },
  {
   "cell_type": "code",
   "execution_count": 46,
   "metadata": {},
   "outputs": [
    {
     "data": {
      "text/plain": [
       "5920"
      ]
     },
     "execution_count": 46,
     "metadata": {},
     "output_type": "execute_result"
    }
   ],
   "source": [
    "model_data['target'].count()"
   ]
  },
  {
   "cell_type": "code",
   "execution_count": 47,
   "metadata": {},
   "outputs": [
    {
     "data": {
      "text/plain": [
       "2399.0"
      ]
     },
     "execution_count": 47,
     "metadata": {},
     "output_type": "execute_result"
    }
   ],
   "source": [
    "model_data['target'].sum()"
   ]
  },
  {
   "cell_type": "code",
   "execution_count": 48,
   "metadata": {},
   "outputs": [
    {
     "data": {
      "text/plain": [
       "Index(['a1', 'a2', 'a3', 'brand_sku_count', 'comment_num', 'has_bad_comment',\n",
       "       'bad_comment_rate', 'product_click_amount', 'product_cart_amount',\n",
       "       'product_cartout_amount', 'product_order_amount',\n",
       "       'product_collect_amount', 'product_detail_cilick_amount', 'cart_rate',\n",
       "       'cartout_rate', 'collect_rate', 'detailclick_rate', 'user_amount',\n",
       "       'click_per_user', 'product_click3plus_usercount', 'click_time',\n",
       "       'brand_click_amount', 'brand_cart_amount', 'brand_cartout_amount',\n",
       "       'brand_order_amount', 'brand_collect_amount',\n",
       "       'brandt_detail_cilick_amount', 'brand_order_click_rate',\n",
       "       'brand_click_time', 'a1_click_amount', 'a1_order_amount',\n",
       "       'a2_click_amount', 'a2_order_amount', 'a3_click_amount',\n",
       "       'a3_order_amount', 'click_buy_timegap', 'cart_buy_timegap',\n",
       "       'collect_buy_timegap', 'product_conversion_ratio', 'recent_clicks',\n",
       "       'recent_carts', 'recent_cartsout', 'recent_orders', 'recent_collect',\n",
       "       'recent_detail_click', 'recent_cart_click_ratio', 'target',\n",
       "       'recent_click_time', 'recent_click_number', 'recent_perclick_tim'],\n",
       "      dtype='object')"
      ]
     },
     "execution_count": 48,
     "metadata": {},
     "output_type": "execute_result"
    }
   ],
   "source": [
    "model_data.columns"
   ]
  },
  {
   "cell_type": "markdown",
   "metadata": {},
   "source": [
    "<font color=red size=3> 模块四  建模 </font>"
   ]
  },
  {
   "cell_type": "code",
   "execution_count": 49,
   "metadata": {},
   "outputs": [],
   "source": [
    "var_for_select=['a1', 'a2', 'a3', 'brand_sku_count', 'comment_num', 'has_bad_comment',\n",
    "       'bad_comment_rate', 'product_click_amount', 'product_cart_amount',\n",
    "       'product_cartout_amount', 'product_order_amount',\n",
    "       'product_collect_amount', 'product_detail_cilick_amount', 'cart_rate',\n",
    "       'cartout_rate', 'collect_rate', 'detailclick_rate', 'user_amount',\n",
    "       'click_per_user', 'product_click3plus_usercount', 'click_time',\n",
    "       'brand_click_amount', 'brand_cart_amount', 'brand_cartout_amount',\n",
    "       'brand_order_amount', 'brand_collect_amount',\n",
    "       'brandt_detail_cilick_amount', 'brand_order_click_rate',\n",
    "       'brand_click_time', 'a1_click_amount', 'a1_order_amount',\n",
    "       'a2_click_amount', 'a2_order_amount', 'a3_click_amount',\n",
    "       'a3_order_amount', 'click_buy_timegap', 'cart_buy_timegap',\n",
    "       'collect_buy_timegap', 'product_conversion_ratio', 'recent_clicks',\n",
    "       'recent_carts', 'recent_cartsout', 'recent_orders', 'recent_collect',\n",
    "       'recent_detail_click', 'recent_cart_click_ratio', \n",
    "       'recent_click_time', 'recent_click_number', 'recent_perclick_tim']"
   ]
  },
  {
   "cell_type": "code",
   "execution_count": 50,
   "metadata": {},
   "outputs": [],
   "source": [
    "x_data=model_data[var_for_select]\n",
    "y_data=model_data['target']"
   ]
  },
  {
   "cell_type": "code",
   "execution_count": 51,
   "metadata": {},
   "outputs": [],
   "source": [
    "from sklearn.model_selection import train_test_split\n",
    "\n",
    "x_train,x_test,y_train,y_test=train_test_split(x_data,y_data,train_size=0.7,test_size=0.3,random_state=1234)"
   ]
  },
  {
   "cell_type": "markdown",
   "metadata": {},
   "source": [
    "<font color=red size=3> BP神经网络建模 </font>"
   ]
  },
  {
   "cell_type": "code",
   "execution_count": 545,
   "metadata": {},
   "outputs": [],
   "source": [
    "from sklearn.preprocessing import MinMaxScaler\n",
    "\n",
    "scaler = MinMaxScaler()\n",
    "scaler.fit(x_train)\n",
    "\n",
    "scaled_x_train = scaler.transform(x_train)\n",
    "scaled_x_test = scaler.transform(x_test)"
   ]
  },
  {
   "cell_type": "code",
   "execution_count": 546,
   "metadata": {},
   "outputs": [],
   "source": [
    "from sklearn.neural_network import MLPClassifier\n",
    "\n",
    "mlp = MLPClassifier(hidden_layer_sizes=(10,), \n",
    "                    activation='logistic', alpha=0.1, max_iter=1000)"
   ]
  },
  {
   "cell_type": "code",
   "execution_count": 547,
   "metadata": {},
   "outputs": [
    {
     "data": {
      "text/plain": [
       "GridSearchCV(cv=4, error_score='raise-deprecating',\n",
       "       estimator=MLPClassifier(activation='relu', alpha=0.0001, batch_size='auto', beta_1=0.9,\n",
       "       beta_2=0.999, early_stopping=False, epsilon=1e-08,\n",
       "       hidden_layer_sizes=(100,), learning_rate='constant',\n",
       "       learning_rate_init=0.001, max_iter=1000, momentum=0.9,\n",
       "       n_iter_no_change=10, nesterovs_momentum=True, power_t=0.5,\n",
       "       random_state=None, shuffle=True, solver='adam', tol=0.0001,\n",
       "       validation_fraction=0.1, verbose=False, warm_start=False),\n",
       "       fit_params=None, iid='warn', n_jobs=-1,\n",
       "       param_grid={'hidden_layer_sizes': [(10,), (15,), (20,), (5, 5)], 'activation': ['logistic', 'tanh', 'relu'], 'alpha': [0.001, 0.01, 0.1, 0.2, 0.4, 1, 10]},\n",
       "       pre_dispatch='2*n_jobs', refit=True, return_train_score='warn',\n",
       "       scoring='roc_auc', verbose=0)"
      ]
     },
     "execution_count": 547,
     "metadata": {},
     "output_type": "execute_result"
    }
   ],
   "source": [
    "from sklearn.model_selection import GridSearchCV\n",
    "from sklearn import metrics\n",
    "\n",
    "param_grid = {\n",
    "    'hidden_layer_sizes':[(10, ), (15, ), (20, ), (5, 5)],\n",
    "    'activation':['logistic', 'tanh', 'relu'], \n",
    "    'alpha':[0.001, 0.01, 0.1, 0.2, 0.4, 1, 10]\n",
    "}\n",
    "mlp = MLPClassifier(max_iter=1000)\n",
    "gcv = GridSearchCV(estimator=mlp, param_grid=param_grid, \n",
    "                   scoring='f1', cv=4, n_jobs=-1)\n",
    "gcv.fit(scaled_x_train, y_train)"
   ]
  },
  {
   "cell_type": "code",
   "execution_count": 548,
   "metadata": {},
   "outputs": [
    {
     "data": {
      "text/plain": [
       "{'activation': 'relu', 'alpha': 0.01, 'hidden_layer_sizes': (5, 5)}"
      ]
     },
     "execution_count": 548,
     "metadata": {},
     "output_type": "execute_result"
    }
   ],
   "source": [
    "gcv.best_params_"
   ]
  },
  {
   "cell_type": "code",
   "execution_count": 549,
   "metadata": {},
   "outputs": [
    {
     "data": {
      "text/plain": [
       "MLPClassifier(activation='relu', alpha=0.01, batch_size='auto', beta_1=0.9,\n",
       "       beta_2=0.999, early_stopping=False, epsilon=1e-08,\n",
       "       hidden_layer_sizes=(5, 5), learning_rate='constant',\n",
       "       learning_rate_init=0.001, max_iter=1000, momentum=0.9,\n",
       "       n_iter_no_change=10, nesterovs_momentum=True, power_t=0.5,\n",
       "       random_state=None, shuffle=True, solver='adam', tol=0.0001,\n",
       "       validation_fraction=0.1, verbose=False, warm_start=False)"
      ]
     },
     "execution_count": 549,
     "metadata": {},
     "output_type": "execute_result"
    }
   ],
   "source": [
    "mlp = MLPClassifier(hidden_layer_sizes=gcv.best_params_[\"hidden_layer_sizes\"], \n",
    "                    activation=gcv.best_params_[\"activation\"], alpha=gcv.best_params_[\"alpha\"], max_iter=1000)\n",
    "\n",
    "mlp.fit(scaled_x_train, y_train)"
   ]
  },
  {
   "cell_type": "code",
   "execution_count": 550,
   "metadata": {},
   "outputs": [
    {
     "name": "stdout",
     "output_type": "stream",
     "text": [
      "[[873   3]\n",
      " [ 44  40]]\n",
      "              precision    recall  f1-score   support\n",
      "\n",
      "         0.0       0.95      1.00      0.97       876\n",
      "         1.0       0.93      0.48      0.63        84\n",
      "\n",
      "   micro avg       0.95      0.95      0.95       960\n",
      "   macro avg       0.94      0.74      0.80       960\n",
      "weighted avg       0.95      0.95      0.94       960\n",
      "\n"
     ]
    }
   ],
   "source": [
    "y_train_predict = mlp.predict(scaled_x_train)\n",
    "y_test_predict = mlp.predict(scaled_x_test)\n",
    "y_train_proba = mlp.predict_proba(scaled_x_train)[:, 1]  \n",
    "y_test_proba = mlp.predict_proba(scaled_x_test)[:, 1]\n",
    "\n",
    "\n",
    "from sklearn import metrics\n",
    "print(metrics.confusion_matrix(y_test, y_test_predict, labels=[0, 1]))\n",
    "print(metrics.classification_report(y_test, y_test_predict))"
   ]
  },
  {
   "cell_type": "code",
   "execution_count": 551,
   "metadata": {},
   "outputs": [
    {
     "data": {
      "image/png": "[encoded data removed]",
      "text/plain": [
       "<Figure size 864x864 with 1 Axes>"
      ]
     },
     "metadata": {
      "needs_background": "light"
     },
     "output_type": "display_data"
    },
    {
     "name": "stdout",
     "output_type": "stream",
     "text": [
      "AUC = 0.9113\n"
     ]
    }
   ],
   "source": [
    "fpr_test, tpr_test, th_test = metrics.roc_curve(y_test, y_test_proba)\n",
    "fpr_train, tpr_train, th_train = metrics.roc_curve(y_train, y_train_proba)\n",
    "\n",
    "plt.figure(figsize=[12, 12])\n",
    "plt.plot(fpr_test, tpr_test, 'b-')\n",
    "plt.plot(fpr_train, tpr_train, 'r-')\n",
    "plt.title('ROC curve')\n",
    "plt.show()\n",
    "\n",
    "print('AUC = %6.4f' %metrics.auc(fpr_test, tpr_test))"
   ]
  },
  {
   "cell_type": "code",
   "execution_count": null,
   "metadata": {},
   "outputs": [],
   "source": []
  },
  {
   "cell_type": "markdown",
   "metadata": {},
   "source": [
    "<font color=red size=3> Random Forest建模 </font>"
   ]
  },
  {
   "cell_type": "code",
   "execution_count": 581,
   "metadata": {},
   "outputs": [],
   "source": [
    "param_grid = {\n",
    "    'criterion':['entropy','gini'],\n",
    "    'max_depth':[6,7,8],\n",
    "    'n_estimators':[13,15,20],  #决策树个数-随机森林特有参数\n",
    "    'max_features':[0.2,0.3,0.4,], #每棵决策树使用的变量占比-随机森林特有参数\n",
    "    'min_samples_split':[8,10,12],\n",
    "    'class_weight':[{1:10,0:1},{1:5,0:1}]\n",
    "}"
   ]
  },
  {
   "cell_type": "code",
   "execution_count": 582,
   "metadata": {},
   "outputs": [
    {
     "data": {
      "text/plain": [
       "GridSearchCV(cv=4, error_score='raise-deprecating',\n",
       "       estimator=RandomForestClassifier(bootstrap=True, class_weight=None, criterion='gini',\n",
       "            max_depth=None, max_features='auto', max_leaf_nodes=None,\n",
       "            min_impurity_decrease=0.0, min_impurity_split=None,\n",
       "            min_samples_leaf=1, min_samples_split=2,\n",
       "            min_weight_fraction_leaf=0.0, n_estimators='warn', n_jobs=None,\n",
       "            oob_score=False, random_state=None, verbose=0,\n",
       "            warm_start=False),\n",
       "       fit_params=None, iid='warn', n_jobs=None,\n",
       "       param_grid={'criterion': ['entropy', 'gini'], 'max_depth': [6, 7, 8], 'n_estimators': [13, 15, 20], 'max_features': [0.2, 0.3, 0.4], 'min_samples_split': [8, 10, 12], 'class_weight': [{1: 10, 0: 1}, {1: 5, 0: 1}]},\n",
       "       pre_dispatch='2*n_jobs', refit=True, return_train_score='warn',\n",
       "       scoring='f1', verbose=0)"
      ]
     },
     "execution_count": 582,
     "metadata": {},
     "output_type": "execute_result"
    }
   ],
   "source": [
    "from sklearn import ensemble\n",
    "rfc = ensemble.RandomForestClassifier()\n",
    "rfccv = GridSearchCV(estimator=rfc, param_grid=param_grid, scoring='f1', cv=4)\n",
    "rfccv.fit(x_train, y_train)"
   ]
  },
  {
   "cell_type": "code",
   "execution_count": 583,
   "metadata": {},
   "outputs": [
    {
     "data": {
      "text/plain": [
       "{'class_weight': {1: 5, 0: 1},\n",
       " 'criterion': 'gini',\n",
       " 'max_depth': 6,\n",
       " 'max_features': 0.3,\n",
       " 'min_samples_split': 10,\n",
       " 'n_estimators': 13}"
      ]
     },
     "execution_count": 583,
     "metadata": {},
     "output_type": "execute_result"
    }
   ],
   "source": [
    "rfccv.best_params_"
   ]
  },
  {
   "cell_type": "code",
   "execution_count": 584,
   "metadata": {},
   "outputs": [],
   "source": [
    "y_train_predict = rfccv.predict(x_train)\n",
    "y_test_predict = rfccv.predict(x_test)\n",
    "y_train_proba = rfccv.predict_proba(x_train)[:, 1]  \n",
    "y_test_proba = rfccv.predict_proba(x_test)[:, 1]"
   ]
  },
  {
   "cell_type": "code",
   "execution_count": 585,
   "metadata": {},
   "outputs": [
    {
     "name": "stdout",
     "output_type": "stream",
     "text": [
      "RandomForest accuracy:\n",
      "              precision    recall  f1-score   support\n",
      "\n",
      "         0.0       0.97      0.97      0.97       876\n",
      "         1.0       0.67      0.71      0.69        84\n",
      "\n",
      "   micro avg       0.94      0.94      0.94       960\n",
      "   macro avg       0.82      0.84      0.83       960\n",
      "weighted avg       0.95      0.94      0.94       960\n",
      "\n"
     ]
    }
   ],
   "source": [
    "print(\"RandomForest accuracy:\")\n",
    "print(metrics.classification_report(y_test,y_test_predict))"
   ]
  },
  {
   "cell_type": "code",
   "execution_count": 586,
   "metadata": {},
   "outputs": [
    {
     "data": {
      "image/png": "[encoded data removed]",
      "text/plain": [
       "<Figure size 864x864 with 1 Axes>"
      ]
     },
     "metadata": {
      "needs_background": "light"
     },
     "output_type": "display_data"
    },
    {
     "name": "stdout",
     "output_type": "stream",
     "text": [
      "AUC = 0.9323\n"
     ]
    }
   ],
   "source": [
    "fpr_test, tpr_test, th_test = metrics.roc_curve(y_test, y_test_proba)\n",
    "fpr_train, tpr_train, th_train = metrics.roc_curve(y_train, y_train_proba)\n",
    "\n",
    "plt.figure(figsize=[12, 12])\n",
    "plt.plot(fpr_test, tpr_test, 'b-')\n",
    "plt.plot(fpr_train, tpr_train, 'r-')\n",
    "plt.title('ROC curve')\n",
    "plt.show()\n",
    "\n",
    "print('AUC = %6.4f' %metrics.auc(fpr_test, tpr_test))"
   ]
  },
  {
   "cell_type": "code",
   "execution_count": null,
   "metadata": {},
   "outputs": [],
   "source": []
  },
  {
   "cell_type": "markdown",
   "metadata": {},
   "source": [
    "<font color=red size=3> XGboost建模 </font>"
   ]
  },
  {
   "cell_type": "code",
   "execution_count": 52,
   "metadata": {},
   "outputs": [],
   "source": [
    "import xgboost as xgb"
   ]
  },
  {
   "cell_type": "code",
   "execution_count": 53,
   "metadata": {},
   "outputs": [],
   "source": [
    "dtrain=xgb.DMatrix(x_train,y_train)\n",
    "dtest=xgb.DMatrix(x_test,y_test)"
   ]
  },
  {
   "cell_type": "code",
   "execution_count": 54,
   "metadata": {},
   "outputs": [],
   "source": [
    "from xgboost.sklearn import XGBClassifier\n",
    "from sklearn.model_selection import GridSearchCV"
   ]
  },
  {
   "cell_type": "markdown",
   "metadata": {},
   "source": [
    "<font color=red size=3> 参数调优 </font>"
   ]
  },
  {
   "cell_type": "code",
   "execution_count": 133,
   "metadata": {},
   "outputs": [],
   "source": [
    "param_test1 = {\n",
    " 'max_depth':[6,8],\n",
    " 'n_estimators':[800,1000],\n",
    " 'learning_rate':[0.01,0.1]\n",
    "}"
   ]
  },
  {
   "cell_type": "code",
   "execution_count": 134,
   "metadata": {},
   "outputs": [
    {
     "data": {
      "text/plain": [
       "({'learning_rate': 0.01, 'max_depth': 6, 'n_estimators': 1000},\n",
       " 0.9349427864807082)"
      ]
     },
     "execution_count": 134,
     "metadata": {},
     "output_type": "execute_result"
    }
   ],
   "source": [
    "xgb_grid_search1 = GridSearchCV(estimator = XGBClassifier(\n",
    "    #max_depth=6,\n",
    "    #n_estimators=800,\n",
    "    #learning_rate=0.01,\n",
    "    min_child_weight=1, \n",
    "    gamma=0, \n",
    "    subsample=0.8,\n",
    "    colsample_bytree=0.8,\n",
    "    objective= 'binary:logistic', \n",
    "    nthread=4, \n",
    "    scale_pos_weight=1, seed=27), \n",
    "    param_grid = param_test1,\n",
    "    scoring='f1',n_jobs=4,iid=False, cv=5)\n",
    "xgb_grid_search1.fit(x_train,y_train)\n",
    "xgb_grid_search1.best_params_,xgb_grid_search1.best_score_"
   ]
  },
  {
   "cell_type": "code",
   "execution_count": 162,
   "metadata": {},
   "outputs": [],
   "source": [
    "param_test1 = {\n",
    "    'min_child_weight':[15,18],\n",
    "   'gamma':[i/10.0 for i in range(0,5)], \n",
    "    #'subsample':[0.3,0.5,0.8],\n",
    "   #'colsample_bytree':[0.8,1]\n",
    "    'scale_pos_weight':[1,2,3]\n",
    "}"
   ]
  },
  {
   "cell_type": "code",
   "execution_count": 163,
   "metadata": {},
   "outputs": [
    {
     "data": {
      "text/plain": [
       "({'gamma': 0.3, 'min_child_weight': 15, 'scale_pos_weight': 1},\n",
       " 0.9351227258811712)"
      ]
     },
     "execution_count": 163,
     "metadata": {},
     "output_type": "execute_result"
    }
   ],
   "source": [
    "xgb_grid_search1 = GridSearchCV(estimator = XGBClassifier(\n",
    "    max_depth=8,\n",
    "    n_estimators=800,\n",
    "    learning_rate=0.01,\n",
    "    #min_child_weight=15, \n",
    "    #gamma=0, \n",
    "    subsample=0.8,\n",
    "    colsample_bytree=0.8,\n",
    "    objective= 'binary:logistic', \n",
    "    nthread=4, \n",
    "    #scale_pos_weight=1, \n",
    "    seed=27), \n",
    "    param_grid = param_test1,\n",
    "    scoring='f1',n_jobs=4,iid=False, cv=4)\n",
    "xgb_grid_search1.fit(x_train,y_train)\n",
    "xgb_grid_search1.best_params_,xgb_grid_search1.best_score_"
   ]
  },
  {
   "cell_type": "code",
   "execution_count": 55,
   "metadata": {},
   "outputs": [],
   "source": [
    "params = {\n",
    "        'n_estimators':1000,\n",
    "        'eta': 0.01, \n",
    "        'max_depth': 6, \n",
    "        'gamma':0.3,\n",
    "        'min_child_weight':15,\n",
    "        'subsample': 0.8, \n",
    "        'colsample_bytree': 1, \n",
    "        'objective': 'binary:logistic', \n",
    "        'eval_metric': 'error', \n",
    "        'seed': 99, \n",
    "        'silent': True,\n",
    "        'scale_pos_weight':1\n",
    "    }"
   ]
  },
  {
   "cell_type": "code",
   "execution_count": 56,
   "metadata": {},
   "outputs": [],
   "source": [
    "watchlist=[(dtrain,'train'),(dtest,'eval')]"
   ]
  },
  {
   "cell_type": "code",
   "execution_count": 57,
   "metadata": {},
   "outputs": [
    {
     "name": "stdout",
     "output_type": "stream",
     "text": [
      "[0]\ttrain-error:0.063465\teval-error:0.059685\n",
      "Multiple eval metrics have been passed: 'eval-error' will be used for early stopping.\n",
      "\n",
      "Will train until eval-error hasn't improved in 100 rounds.\n",
      "[10]\ttrain-error:0.063465\teval-error:0.063626\n",
      "[20]\ttrain-error:0.061052\teval-error:0.058559\n",
      "[30]\ttrain-error:0.060569\teval-error:0.060248\n",
      "[40]\ttrain-error:0.051641\teval-error:0.059122\n",
      "[50]\ttrain-error:0.050917\teval-error:0.059685\n",
      "[60]\ttrain-error:0.051641\teval-error:0.059685\n",
      "[70]\ttrain-error:0.051158\teval-error:0.060248\n",
      "[80]\ttrain-error:0.049952\teval-error:0.060811\n",
      "[90]\ttrain-error:0.050193\teval-error:0.060811\n",
      "[100]\ttrain-error:0.04971\teval-error:0.0625\n",
      "[110]\ttrain-error:0.049952\teval-error:0.061937\n",
      "Stopping. Best iteration:\n",
      "[13]\ttrain-error:0.061535\teval-error:0.057432\n",
      "\n"
     ]
    }
   ],
   "source": [
    "xgbmodel = xgb.train(params,dtrain,evals=watchlist,num_boost_round=3000,early_stopping_rounds=100,verbose_eval=10)"
   ]
  },
  {
   "cell_type": "code",
   "execution_count": 58,
   "metadata": {},
   "outputs": [],
   "source": [
    "from xgboost import plot_importance"
   ]
  },
  {
   "cell_type": "code",
   "execution_count": 59,
   "metadata": {},
   "outputs": [
    {
     "data": {
      "text/plain": [
       "<matplotlib.axes._subplots.AxesSubplot at 0x1ec82254e10>"
      ]
     },
     "execution_count": 59,
     "metadata": {},
     "output_type": "execute_result"
    },
    {
     "data": {
      "image/png": "[encoded data removed]",
      "text/plain": [
       "<Figure size 864x864 with 1 Axes>"
      ]
     },
     "metadata": {
      "needs_background": "light"
     },
     "output_type": "display_data"
    }
   ],
   "source": [
    "fig,ax = plt.subplots(figsize=(12,12))\n",
    "plot_importance(xgbmodel,ax=ax)"
   ]
  },
  {
   "cell_type": "code",
   "execution_count": 60,
   "metadata": {},
   "outputs": [],
   "source": [
    "x_train_d=xgb.DMatrix(x_train)\n",
    "x_test_d=xgb.DMatrix(x_test)"
   ]
  },
  {
   "cell_type": "code",
   "execution_count": 67,
   "metadata": {},
   "outputs": [],
   "source": [
    "def threshold(x):\n",
    "    if x>0.39:\n",
    "        x=1\n",
    "    else:\n",
    "        x=0\n",
    "    return x"
   ]
  },
  {
   "cell_type": "code",
   "execution_count": 68,
   "metadata": {},
   "outputs": [],
   "source": [
    "y_train_proba = xgbmodel.predict(x_train_d)  \n",
    "y_test_proba = xgbmodel.predict(x_test_d)\n",
    "y_train_predict = [threshold(i) for i in y_train_proba]\n",
    "y_test_predict = [threshold(i) for i in y_test_proba]"
   ]
  },
  {
   "cell_type": "code",
   "execution_count": 69,
   "metadata": {},
   "outputs": [
    {
     "name": "stdout",
     "output_type": "stream",
     "text": [
      "xgboost accuracy:\n",
      "              precision    recall  f1-score   support\n",
      "\n",
      "         0.0       0.96      0.93      0.94      1065\n",
      "         1.0       0.90      0.94      0.92       711\n",
      "\n",
      "   micro avg       0.93      0.93      0.93      1776\n",
      "   macro avg       0.93      0.93      0.93      1776\n",
      "weighted avg       0.93      0.93      0.93      1776\n",
      "\n"
     ]
    }
   ],
   "source": [
    "from sklearn import metrics\n",
    "print(\"xgboost accuracy:\")\n",
    "print(metrics.classification_report(y_test,y_test_predict))"
   ]
  },
  {
   "cell_type": "code",
   "execution_count": 63,
   "metadata": {},
   "outputs": [
    {
     "data": {
      "text/plain": [
       "4.8883125"
      ]
     },
     "execution_count": 63,
     "metadata": {},
     "output_type": "execute_result"
    }
   ],
   "source": [
    "5*0.93 *0.95 /2*0.95+3*0.93  "
   ]
  },
  {
   "cell_type": "code",
   "execution_count": 70,
   "metadata": {},
   "outputs": [
    {
     "data": {
      "image/png": "[encoded data removed]",
      "text/plain": [
       "<Figure size 720x720 with 2 Axes>"
      ]
     },
     "metadata": {
      "needs_background": "light"
     },
     "output_type": "display_data"
    }
   ],
   "source": [
    "from sklearn.metrics import confusion_matrix\n",
    "classes = list(set(y_test))\n",
    "classes.sort()\n",
    "confusion = confusion_matrix(y_test_predict, y_test)\n",
    "plt.figure(figsize=[10, 10])\n",
    "plt.imshow(confusion, cmap=plt.cm.Blues)\n",
    "indices = range(len(confusion))\n",
    "plt.xticks(indices, classes)\n",
    "plt.yticks(indices, classes)\n",
    "plt.colorbar()\n",
    "plt.xlabel('guess')\n",
    "plt.ylabel('fact')\n",
    "for first_index in range(len(confusion)):\n",
    "    for second_index in range(len(confusion[first_index])):\n",
    "        plt.text(first_index, second_index, confusion[first_index][second_index],fontsize='xx-large',color='red')\n",
    "plt.show()"
   ]
  },
  {
   "cell_type": "code",
   "execution_count": 71,
   "metadata": {},
   "outputs": [
    {
     "name": "stdout",
     "output_type": "stream",
     "text": [
      "AUC = 0.9790\n"
     ]
    },
    {
     "data": {
      "image/png": "[encoded data removed]",
      "text/plain": [
       "<Figure size 864x864 with 1 Axes>"
      ]
     },
     "metadata": {
      "needs_background": "light"
     },
     "output_type": "display_data"
    }
   ],
   "source": [
    "\n",
    "fpr_test, tpr_test, th_test = metrics.roc_curve(y_test, y_test_proba)\n",
    "fpr_train, tpr_train, th_train = metrics.roc_curve(y_train, y_train_proba)\n",
    "print('AUC = %6.4f' %metrics.auc(fpr_test, tpr_test))\n",
    "plt.figure(figsize=[12, 12])\n",
    "plt.plot(fpr_test, tpr_test, 'b-')\n",
    "plt.plot(fpr_train, tpr_train, 'r-')\n",
    "plt.title('ROC curve')\n",
    "plt.show()\n",
    "\n"
   ]
  },
  {
   "cell_type": "code",
   "execution_count": 321,
   "metadata": {},
   "outputs": [],
   "source": [
    "data_fot_ana=pd.DataFrame(y_test)"
   ]
  },
  {
   "cell_type": "code",
   "execution_count": 322,
   "metadata": {},
   "outputs": [
    {
     "data": {
      "text/html": [
       "<div>\n",
       "<style scoped>\n",
       "    .dataframe tbody tr th:only-of-type {\n",
       "        vertical-align: middle;\n",
       "    }\n",
       "\n",
       "    .dataframe tbody tr th {\n",
       "        vertical-align: top;\n",
       "    }\n",
       "\n",
       "    .dataframe thead th {\n",
       "        text-align: right;\n",
       "    }\n",
       "</style>\n",
       "<table border=\"1\" class=\"dataframe\">\n",
       "  <thead>\n",
       "    <tr style=\"text-align: right;\">\n",
       "      <th></th>\n",
       "      <th>target</th>\n",
       "      <th>predict</th>\n",
       "    </tr>\n",
       "  </thead>\n",
       "  <tbody>\n",
       "    <tr>\n",
       "      <th>1068</th>\n",
       "      <td>1.0</td>\n",
       "      <td>0.748816</td>\n",
       "    </tr>\n",
       "    <tr>\n",
       "      <th>27023</th>\n",
       "      <td>1.0</td>\n",
       "      <td>0.836565</td>\n",
       "    </tr>\n",
       "    <tr>\n",
       "      <th>27642</th>\n",
       "      <td>1.0</td>\n",
       "      <td>0.836565</td>\n",
       "    </tr>\n",
       "    <tr>\n",
       "      <th>236</th>\n",
       "      <td>0.0</td>\n",
       "      <td>0.415299</td>\n",
       "    </tr>\n",
       "    <tr>\n",
       "      <th>27076</th>\n",
       "      <td>1.0</td>\n",
       "      <td>0.836565</td>\n",
       "    </tr>\n",
       "  </tbody>\n",
       "</table>\n",
       "</div>"
      ],
      "text/plain": [
       "       target   predict\n",
       "1068      1.0  0.748816\n",
       "27023     1.0  0.836565\n",
       "27642     1.0  0.836565\n",
       "236       0.0  0.415299\n",
       "27076     1.0  0.836565"
      ]
     },
     "execution_count": 322,
     "metadata": {},
     "output_type": "execute_result"
    }
   ],
   "source": [
    "data_fot_ana['predict']=y_test_proba\n",
    "data_fot_ana.head()"
   ]
  },
  {
   "cell_type": "code",
   "execution_count": 327,
   "metadata": {},
   "outputs": [
    {
     "data": {
      "text/html": [
       "<div>\n",
       "<style scoped>\n",
       "    .dataframe tbody tr th:only-of-type {\n",
       "        vertical-align: middle;\n",
       "    }\n",
       "\n",
       "    .dataframe tbody tr th {\n",
       "        vertical-align: top;\n",
       "    }\n",
       "\n",
       "    .dataframe thead th {\n",
       "        text-align: right;\n",
       "    }\n",
       "</style>\n",
       "<table border=\"1\" class=\"dataframe\">\n",
       "  <thead>\n",
       "    <tr style=\"text-align: right;\">\n",
       "      <th></th>\n",
       "      <th>target</th>\n",
       "      <th>predict</th>\n",
       "      <th>brand_order_click_rate</th>\n",
       "    </tr>\n",
       "  </thead>\n",
       "  <tbody>\n",
       "    <tr>\n",
       "      <th>26313</th>\n",
       "      <td>1.0</td>\n",
       "      <td>0.174810</td>\n",
       "      <td>0.000000</td>\n",
       "    </tr>\n",
       "    <tr>\n",
       "      <th>25904</th>\n",
       "      <td>1.0</td>\n",
       "      <td>0.179980</td>\n",
       "      <td>0.071429</td>\n",
       "    </tr>\n",
       "    <tr>\n",
       "      <th>2010</th>\n",
       "      <td>1.0</td>\n",
       "      <td>0.292078</td>\n",
       "      <td>0.104651</td>\n",
       "    </tr>\n",
       "    <tr>\n",
       "      <th>2915</th>\n",
       "      <td>1.0</td>\n",
       "      <td>0.198917</td>\n",
       "      <td>0.106145</td>\n",
       "    </tr>\n",
       "    <tr>\n",
       "      <th>1904</th>\n",
       "      <td>1.0</td>\n",
       "      <td>0.224479</td>\n",
       "      <td>0.146939</td>\n",
       "    </tr>\n",
       "    <tr>\n",
       "      <th>27242</th>\n",
       "      <td>1.0</td>\n",
       "      <td>0.448424</td>\n",
       "      <td>0.146939</td>\n",
       "    </tr>\n",
       "    <tr>\n",
       "      <th>25113</th>\n",
       "      <td>1.0</td>\n",
       "      <td>0.170787</td>\n",
       "      <td>0.146939</td>\n",
       "    </tr>\n",
       "    <tr>\n",
       "      <th>24779</th>\n",
       "      <td>1.0</td>\n",
       "      <td>0.836565</td>\n",
       "      <td>0.217593</td>\n",
       "    </tr>\n",
       "    <tr>\n",
       "      <th>24783</th>\n",
       "      <td>1.0</td>\n",
       "      <td>0.836565</td>\n",
       "      <td>0.217593</td>\n",
       "    </tr>\n",
       "    <tr>\n",
       "      <th>24807</th>\n",
       "      <td>1.0</td>\n",
       "      <td>0.224813</td>\n",
       "      <td>0.217593</td>\n",
       "    </tr>\n",
       "    <tr>\n",
       "      <th>24837</th>\n",
       "      <td>1.0</td>\n",
       "      <td>0.836565</td>\n",
       "      <td>0.217593</td>\n",
       "    </tr>\n",
       "    <tr>\n",
       "      <th>24840</th>\n",
       "      <td>1.0</td>\n",
       "      <td>0.836565</td>\n",
       "      <td>0.217593</td>\n",
       "    </tr>\n",
       "    <tr>\n",
       "      <th>24841</th>\n",
       "      <td>1.0</td>\n",
       "      <td>0.836565</td>\n",
       "      <td>0.217593</td>\n",
       "    </tr>\n",
       "    <tr>\n",
       "      <th>24843</th>\n",
       "      <td>1.0</td>\n",
       "      <td>0.836565</td>\n",
       "      <td>0.217593</td>\n",
       "    </tr>\n",
       "    <tr>\n",
       "      <th>15</th>\n",
       "      <td>1.0</td>\n",
       "      <td>0.753341</td>\n",
       "      <td>0.217593</td>\n",
       "    </tr>\n",
       "    <tr>\n",
       "      <th>24911</th>\n",
       "      <td>1.0</td>\n",
       "      <td>0.171288</td>\n",
       "      <td>0.217593</td>\n",
       "    </tr>\n",
       "    <tr>\n",
       "      <th>24776</th>\n",
       "      <td>1.0</td>\n",
       "      <td>0.836565</td>\n",
       "      <td>0.217593</td>\n",
       "    </tr>\n",
       "    <tr>\n",
       "      <th>28872</th>\n",
       "      <td>1.0</td>\n",
       "      <td>0.836565</td>\n",
       "      <td>0.217593</td>\n",
       "    </tr>\n",
       "    <tr>\n",
       "      <th>26546</th>\n",
       "      <td>1.0</td>\n",
       "      <td>0.185336</td>\n",
       "      <td>0.217593</td>\n",
       "    </tr>\n",
       "    <tr>\n",
       "      <th>26586</th>\n",
       "      <td>1.0</td>\n",
       "      <td>0.836565</td>\n",
       "      <td>0.217593</td>\n",
       "    </tr>\n",
       "    <tr>\n",
       "      <th>26587</th>\n",
       "      <td>1.0</td>\n",
       "      <td>0.836565</td>\n",
       "      <td>0.217593</td>\n",
       "    </tr>\n",
       "    <tr>\n",
       "      <th>24866</th>\n",
       "      <td>1.0</td>\n",
       "      <td>0.170195</td>\n",
       "      <td>0.217593</td>\n",
       "    </tr>\n",
       "    <tr>\n",
       "      <th>24774</th>\n",
       "      <td>1.0</td>\n",
       "      <td>0.836565</td>\n",
       "      <td>0.217593</td>\n",
       "    </tr>\n",
       "    <tr>\n",
       "      <th>24760</th>\n",
       "      <td>1.0</td>\n",
       "      <td>0.171594</td>\n",
       "      <td>0.217593</td>\n",
       "    </tr>\n",
       "    <tr>\n",
       "      <th>26590</th>\n",
       "      <td>1.0</td>\n",
       "      <td>0.836565</td>\n",
       "      <td>0.217593</td>\n",
       "    </tr>\n",
       "    <tr>\n",
       "      <th>1422</th>\n",
       "      <td>1.0</td>\n",
       "      <td>0.836565</td>\n",
       "      <td>0.217593</td>\n",
       "    </tr>\n",
       "    <tr>\n",
       "      <th>1423</th>\n",
       "      <td>1.0</td>\n",
       "      <td>0.836565</td>\n",
       "      <td>0.217593</td>\n",
       "    </tr>\n",
       "    <tr>\n",
       "      <th>1424</th>\n",
       "      <td>1.0</td>\n",
       "      <td>0.836565</td>\n",
       "      <td>0.217593</td>\n",
       "    </tr>\n",
       "    <tr>\n",
       "      <th>1529</th>\n",
       "      <td>1.0</td>\n",
       "      <td>0.226713</td>\n",
       "      <td>0.217593</td>\n",
       "    </tr>\n",
       "    <tr>\n",
       "      <th>1559</th>\n",
       "      <td>1.0</td>\n",
       "      <td>0.398299</td>\n",
       "      <td>0.217593</td>\n",
       "    </tr>\n",
       "    <tr>\n",
       "      <th>...</th>\n",
       "      <td>...</td>\n",
       "      <td>...</td>\n",
       "      <td>...</td>\n",
       "    </tr>\n",
       "    <tr>\n",
       "      <th>27942</th>\n",
       "      <td>1.0</td>\n",
       "      <td>0.836565</td>\n",
       "      <td>0.558140</td>\n",
       "    </tr>\n",
       "    <tr>\n",
       "      <th>25814</th>\n",
       "      <td>1.0</td>\n",
       "      <td>0.807046</td>\n",
       "      <td>0.558140</td>\n",
       "    </tr>\n",
       "    <tr>\n",
       "      <th>25823</th>\n",
       "      <td>1.0</td>\n",
       "      <td>0.807046</td>\n",
       "      <td>0.558140</td>\n",
       "    </tr>\n",
       "    <tr>\n",
       "      <th>25830</th>\n",
       "      <td>1.0</td>\n",
       "      <td>0.784864</td>\n",
       "      <td>0.558140</td>\n",
       "    </tr>\n",
       "    <tr>\n",
       "      <th>25831</th>\n",
       "      <td>1.0</td>\n",
       "      <td>0.784864</td>\n",
       "      <td>0.558140</td>\n",
       "    </tr>\n",
       "    <tr>\n",
       "      <th>27946</th>\n",
       "      <td>1.0</td>\n",
       "      <td>0.836565</td>\n",
       "      <td>0.558140</td>\n",
       "    </tr>\n",
       "    <tr>\n",
       "      <th>28626</th>\n",
       "      <td>1.0</td>\n",
       "      <td>0.709879</td>\n",
       "      <td>0.558140</td>\n",
       "    </tr>\n",
       "    <tr>\n",
       "      <th>25834</th>\n",
       "      <td>1.0</td>\n",
       "      <td>0.757909</td>\n",
       "      <td>0.558140</td>\n",
       "    </tr>\n",
       "    <tr>\n",
       "      <th>25798</th>\n",
       "      <td>1.0</td>\n",
       "      <td>0.678818</td>\n",
       "      <td>0.558140</td>\n",
       "    </tr>\n",
       "    <tr>\n",
       "      <th>760</th>\n",
       "      <td>1.0</td>\n",
       "      <td>0.779644</td>\n",
       "      <td>0.558140</td>\n",
       "    </tr>\n",
       "    <tr>\n",
       "      <th>757</th>\n",
       "      <td>1.0</td>\n",
       "      <td>0.675789</td>\n",
       "      <td>0.558140</td>\n",
       "    </tr>\n",
       "    <tr>\n",
       "      <th>25875</th>\n",
       "      <td>1.0</td>\n",
       "      <td>0.836565</td>\n",
       "      <td>0.558140</td>\n",
       "    </tr>\n",
       "    <tr>\n",
       "      <th>25870</th>\n",
       "      <td>1.0</td>\n",
       "      <td>0.836565</td>\n",
       "      <td>0.558140</td>\n",
       "    </tr>\n",
       "    <tr>\n",
       "      <th>25867</th>\n",
       "      <td>1.0</td>\n",
       "      <td>0.836565</td>\n",
       "      <td>0.558140</td>\n",
       "    </tr>\n",
       "    <tr>\n",
       "      <th>25865</th>\n",
       "      <td>1.0</td>\n",
       "      <td>0.836565</td>\n",
       "      <td>0.558140</td>\n",
       "    </tr>\n",
       "    <tr>\n",
       "      <th>25863</th>\n",
       "      <td>1.0</td>\n",
       "      <td>0.836565</td>\n",
       "      <td>0.558140</td>\n",
       "    </tr>\n",
       "    <tr>\n",
       "      <th>25803</th>\n",
       "      <td>1.0</td>\n",
       "      <td>0.835763</td>\n",
       "      <td>0.558140</td>\n",
       "    </tr>\n",
       "    <tr>\n",
       "      <th>25859</th>\n",
       "      <td>1.0</td>\n",
       "      <td>0.836565</td>\n",
       "      <td>0.558140</td>\n",
       "    </tr>\n",
       "    <tr>\n",
       "      <th>767</th>\n",
       "      <td>1.0</td>\n",
       "      <td>0.836565</td>\n",
       "      <td>0.558140</td>\n",
       "    </tr>\n",
       "    <tr>\n",
       "      <th>768</th>\n",
       "      <td>1.0</td>\n",
       "      <td>0.836565</td>\n",
       "      <td>0.558140</td>\n",
       "    </tr>\n",
       "    <tr>\n",
       "      <th>2514</th>\n",
       "      <td>1.0</td>\n",
       "      <td>0.803990</td>\n",
       "      <td>0.558140</td>\n",
       "    </tr>\n",
       "    <tr>\n",
       "      <th>2507</th>\n",
       "      <td>1.0</td>\n",
       "      <td>0.818124</td>\n",
       "      <td>0.558140</td>\n",
       "    </tr>\n",
       "    <tr>\n",
       "      <th>2505</th>\n",
       "      <td>1.0</td>\n",
       "      <td>0.818124</td>\n",
       "      <td>0.558140</td>\n",
       "    </tr>\n",
       "    <tr>\n",
       "      <th>2504</th>\n",
       "      <td>1.0</td>\n",
       "      <td>0.818124</td>\n",
       "      <td>0.558140</td>\n",
       "    </tr>\n",
       "    <tr>\n",
       "      <th>25836</th>\n",
       "      <td>1.0</td>\n",
       "      <td>0.757909</td>\n",
       "      <td>0.558140</td>\n",
       "    </tr>\n",
       "    <tr>\n",
       "      <th>25842</th>\n",
       "      <td>1.0</td>\n",
       "      <td>0.836565</td>\n",
       "      <td>0.558140</td>\n",
       "    </tr>\n",
       "    <tr>\n",
       "      <th>25809</th>\n",
       "      <td>1.0</td>\n",
       "      <td>0.835763</td>\n",
       "      <td>0.558140</td>\n",
       "    </tr>\n",
       "    <tr>\n",
       "      <th>26512</th>\n",
       "      <td>1.0</td>\n",
       "      <td>0.592435</td>\n",
       "      <td>0.571429</td>\n",
       "    </tr>\n",
       "    <tr>\n",
       "      <th>3029</th>\n",
       "      <td>1.0</td>\n",
       "      <td>0.215840</td>\n",
       "      <td>0.666667</td>\n",
       "    </tr>\n",
       "    <tr>\n",
       "      <th>27923</th>\n",
       "      <td>1.0</td>\n",
       "      <td>0.591356</td>\n",
       "      <td>0.750000</td>\n",
       "    </tr>\n",
       "  </tbody>\n",
       "</table>\n",
       "<p>711 rows × 3 columns</p>\n",
       "</div>"
      ],
      "text/plain": [
       "       target   predict  brand_order_click_rate\n",
       "26313     1.0  0.174810                0.000000\n",
       "25904     1.0  0.179980                0.071429\n",
       "2010      1.0  0.292078                0.104651\n",
       "2915      1.0  0.198917                0.106145\n",
       "1904      1.0  0.224479                0.146939\n",
       "27242     1.0  0.448424                0.146939\n",
       "25113     1.0  0.170787                0.146939\n",
       "24779     1.0  0.836565                0.217593\n",
       "24783     1.0  0.836565                0.217593\n",
       "24807     1.0  0.224813                0.217593\n",
       "24837     1.0  0.836565                0.217593\n",
       "24840     1.0  0.836565                0.217593\n",
       "24841     1.0  0.836565                0.217593\n",
       "24843     1.0  0.836565                0.217593\n",
       "15        1.0  0.753341                0.217593\n",
       "24911     1.0  0.171288                0.217593\n",
       "24776     1.0  0.836565                0.217593\n",
       "28872     1.0  0.836565                0.217593\n",
       "26546     1.0  0.185336                0.217593\n",
       "26586     1.0  0.836565                0.217593\n",
       "26587     1.0  0.836565                0.217593\n",
       "24866     1.0  0.170195                0.217593\n",
       "24774     1.0  0.836565                0.217593\n",
       "24760     1.0  0.171594                0.217593\n",
       "26590     1.0  0.836565                0.217593\n",
       "1422      1.0  0.836565                0.217593\n",
       "1423      1.0  0.836565                0.217593\n",
       "1424      1.0  0.836565                0.217593\n",
       "1529      1.0  0.226713                0.217593\n",
       "1559      1.0  0.398299                0.217593\n",
       "...       ...       ...                     ...\n",
       "27942     1.0  0.836565                0.558140\n",
       "25814     1.0  0.807046                0.558140\n",
       "25823     1.0  0.807046                0.558140\n",
       "25830     1.0  0.784864                0.558140\n",
       "25831     1.0  0.784864                0.558140\n",
       "27946     1.0  0.836565                0.558140\n",
       "28626     1.0  0.709879                0.558140\n",
       "25834     1.0  0.757909                0.558140\n",
       "25798     1.0  0.678818                0.558140\n",
       "760       1.0  0.779644                0.558140\n",
       "757       1.0  0.675789                0.558140\n",
       "25875     1.0  0.836565                0.558140\n",
       "25870     1.0  0.836565                0.558140\n",
       "25867     1.0  0.836565                0.558140\n",
       "25865     1.0  0.836565                0.558140\n",
       "25863     1.0  0.836565                0.558140\n",
       "25803     1.0  0.835763                0.558140\n",
       "25859     1.0  0.836565                0.558140\n",
       "767       1.0  0.836565                0.558140\n",
       "768       1.0  0.836565                0.558140\n",
       "2514      1.0  0.803990                0.558140\n",
       "2507      1.0  0.818124                0.558140\n",
       "2505      1.0  0.818124                0.558140\n",
       "2504      1.0  0.818124                0.558140\n",
       "25836     1.0  0.757909                0.558140\n",
       "25842     1.0  0.836565                0.558140\n",
       "25809     1.0  0.835763                0.558140\n",
       "26512     1.0  0.592435                0.571429\n",
       "3029      1.0  0.215840                0.666667\n",
       "27923     1.0  0.591356                0.750000\n",
       "\n",
       "[711 rows x 3 columns]"
      ]
     },
     "execution_count": 327,
     "metadata": {},
     "output_type": "execute_result"
    }
   ],
   "source": [
    "model_data['predict']=data_fot_ana['predict']\n",
    "model_data[['target','predict','brand_order_click_rate']][(model_data['predict']>0)&(model_data['target']==1)].sort_values(by='brand_order_click_rate')"
   ]
  },
  {
   "cell_type": "code",
   "execution_count": 325,
   "metadata": {},
   "outputs": [
    {
     "data": {
      "text/plain": [
       "'Digraph.gv.png'"
      ]
     },
     "execution_count": 325,
     "metadata": {},
     "output_type": "execute_result"
    }
   ],
   "source": [
    "digraph = xgb.to_graphviz(xgbmodel)\n",
    "digraph.format = 'png'\n",
    "digraph.view()"
   ]
  },
  {
   "cell_type": "code",
   "execution_count": null,
   "metadata": {},
   "outputs": [],
   "source": []
  },
  {
   "cell_type": "markdown",
   "metadata": {},
   "source": [
    "<font color=red size=3> 模块五、应用与预测 </font>"
   ]
  },
  {
   "cell_type": "markdown",
   "metadata": {},
   "source": [
    "<font color=red size=3> 5.1  target数据准备 </font>"
   ]
  },
  {
   "cell_type": "code",
   "execution_count": 72,
   "metadata": {},
   "outputs": [],
   "source": [
    "data_Action_201604=pd.read_csv('d:/data/jd/JData_Action_201604.csv')\n",
    "data_Action_201604_check_target=data_Action_201604[(data_Action_201604.time>'2016-04-11')&(data_Action_201604.time<'2016-04-16')]\n",
    "target_201604_check=data_Action_201604_check_target[data_Action_201604_check_target['type']==4][['sku_id']]\n",
    "target_201604_check['target']=1"
   ]
  },
  {
   "cell_type": "code",
   "execution_count": 73,
   "metadata": {},
   "outputs": [
    {
     "data": {
      "text/plain": [
       "5091"
      ]
     },
     "execution_count": 73,
     "metadata": {},
     "output_type": "execute_result"
    }
   ],
   "source": [
    "target_201604_check['target'].count()"
   ]
  },
  {
   "cell_type": "markdown",
   "metadata": {},
   "source": [
    "<font color=red size=3> 5.2  加入近期行为数据 </font>"
   ]
  },
  {
   "cell_type": "markdown",
   "metadata": {},
   "source": [
    "<font color=red size=3> 近期各商品点击数量，加购物车数量 </font>"
   ]
  },
  {
   "cell_type": "code",
   "execution_count": 74,
   "metadata": {},
   "outputs": [],
   "source": [
    "def get_sku_action(data_train): \n",
    "    global target_201604_check,data_product\n",
    "    recent_clicks=data_train[data_train['type']==1][['sku_id','type']].groupby('sku_id').sum().reset_index()\n",
    "    data_for_model=pd.merge(data_product,recent_clicks,on='sku_id',how='left').rename(columns={'type':'recent_clicks'})\n",
    "    recent_carts=data_train[data_train['type']==2][['sku_id','type']].groupby('sku_id').count().reset_index()\n",
    "    data_for_model=pd.merge(data_for_model,recent_carts,on='sku_id',how='left').rename(columns={'type':'recent_carts'})\n",
    "    recent_cartsout=data_train[data_train['type']==3][['sku_id','type']].groupby('sku_id').count().reset_index()\n",
    "    data_for_model=pd.merge(data_for_model,recent_cartsout,on='sku_id',how='left').rename(columns={'type':'recent_cartsout'})\n",
    "    recent_orders=data_train[data_train['type']==4][['sku_id','type']].groupby('sku_id').count().reset_index()\n",
    "    data_for_model=pd.merge(data_for_model,recent_orders,on='sku_id',how='left').rename(columns={'type':'recent_orders'})\n",
    "    recent_collect=data_train[data_train['type']==5][['sku_id','type']].groupby('sku_id').count().reset_index()\n",
    "    data_for_model=pd.merge(data_for_model,recent_collect,on='sku_id',how='left').rename(columns={'type':'recent_collect'})\n",
    "    recent_detail_click=data_train[data_train['type']==6][['sku_id','type']].groupby('sku_id').count().reset_index()\n",
    "    data_for_model=pd.merge(data_for_model,recent_detail_click,on='sku_id',how='left').rename(columns={'type':'recent_detail_click'})\n",
    "    data_for_model['recent_cart_click_ratio']=data_for_model['recent_carts']/data_for_model['recent_clicks']\n",
    "    target_201604_check=pd.merge(data_for_model,target_201604_check,on='sku_id',how='left')"
   ]
  },
  {
   "cell_type": "code",
   "execution_count": 75,
   "metadata": {},
   "outputs": [],
   "source": [
    "data_Action_201604_train_check=data_Action_201604[(data_Action_201604.time>'2016-04-06')&(data_Action_201604.time<'2016-04-11')]"
   ]
  },
  {
   "cell_type": "code",
   "execution_count": 76,
   "metadata": {},
   "outputs": [],
   "source": [
    "get_sku_action(data_Action_201604_train_check)"
   ]
  },
  {
   "cell_type": "code",
   "execution_count": 77,
   "metadata": {},
   "outputs": [],
   "source": [
    "target_201604_check_test=target_201604_check"
   ]
  },
  {
   "cell_type": "markdown",
   "metadata": {},
   "source": [
    "<font color=red size=3> 近期各商品停留时间 </font>"
   ]
  },
  {
   "cell_type": "code",
   "execution_count": 78,
   "metadata": {},
   "outputs": [],
   "source": [
    "def get_sku_actiontime(data_train):\n",
    "    global target_201604_check_test\n",
    "    data_train.time=pd.to_datetime(data_train.time)\n",
    "    user_sku_time=data_train[['user_id','sku_id','time']].groupby(['user_id','sku_id']).time.apply(lambda x:x-x.shift(1))\n",
    "    data_train['recent_click_time']=user_sku_time/np.timedelta64(1, 's')\n",
    "    data_train['recent_click_time']=data_train['recent_click_time'][data_train['recent_click_time']<400]\n",
    "    recent_click_number=data_train[['sku_id','recent_click_time']].groupby('sku_id').count().reset_index()\n",
    "    recent_click_number=recent_click_number.rename(columns={'recent_click_time':'recent_click_number'})\n",
    "    recent_click_time=data_train[['sku_id','recent_click_time']].groupby('sku_id').sum().reset_index()    \n",
    "    recent_perclick_time=pd.merge(recent_click_time,recent_click_number,on='sku_id')\n",
    "    target_201604_check_test=pd.merge(target_201604_check_test,recent_perclick_time,on='sku_id',how='left')    \n"
   ]
  },
  {
   "cell_type": "code",
   "execution_count": 79,
   "metadata": {
    "scrolled": true
   },
   "outputs": [],
   "source": [
    "get_sku_actiontime(data_Action_201604_train_check)"
   ]
  },
  {
   "cell_type": "code",
   "execution_count": 80,
   "metadata": {},
   "outputs": [],
   "source": [
    "target_201604_check_test['recent_perclick_tim']=target_201604_check_test[['recent_click_time','recent_click_number']].apply(lambda x:x['recent_click_time']/x['recent_click_number'],axis=1)"
   ]
  },
  {
   "cell_type": "code",
   "execution_count": 81,
   "metadata": {},
   "outputs": [],
   "source": [
    "model_data=target_201604_check_test"
   ]
  },
  {
   "cell_type": "code",
   "execution_count": 82,
   "metadata": {},
   "outputs": [],
   "source": [
    "model_data.target.fillna(0,inplace=True)"
   ]
  },
  {
   "cell_type": "code",
   "execution_count": 83,
   "metadata": {},
   "outputs": [
    {
     "data": {
      "text/plain": [
       "25243"
      ]
     },
     "execution_count": 83,
     "metadata": {},
     "output_type": "execute_result"
    }
   ],
   "source": [
    "\n",
    "model_data['target'].count()"
   ]
  },
  {
   "cell_type": "code",
   "execution_count": 84,
   "metadata": {},
   "outputs": [
    {
     "data": {
      "text/plain": [
       "1386.0"
      ]
     },
     "execution_count": 84,
     "metadata": {},
     "output_type": "execute_result"
    }
   ],
   "source": [
    "model_data['target'].sum()"
   ]
  },
  {
   "cell_type": "code",
   "execution_count": 85,
   "metadata": {},
   "outputs": [],
   "source": [
    "model_data=model_data.drop(columns='sku_id')"
   ]
  },
  {
   "cell_type": "code",
   "execution_count": 86,
   "metadata": {},
   "outputs": [
    {
     "name": "stdout",
     "output_type": "stream",
     "text": [
      "<class 'pandas.core.frame.DataFrame'>\n",
      "Int64Index: 25243 entries, 0 to 25242\n",
      "Data columns (total 50 columns):\n",
      "a1                              4087 non-null float64\n",
      "a2                              4087 non-null float64\n",
      "a3                              4087 non-null float64\n",
      "brand_sku_count                 4087 non-null float64\n",
      "comment_num                     3378 non-null float64\n",
      "has_bad_comment                 3378 non-null float64\n",
      "bad_comment_rate                3378 non-null float64\n",
      "product_click_amount            4087 non-null float64\n",
      "product_cart_amount             3043 non-null float64\n",
      "product_cartout_amount          2787 non-null float64\n",
      "product_order_amount            1779 non-null float64\n",
      "product_collect_amount          2806 non-null float64\n",
      "product_detail_cilick_amount    4076 non-null float64\n",
      "cart_rate                       3043 non-null float64\n",
      "cartout_rate                    2787 non-null float64\n",
      "collect_rate                    2806 non-null float64\n",
      "detailclick_rate                4076 non-null float64\n",
      "user_amount                     4087 non-null float64\n",
      "click_per_user                  4087 non-null float64\n",
      "product_click3plus_usercount    4087 non-null float64\n",
      "click_time                      4565 non-null float64\n",
      "brand_click_amount              4087 non-null float64\n",
      "brand_cart_amount               4087 non-null float64\n",
      "brand_cartout_amount            4087 non-null float64\n",
      "brand_order_amount              4087 non-null float64\n",
      "brand_collect_amount            4087 non-null float64\n",
      "brandt_detail_cilick_amount     4087 non-null float64\n",
      "brand_order_click_rate          4087 non-null float64\n",
      "brand_click_time                4087 non-null float64\n",
      "a1_click_amount                 4087 non-null float64\n",
      "a1_order_amount                 4087 non-null float64\n",
      "a2_click_amount                 4087 non-null float64\n",
      "a2_order_amount                 4087 non-null float64\n",
      "a3_click_amount                 4087 non-null float64\n",
      "a3_order_amount                 4087 non-null float64\n",
      "click_buy_timegap               1781 non-null float64\n",
      "cart_buy_timegap                1717 non-null float64\n",
      "collect_buy_timegap             1264 non-null float64\n",
      "product_conversion_ratio        1779 non-null float64\n",
      "recent_clicks                   3711 non-null float64\n",
      "recent_carts                    2268 non-null float64\n",
      "recent_cartsout                 2064 non-null float64\n",
      "recent_orders                   1325 non-null float64\n",
      "recent_collect                  1785 non-null float64\n",
      "recent_detail_click             3662 non-null float64\n",
      "recent_cart_click_ratio         2267 non-null float64\n",
      "target                          25243 non-null float64\n",
      "recent_click_time               3722 non-null float64\n",
      "recent_click_number             3722 non-null float64\n",
      "recent_perclick_tim             3677 non-null float64\n",
      "dtypes: float64(50)\n",
      "memory usage: 9.8 MB\n"
     ]
    }
   ],
   "source": [
    "model_data.info()"
   ]
  },
  {
   "cell_type": "markdown",
   "metadata": {},
   "source": [
    "<font color=red size=3> 5.3  模型导入与预测 </font>"
   ]
  },
  {
   "cell_type": "code",
   "execution_count": 87,
   "metadata": {},
   "outputs": [],
   "source": [
    "y_test=model_data['target']"
   ]
  },
  {
   "cell_type": "code",
   "execution_count": 88,
   "metadata": {},
   "outputs": [],
   "source": [
    "x_test_d=xgb.DMatrix(model_data[var_for_select])"
   ]
  },
  {
   "cell_type": "code",
   "execution_count": 89,
   "metadata": {},
   "outputs": [],
   "source": [
    "def threshold(x):\n",
    "    if x>0.38:\n",
    "        x=1\n",
    "    else:\n",
    "        x=0\n",
    "    return x"
   ]
  },
  {
   "cell_type": "code",
   "execution_count": 90,
   "metadata": {},
   "outputs": [],
   "source": [
    "y_test_proba = xgbmodel.predict(x_test_d)\n",
    "y_test_predict = [threshold(i) for i in y_test_proba]"
   ]
  },
  {
   "cell_type": "code",
   "execution_count": 91,
   "metadata": {},
   "outputs": [
    {
     "name": "stdout",
     "output_type": "stream",
     "text": [
      "gradient boosting accuracy:\n",
      "              precision    recall  f1-score   support\n",
      "\n",
      "         0.0       0.99      0.99      0.99     23857\n",
      "         1.0       0.91      0.91      0.91      1386\n",
      "\n",
      "   micro avg       0.99      0.99      0.99     25243\n",
      "   macro avg       0.95      0.95      0.95     25243\n",
      "weighted avg       0.99      0.99      0.99     25243\n",
      "\n"
     ]
    }
   ],
   "source": [
    "from sklearn import metrics\n",
    "print(\"gradient boosting accuracy:\")\n",
    "print(metrics.classification_report(y_test,y_test_predict))"
   ]
  },
  {
   "cell_type": "code",
   "execution_count": 93,
   "metadata": {},
   "outputs": [
    {
     "data": {
      "image/png": "[encoded data removed]",
      "text/plain": [
       "<Figure size 720x720 with 2 Axes>"
      ]
     },
     "metadata": {
      "needs_background": "light"
     },
     "output_type": "display_data"
    }
   ],
   "source": [
    "from sklearn.metrics import confusion_matrix\n",
    "classes = list(set(y_test))\n",
    "classes.sort()\n",
    "confusion = confusion_matrix(y_test_predict, y_test)\n",
    "plt.figure(figsize=[10, 10])\n",
    "plt.imshow(confusion, cmap=plt.cm.Blues)\n",
    "indices = range(len(confusion))\n",
    "plt.xticks(indices, classes)\n",
    "plt.yticks(indices, classes)\n",
    "plt.colorbar()\n",
    "plt.xlabel('guess')\n",
    "plt.ylabel('fact')\n",
    "for first_index in range(len(confusion)):\n",
    "    for second_index in range(len(confusion[first_index])):\n",
    "        plt.text(first_index, second_index, confusion[first_index][second_index],fontsize='xx-large',color='red')\n",
    "plt.title('京东商品预测')\n",
    "plt.show()\n"
   ]
  },
  {
   "cell_type": "code",
   "execution_count": null,
   "metadata": {},
   "outputs": [],
   "source": []
  },
  {
   "cell_type": "markdown",
   "metadata": {},
   "source": [
    "<font color=red size=3> 模块六、模型保存 </font>"
   ]
  },
  {
   "cell_type": "code",
   "execution_count": null,
   "metadata": {},
   "outputs": [],
   "source": [
    "import pickle as pickle"
   ]
  },
  {
   "cell_type": "code",
   "execution_count": null,
   "metadata": {},
   "outputs": [],
   "source": [
    "with open(r'logitic.model', 'wb') as f:\n",
    "    pickle.dump(logistic_model, f)"
   ]
  },
  {
   "cell_type": "code",
   "execution_count": null,
   "metadata": {},
   "outputs": [],
   "source": [
    "test_est_load = model_load.predict(test_data)"
   ]
  },
  {
   "cell_type": "code",
   "execution_count": null,
   "metadata": {},
   "outputs": [],
   "source": []
  },
  {
   "cell_type": "code",
   "execution_count": null,
   "metadata": {},
   "outputs": [],
   "source": []
  }
 ],
 "metadata": {
  "kernelspec": {
   "display_name": "Python 3",
   "language": "python",
   "name": "python3"
  },
  "language_info": {
   "codemirror_mode": {
    "name": "ipython",
    "version": 3
   },
   "file_extension": ".py",
   "mimetype": "text/x-python",
   "name": "python",
   "nbconvert_exporter": "python",
   "pygments_lexer": "ipython3",
   "version": "3.7.0"
  }
 },
 "nbformat": 4,
 "nbformat_minor": 2
}
