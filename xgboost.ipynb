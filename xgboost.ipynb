{
 "cells": [
  {
   "cell_type": "markdown",
   "metadata": {},
   "source": [
    "<font color=red size=3> 模块一 导入模块、数据与数据预览 </font>"
   ]
  },
  {
   "cell_type": "code",
   "execution_count": 4,
   "metadata": {},
   "outputs": [],
   "source": [
    "import numpy as np\n",
    "import pandas as pd\n",
    "import matplotlib.pyplot as plt\n",
    "import statsmodels.api as sm\n",
    "import statsmodels.formula.api as smf"
   ]
  },
  {
   "cell_type": "code",
   "execution_count": 5,
   "metadata": {},
   "outputs": [],
   "source": [
    "import warnings\n",
    "warnings.filterwarnings(\"ignore\")"
   ]
  },
  {
   "cell_type": "code",
   "execution_count": 6,
   "metadata": {},
   "outputs": [],
   "source": [
    "import matplotlib.pyplot as plt\n",
    "\n",
    "\n",
    "\n",
    "large = 22; med = 16; small = 12\n",
    "\n",
    "params = {'axes.titlesize': large,\n",
    "\n",
    "          'legend.fontsize': med,\n",
    "\n",
    "          'figure.figsize': (12, 8),\n",
    "\n",
    "          'axes.labelsize': med,\n",
    "\n",
    "          'axes.titlesize': med,\n",
    "\n",
    "          'xtick.labelsize': med,\n",
    "\n",
    "          'ytick.labelsize': med,\n",
    "\n",
    "          'figure.titlesize': large}\n",
    "\n",
    "plt.rcParams.update(params)\n",
    "\n",
    "plt.style.use('seaborn-whitegrid')\n",
    "%matplotlib inline\n",
    "plt.rcParams['font.sans-serif']=['SimHei'] #用来正常显示中文标签\n",
    "plt.rcParams['axes.unicode_minus']=False #用来正常显示负号"
   ]
  },
  {
   "cell_type": "code",
   "execution_count": 7,
   "metadata": {},
   "outputs": [],
   "source": [
    "pd.set_option('display.max_columns',None)"
   ]
  },
  {
   "cell_type": "code",
   "execution_count": 8,
   "metadata": {},
   "outputs": [
    {
     "data": {
      "text/html": [
       "<div>\n",
       "<style scoped>\n",
       "    .dataframe tbody tr th:only-of-type {\n",
       "        vertical-align: middle;\n",
       "    }\n",
       "\n",
       "    .dataframe tbody tr th {\n",
       "        vertical-align: top;\n",
       "    }\n",
       "\n",
       "    .dataframe thead th {\n",
       "        text-align: right;\n",
       "    }\n",
       "</style>\n",
       "<table border=\"1\" class=\"dataframe\">\n",
       "  <thead>\n",
       "    <tr style=\"text-align: right;\">\n",
       "      <th></th>\n",
       "      <th>application_id</th>\n",
       "      <th>account_number</th>\n",
       "      <th>bad_ind</th>\n",
       "      <th>vehicle_year</th>\n",
       "      <th>vehicle_make</th>\n",
       "      <th>bankruptcy_ind</th>\n",
       "      <th>tot_derog</th>\n",
       "      <th>tot_tr</th>\n",
       "      <th>age_oldest_tr</th>\n",
       "      <th>tot_open_tr</th>\n",
       "      <th>tot_rev_tr</th>\n",
       "      <th>tot_rev_debt</th>\n",
       "      <th>tot_rev_line</th>\n",
       "      <th>rev_util</th>\n",
       "      <th>fico_score</th>\n",
       "      <th>purch_price</th>\n",
       "      <th>msrp</th>\n",
       "      <th>down_pyt</th>\n",
       "      <th>loan_term</th>\n",
       "      <th>loan_amt</th>\n",
       "      <th>ltv</th>\n",
       "      <th>tot_income</th>\n",
       "      <th>veh_mileage</th>\n",
       "      <th>used_ind</th>\n",
       "      <th>weight</th>\n",
       "    </tr>\n",
       "  </thead>\n",
       "  <tbody>\n",
       "    <tr>\n",
       "      <th>0</th>\n",
       "      <td>2314049</td>\n",
       "      <td>11613</td>\n",
       "      <td>1</td>\n",
       "      <td>1998.0</td>\n",
       "      <td>FORD</td>\n",
       "      <td>N</td>\n",
       "      <td>7.0</td>\n",
       "      <td>9.0</td>\n",
       "      <td>64.0</td>\n",
       "      <td>2.0</td>\n",
       "      <td>1.0</td>\n",
       "      <td>506.0</td>\n",
       "      <td>500.0</td>\n",
       "      <td>101</td>\n",
       "      <td>650.0</td>\n",
       "      <td>17200.00</td>\n",
       "      <td>17350.0</td>\n",
       "      <td>0.00</td>\n",
       "      <td>36</td>\n",
       "      <td>17200.00</td>\n",
       "      <td>99.0</td>\n",
       "      <td>6550.00</td>\n",
       "      <td>24000.0</td>\n",
       "      <td>1</td>\n",
       "      <td>1.00</td>\n",
       "    </tr>\n",
       "    <tr>\n",
       "      <th>1</th>\n",
       "      <td>63539</td>\n",
       "      <td>13449</td>\n",
       "      <td>0</td>\n",
       "      <td>2000.0</td>\n",
       "      <td>DAEWOO</td>\n",
       "      <td>N</td>\n",
       "      <td>0.0</td>\n",
       "      <td>21.0</td>\n",
       "      <td>240.0</td>\n",
       "      <td>11.0</td>\n",
       "      <td>7.0</td>\n",
       "      <td>34605.0</td>\n",
       "      <td>57241.0</td>\n",
       "      <td>60</td>\n",
       "      <td>649.0</td>\n",
       "      <td>19588.54</td>\n",
       "      <td>19788.0</td>\n",
       "      <td>683.54</td>\n",
       "      <td>60</td>\n",
       "      <td>19588.54</td>\n",
       "      <td>99.0</td>\n",
       "      <td>4666.67</td>\n",
       "      <td>22.0</td>\n",
       "      <td>0</td>\n",
       "      <td>4.75</td>\n",
       "    </tr>\n",
       "    <tr>\n",
       "      <th>2</th>\n",
       "      <td>7328510</td>\n",
       "      <td>14323</td>\n",
       "      <td>1</td>\n",
       "      <td>1998.0</td>\n",
       "      <td>PLYMOUTH</td>\n",
       "      <td>N</td>\n",
       "      <td>7.0</td>\n",
       "      <td>10.0</td>\n",
       "      <td>60.0</td>\n",
       "      <td>NaN</td>\n",
       "      <td>NaN</td>\n",
       "      <td>NaN</td>\n",
       "      <td>NaN</td>\n",
       "      <td>0</td>\n",
       "      <td>613.0</td>\n",
       "      <td>13595.00</td>\n",
       "      <td>11450.0</td>\n",
       "      <td>0.00</td>\n",
       "      <td>60</td>\n",
       "      <td>10500.00</td>\n",
       "      <td>92.0</td>\n",
       "      <td>2000.00</td>\n",
       "      <td>19600.0</td>\n",
       "      <td>1</td>\n",
       "      <td>1.00</td>\n",
       "    </tr>\n",
       "    <tr>\n",
       "      <th>3</th>\n",
       "      <td>8725187</td>\n",
       "      <td>15359</td>\n",
       "      <td>1</td>\n",
       "      <td>1997.0</td>\n",
       "      <td>FORD</td>\n",
       "      <td>N</td>\n",
       "      <td>3.0</td>\n",
       "      <td>10.0</td>\n",
       "      <td>35.0</td>\n",
       "      <td>5.0</td>\n",
       "      <td>4.0</td>\n",
       "      <td>4019.0</td>\n",
       "      <td>5946.0</td>\n",
       "      <td>68</td>\n",
       "      <td>603.0</td>\n",
       "      <td>12999.00</td>\n",
       "      <td>12100.0</td>\n",
       "      <td>3099.00</td>\n",
       "      <td>60</td>\n",
       "      <td>10800.00</td>\n",
       "      <td>118.0</td>\n",
       "      <td>1500.00</td>\n",
       "      <td>10000.0</td>\n",
       "      <td>1</td>\n",
       "      <td>1.00</td>\n",
       "    </tr>\n",
       "    <tr>\n",
       "      <th>4</th>\n",
       "      <td>4275127</td>\n",
       "      <td>15812</td>\n",
       "      <td>0</td>\n",
       "      <td>2000.0</td>\n",
       "      <td>TOYOTA</td>\n",
       "      <td>N</td>\n",
       "      <td>0.0</td>\n",
       "      <td>10.0</td>\n",
       "      <td>104.0</td>\n",
       "      <td>2.0</td>\n",
       "      <td>0.0</td>\n",
       "      <td>0.0</td>\n",
       "      <td>1800.0</td>\n",
       "      <td>0</td>\n",
       "      <td>764.0</td>\n",
       "      <td>26328.04</td>\n",
       "      <td>22024.0</td>\n",
       "      <td>0.00</td>\n",
       "      <td>60</td>\n",
       "      <td>26328.04</td>\n",
       "      <td>122.0</td>\n",
       "      <td>4144.00</td>\n",
       "      <td>14.0</td>\n",
       "      <td>0</td>\n",
       "      <td>4.75</td>\n",
       "    </tr>\n",
       "  </tbody>\n",
       "</table>\n",
       "</div>"
      ],
      "text/plain": [
       "   application_id  account_number  bad_ind  vehicle_year vehicle_make  \\\n",
       "0         2314049           11613        1        1998.0         FORD   \n",
       "1           63539           13449        0        2000.0       DAEWOO   \n",
       "2         7328510           14323        1        1998.0     PLYMOUTH   \n",
       "3         8725187           15359        1        1997.0         FORD   \n",
       "4         4275127           15812        0        2000.0       TOYOTA   \n",
       "\n",
       "  bankruptcy_ind  tot_derog  tot_tr  age_oldest_tr  tot_open_tr  tot_rev_tr  \\\n",
       "0              N        7.0     9.0           64.0          2.0         1.0   \n",
       "1              N        0.0    21.0          240.0         11.0         7.0   \n",
       "2              N        7.0    10.0           60.0          NaN         NaN   \n",
       "3              N        3.0    10.0           35.0          5.0         4.0   \n",
       "4              N        0.0    10.0          104.0          2.0         0.0   \n",
       "\n",
       "   tot_rev_debt  tot_rev_line  rev_util  fico_score  purch_price     msrp  \\\n",
       "0         506.0         500.0       101       650.0     17200.00  17350.0   \n",
       "1       34605.0       57241.0        60       649.0     19588.54  19788.0   \n",
       "2           NaN           NaN         0       613.0     13595.00  11450.0   \n",
       "3        4019.0        5946.0        68       603.0     12999.00  12100.0   \n",
       "4           0.0        1800.0         0       764.0     26328.04  22024.0   \n",
       "\n",
       "   down_pyt  loan_term  loan_amt    ltv  tot_income  veh_mileage  used_ind  \\\n",
       "0      0.00         36  17200.00   99.0     6550.00      24000.0         1   \n",
       "1    683.54         60  19588.54   99.0     4666.67         22.0         0   \n",
       "2      0.00         60  10500.00   92.0     2000.00      19600.0         1   \n",
       "3   3099.00         60  10800.00  118.0     1500.00      10000.0         1   \n",
       "4      0.00         60  26328.04  122.0     4144.00         14.0         0   \n",
       "\n",
       "   weight  \n",
       "0    1.00  \n",
       "1    4.75  \n",
       "2    1.00  \n",
       "3    1.00  \n",
       "4    4.75  "
      ]
     },
     "execution_count": 8,
     "metadata": {},
     "output_type": "execute_result"
    }
   ],
   "source": [
    "data_raw=pd.read_csv('d:/datafortest/accepts.csv')\n",
    "data_raw.head()"
   ]
  },
  {
   "cell_type": "markdown",
   "metadata": {},
   "source": [
    "<font color=red size=3> 模块二，数据清洗、集成、变换与规约 </font>"
   ]
  },
  {
   "cell_type": "markdown",
   "metadata": {},
   "source": [
    "<font color=red size=3>  2.1 数据的探索 </font>"
   ]
  },
  {
   "cell_type": "code",
   "execution_count": 9,
   "metadata": {},
   "outputs": [
    {
     "name": "stdout",
     "output_type": "stream",
     "text": [
      "<class 'pandas.core.frame.DataFrame'>\n",
      "RangeIndex: 5845 entries, 0 to 5844\n",
      "Data columns (total 25 columns):\n",
      "application_id    5845 non-null int64\n",
      "account_number    5845 non-null int64\n",
      "bad_ind           5845 non-null int64\n",
      "vehicle_year      5844 non-null float64\n",
      "vehicle_make      5546 non-null object\n",
      "bankruptcy_ind    5628 non-null object\n",
      "tot_derog         5632 non-null float64\n",
      "tot_tr            5632 non-null float64\n",
      "age_oldest_tr     5629 non-null float64\n",
      "tot_open_tr       4426 non-null float64\n",
      "tot_rev_tr        5207 non-null float64\n",
      "tot_rev_debt      5367 non-null float64\n",
      "tot_rev_line      5367 non-null float64\n",
      "rev_util          5845 non-null int64\n",
      "fico_score        5531 non-null float64\n",
      "purch_price       5845 non-null float64\n",
      "msrp              5844 non-null float64\n",
      "down_pyt          5845 non-null float64\n",
      "loan_term         5845 non-null int64\n",
      "loan_amt          5845 non-null float64\n",
      "ltv               5844 non-null float64\n",
      "tot_income        5840 non-null float64\n",
      "veh_mileage       5844 non-null float64\n",
      "used_ind          5845 non-null int64\n",
      "weight            5845 non-null float64\n",
      "dtypes: float64(17), int64(6), object(2)\n",
      "memory usage: 1.1+ MB\n"
     ]
    }
   ],
   "source": [
    "data_raw.info()"
   ]
  },
  {
   "cell_type": "code",
   "execution_count": 10,
   "metadata": {},
   "outputs": [
    {
     "data": {
      "text/plain": [
       "(5845, 25)"
      ]
     },
     "execution_count": 10,
     "metadata": {},
     "output_type": "execute_result"
    }
   ],
   "source": [
    "data_raw.shape"
   ]
  },
  {
   "cell_type": "code",
   "execution_count": 11,
   "metadata": {},
   "outputs": [
    {
     "data": {
      "text/html": [
       "<div>\n",
       "<style scoped>\n",
       "    .dataframe tbody tr th:only-of-type {\n",
       "        vertical-align: middle;\n",
       "    }\n",
       "\n",
       "    .dataframe tbody tr th {\n",
       "        vertical-align: top;\n",
       "    }\n",
       "\n",
       "    .dataframe thead th {\n",
       "        text-align: right;\n",
       "    }\n",
       "</style>\n",
       "<table border=\"1\" class=\"dataframe\">\n",
       "  <thead>\n",
       "    <tr style=\"text-align: right;\">\n",
       "      <th></th>\n",
       "      <th>application_id</th>\n",
       "      <th>account_number</th>\n",
       "      <th>bad_ind</th>\n",
       "      <th>vehicle_year</th>\n",
       "      <th>tot_derog</th>\n",
       "      <th>tot_tr</th>\n",
       "      <th>age_oldest_tr</th>\n",
       "      <th>tot_open_tr</th>\n",
       "      <th>tot_rev_tr</th>\n",
       "      <th>tot_rev_debt</th>\n",
       "      <th>tot_rev_line</th>\n",
       "      <th>rev_util</th>\n",
       "      <th>fico_score</th>\n",
       "      <th>purch_price</th>\n",
       "      <th>msrp</th>\n",
       "      <th>down_pyt</th>\n",
       "      <th>loan_term</th>\n",
       "      <th>loan_amt</th>\n",
       "      <th>ltv</th>\n",
       "      <th>tot_income</th>\n",
       "      <th>veh_mileage</th>\n",
       "      <th>used_ind</th>\n",
       "      <th>weight</th>\n",
       "    </tr>\n",
       "  </thead>\n",
       "  <tbody>\n",
       "    <tr>\n",
       "      <th>count</th>\n",
       "      <td>5.845000e+03</td>\n",
       "      <td>5.845000e+03</td>\n",
       "      <td>5845.000000</td>\n",
       "      <td>5844.000000</td>\n",
       "      <td>5632.000000</td>\n",
       "      <td>5632.000000</td>\n",
       "      <td>5629.000000</td>\n",
       "      <td>4426.000000</td>\n",
       "      <td>5207.000000</td>\n",
       "      <td>5367.000000</td>\n",
       "      <td>5367.000000</td>\n",
       "      <td>5845.000000</td>\n",
       "      <td>5531.000000</td>\n",
       "      <td>5845.000000</td>\n",
       "      <td>5844.000000</td>\n",
       "      <td>5845.000000</td>\n",
       "      <td>5845.000000</td>\n",
       "      <td>5845.000000</td>\n",
       "      <td>5844.00000</td>\n",
       "      <td>5.840000e+03</td>\n",
       "      <td>5844.000000</td>\n",
       "      <td>5845.000000</td>\n",
       "      <td>5845.000000</td>\n",
       "    </tr>\n",
       "    <tr>\n",
       "      <th>mean</th>\n",
       "      <td>5.039359e+06</td>\n",
       "      <td>5.021740e+06</td>\n",
       "      <td>0.204790</td>\n",
       "      <td>1901.793634</td>\n",
       "      <td>1.910156</td>\n",
       "      <td>17.084695</td>\n",
       "      <td>154.304317</td>\n",
       "      <td>5.720063</td>\n",
       "      <td>3.093336</td>\n",
       "      <td>6218.619899</td>\n",
       "      <td>18262.655674</td>\n",
       "      <td>43.444482</td>\n",
       "      <td>693.528657</td>\n",
       "      <td>19145.235109</td>\n",
       "      <td>18643.180243</td>\n",
       "      <td>1325.375624</td>\n",
       "      <td>56.806159</td>\n",
       "      <td>17660.066222</td>\n",
       "      <td>98.78525</td>\n",
       "      <td>6.206255e+03</td>\n",
       "      <td>20167.981348</td>\n",
       "      <td>0.564756</td>\n",
       "      <td>3.982036</td>\n",
       "    </tr>\n",
       "    <tr>\n",
       "      <th>std</th>\n",
       "      <td>2.880450e+06</td>\n",
       "      <td>2.873516e+06</td>\n",
       "      <td>0.403583</td>\n",
       "      <td>488.024392</td>\n",
       "      <td>3.274744</td>\n",
       "      <td>10.814056</td>\n",
       "      <td>99.940540</td>\n",
       "      <td>3.165783</td>\n",
       "      <td>2.401923</td>\n",
       "      <td>8657.667616</td>\n",
       "      <td>20942.605070</td>\n",
       "      <td>75.289977</td>\n",
       "      <td>57.841522</td>\n",
       "      <td>9356.070282</td>\n",
       "      <td>10190.495573</td>\n",
       "      <td>2435.177463</td>\n",
       "      <td>14.547659</td>\n",
       "      <td>9095.267595</td>\n",
       "      <td>18.08215</td>\n",
       "      <td>1.073186e+05</td>\n",
       "      <td>29464.181138</td>\n",
       "      <td>0.495831</td>\n",
       "      <td>1.513436</td>\n",
       "    </tr>\n",
       "    <tr>\n",
       "      <th>min</th>\n",
       "      <td>4.065000e+03</td>\n",
       "      <td>1.161300e+04</td>\n",
       "      <td>0.000000</td>\n",
       "      <td>0.000000</td>\n",
       "      <td>0.000000</td>\n",
       "      <td>0.000000</td>\n",
       "      <td>1.000000</td>\n",
       "      <td>0.000000</td>\n",
       "      <td>0.000000</td>\n",
       "      <td>0.000000</td>\n",
       "      <td>0.000000</td>\n",
       "      <td>0.000000</td>\n",
       "      <td>443.000000</td>\n",
       "      <td>0.000000</td>\n",
       "      <td>0.000000</td>\n",
       "      <td>0.000000</td>\n",
       "      <td>12.000000</td>\n",
       "      <td>2133.400000</td>\n",
       "      <td>0.00000</td>\n",
       "      <td>0.000000e+00</td>\n",
       "      <td>0.000000</td>\n",
       "      <td>0.000000</td>\n",
       "      <td>1.000000</td>\n",
       "    </tr>\n",
       "    <tr>\n",
       "      <th>25%</th>\n",
       "      <td>2.513980e+06</td>\n",
       "      <td>2.567174e+06</td>\n",
       "      <td>0.000000</td>\n",
       "      <td>1997.000000</td>\n",
       "      <td>0.000000</td>\n",
       "      <td>9.000000</td>\n",
       "      <td>78.000000</td>\n",
       "      <td>3.000000</td>\n",
       "      <td>1.000000</td>\n",
       "      <td>791.000000</td>\n",
       "      <td>3235.500000</td>\n",
       "      <td>5.000000</td>\n",
       "      <td>653.000000</td>\n",
       "      <td>12684.000000</td>\n",
       "      <td>12050.000000</td>\n",
       "      <td>0.000000</td>\n",
       "      <td>51.000000</td>\n",
       "      <td>11023.000000</td>\n",
       "      <td>90.00000</td>\n",
       "      <td>2.218245e+03</td>\n",
       "      <td>1.000000</td>\n",
       "      <td>0.000000</td>\n",
       "      <td>4.750000</td>\n",
       "    </tr>\n",
       "    <tr>\n",
       "      <th>50%</th>\n",
       "      <td>5.110443e+06</td>\n",
       "      <td>4.988152e+06</td>\n",
       "      <td>0.000000</td>\n",
       "      <td>1999.000000</td>\n",
       "      <td>0.000000</td>\n",
       "      <td>16.000000</td>\n",
       "      <td>137.000000</td>\n",
       "      <td>5.000000</td>\n",
       "      <td>3.000000</td>\n",
       "      <td>3009.000000</td>\n",
       "      <td>10574.000000</td>\n",
       "      <td>30.000000</td>\n",
       "      <td>693.000000</td>\n",
       "      <td>18017.750000</td>\n",
       "      <td>17475.000000</td>\n",
       "      <td>500.000000</td>\n",
       "      <td>60.000000</td>\n",
       "      <td>16200.000000</td>\n",
       "      <td>100.00000</td>\n",
       "      <td>3.400000e+03</td>\n",
       "      <td>8000.000000</td>\n",
       "      <td>1.000000</td>\n",
       "      <td>4.750000</td>\n",
       "    </tr>\n",
       "    <tr>\n",
       "      <th>75%</th>\n",
       "      <td>7.526973e+06</td>\n",
       "      <td>7.556672e+06</td>\n",
       "      <td>0.000000</td>\n",
       "      <td>2000.000000</td>\n",
       "      <td>2.000000</td>\n",
       "      <td>24.000000</td>\n",
       "      <td>205.000000</td>\n",
       "      <td>7.000000</td>\n",
       "      <td>4.000000</td>\n",
       "      <td>8461.500000</td>\n",
       "      <td>26196.000000</td>\n",
       "      <td>66.000000</td>\n",
       "      <td>735.500000</td>\n",
       "      <td>24500.000000</td>\n",
       "      <td>23751.250000</td>\n",
       "      <td>1750.000000</td>\n",
       "      <td>60.000000</td>\n",
       "      <td>22800.000000</td>\n",
       "      <td>109.00000</td>\n",
       "      <td>5.156250e+03</td>\n",
       "      <td>34135.500000</td>\n",
       "      <td>1.000000</td>\n",
       "      <td>4.750000</td>\n",
       "    </tr>\n",
       "    <tr>\n",
       "      <th>max</th>\n",
       "      <td>1.000012e+07</td>\n",
       "      <td>1.001022e+07</td>\n",
       "      <td>1.000000</td>\n",
       "      <td>9999.000000</td>\n",
       "      <td>32.000000</td>\n",
       "      <td>77.000000</td>\n",
       "      <td>588.000000</td>\n",
       "      <td>26.000000</td>\n",
       "      <td>24.000000</td>\n",
       "      <td>96260.000000</td>\n",
       "      <td>205395.000000</td>\n",
       "      <td>2500.000000</td>\n",
       "      <td>848.000000</td>\n",
       "      <td>111554.000000</td>\n",
       "      <td>222415.000000</td>\n",
       "      <td>35000.000000</td>\n",
       "      <td>660.000000</td>\n",
       "      <td>111554.000000</td>\n",
       "      <td>176.00000</td>\n",
       "      <td>8.147167e+06</td>\n",
       "      <td>999999.000000</td>\n",
       "      <td>1.000000</td>\n",
       "      <td>4.750000</td>\n",
       "    </tr>\n",
       "  </tbody>\n",
       "</table>\n",
       "</div>"
      ],
      "text/plain": [
       "       application_id  account_number      bad_ind  vehicle_year    tot_derog  \\\n",
       "count    5.845000e+03    5.845000e+03  5845.000000   5844.000000  5632.000000   \n",
       "mean     5.039359e+06    5.021740e+06     0.204790   1901.793634     1.910156   \n",
       "std      2.880450e+06    2.873516e+06     0.403583    488.024392     3.274744   \n",
       "min      4.065000e+03    1.161300e+04     0.000000      0.000000     0.000000   \n",
       "25%      2.513980e+06    2.567174e+06     0.000000   1997.000000     0.000000   \n",
       "50%      5.110443e+06    4.988152e+06     0.000000   1999.000000     0.000000   \n",
       "75%      7.526973e+06    7.556672e+06     0.000000   2000.000000     2.000000   \n",
       "max      1.000012e+07    1.001022e+07     1.000000   9999.000000    32.000000   \n",
       "\n",
       "            tot_tr  age_oldest_tr  tot_open_tr   tot_rev_tr  tot_rev_debt  \\\n",
       "count  5632.000000    5629.000000  4426.000000  5207.000000   5367.000000   \n",
       "mean     17.084695     154.304317     5.720063     3.093336   6218.619899   \n",
       "std      10.814056      99.940540     3.165783     2.401923   8657.667616   \n",
       "min       0.000000       1.000000     0.000000     0.000000      0.000000   \n",
       "25%       9.000000      78.000000     3.000000     1.000000    791.000000   \n",
       "50%      16.000000     137.000000     5.000000     3.000000   3009.000000   \n",
       "75%      24.000000     205.000000     7.000000     4.000000   8461.500000   \n",
       "max      77.000000     588.000000    26.000000    24.000000  96260.000000   \n",
       "\n",
       "        tot_rev_line     rev_util   fico_score    purch_price           msrp  \\\n",
       "count    5367.000000  5845.000000  5531.000000    5845.000000    5844.000000   \n",
       "mean    18262.655674    43.444482   693.528657   19145.235109   18643.180243   \n",
       "std     20942.605070    75.289977    57.841522    9356.070282   10190.495573   \n",
       "min         0.000000     0.000000   443.000000       0.000000       0.000000   \n",
       "25%      3235.500000     5.000000   653.000000   12684.000000   12050.000000   \n",
       "50%     10574.000000    30.000000   693.000000   18017.750000   17475.000000   \n",
       "75%     26196.000000    66.000000   735.500000   24500.000000   23751.250000   \n",
       "max    205395.000000  2500.000000   848.000000  111554.000000  222415.000000   \n",
       "\n",
       "           down_pyt    loan_term       loan_amt         ltv    tot_income  \\\n",
       "count   5845.000000  5845.000000    5845.000000  5844.00000  5.840000e+03   \n",
       "mean    1325.375624    56.806159   17660.066222    98.78525  6.206255e+03   \n",
       "std     2435.177463    14.547659    9095.267595    18.08215  1.073186e+05   \n",
       "min        0.000000    12.000000    2133.400000     0.00000  0.000000e+00   \n",
       "25%        0.000000    51.000000   11023.000000    90.00000  2.218245e+03   \n",
       "50%      500.000000    60.000000   16200.000000   100.00000  3.400000e+03   \n",
       "75%     1750.000000    60.000000   22800.000000   109.00000  5.156250e+03   \n",
       "max    35000.000000   660.000000  111554.000000   176.00000  8.147167e+06   \n",
       "\n",
       "         veh_mileage     used_ind       weight  \n",
       "count    5844.000000  5845.000000  5845.000000  \n",
       "mean    20167.981348     0.564756     3.982036  \n",
       "std     29464.181138     0.495831     1.513436  \n",
       "min         0.000000     0.000000     1.000000  \n",
       "25%         1.000000     0.000000     4.750000  \n",
       "50%      8000.000000     1.000000     4.750000  \n",
       "75%     34135.500000     1.000000     4.750000  \n",
       "max    999999.000000     1.000000     4.750000  "
      ]
     },
     "execution_count": 11,
     "metadata": {},
     "output_type": "execute_result"
    }
   ],
   "source": [
    "data_raw.describe()"
   ]
  },
  {
   "cell_type": "code",
   "execution_count": 12,
   "metadata": {},
   "outputs": [
    {
     "data": {
      "text/plain": [
       "0.20479041916167665"
      ]
     },
     "execution_count": 12,
     "metadata": {},
     "output_type": "execute_result"
    }
   ],
   "source": [
    "data_raw.bad_ind.sum()/data_raw.bad_ind.count()"
   ]
  },
  {
   "cell_type": "markdown",
   "metadata": {},
   "source": [
    "<font color=red size=3>  2.2 缺失值的查看 </font>"
   ]
  },
  {
   "cell_type": "code",
   "execution_count": 13,
   "metadata": {},
   "outputs": [
    {
     "data": {
      "text/plain": [
       "<matplotlib.axes._subplots.AxesSubplot at 0x2d3bb783a20>"
      ]
     },
     "execution_count": 13,
     "metadata": {},
     "output_type": "execute_result"
    },
    {
     "data": {
      "image/png": "[encoded data removed]",
      "text/plain": [
       "<Figure size 1800x720 with 2 Axes>"
      ]
     },
     "metadata": {
      "needs_background": "light"
     },
     "output_type": "display_data"
    }
   ],
   "source": [
    "import missingno as msno\n",
    "msno.matrix(data_raw, labels=True)\n",
    "# msno.heatmap(data)\n",
    "#msno.dendrogram(data)"
   ]
  },
  {
   "cell_type": "code",
   "execution_count": 14,
   "metadata": {},
   "outputs": [
    {
     "data": {
      "text/plain": [
       "<matplotlib.axes._subplots.AxesSubplot at 0x2d3bbc0b630>"
      ]
     },
     "execution_count": 14,
     "metadata": {},
     "output_type": "execute_result"
    },
    {
     "data": {
      "image/png": "[encoded data removed]",
      "text/plain": [
       "<Figure size 1728x720 with 3 Axes>"
      ]
     },
     "metadata": {
      "needs_background": "light"
     },
     "output_type": "display_data"
    }
   ],
   "source": [
    "import missingno as msno\n",
    "msno.bar(data_raw, labels=True)"
   ]
  },
  {
   "cell_type": "code",
   "execution_count": null,
   "metadata": {},
   "outputs": [],
   "source": []
  },
  {
   "cell_type": "code",
   "execution_count": null,
   "metadata": {},
   "outputs": [],
   "source": []
  },
  {
   "cell_type": "markdown",
   "metadata": {},
   "source": [
    "<font color=red size=3> 模块三，特征工程 </font>"
   ]
  },
  {
   "cell_type": "markdown",
   "metadata": {},
   "source": [
    "<font color=red size=3>  3.1 数据的变换与规约 </font>"
   ]
  },
  {
   "cell_type": "markdown",
   "metadata": {},
   "source": [
    "<font color=red size=3> 衍生变量 </font>"
   ]
  },
  {
   "cell_type": "code",
   "execution_count": 15,
   "metadata": {},
   "outputs": [],
   "source": [
    "def divMy(x,y):\n",
    "    import numpy as np\n",
    "    if x==np.nan or y==np.nan:\n",
    "        return np.nan\n",
    "    elif y==0:\n",
    "        return -1\n",
    "    else:\n",
    "        return x/y"
   ]
  },
  {
   "cell_type": "code",
   "execution_count": 16,
   "metadata": {},
   "outputs": [
    {
     "data": {
      "text/html": [
       "<div>\n",
       "<style scoped>\n",
       "    .dataframe tbody tr th:only-of-type {\n",
       "        vertical-align: middle;\n",
       "    }\n",
       "\n",
       "    .dataframe tbody tr th {\n",
       "        vertical-align: top;\n",
       "    }\n",
       "\n",
       "    .dataframe thead th {\n",
       "        text-align: right;\n",
       "    }\n",
       "</style>\n",
       "<table border=\"1\" class=\"dataframe\">\n",
       "  <thead>\n",
       "    <tr style=\"text-align: right;\">\n",
       "      <th></th>\n",
       "      <th>application_id</th>\n",
       "      <th>account_number</th>\n",
       "      <th>bad_ind</th>\n",
       "      <th>vehicle_year</th>\n",
       "      <th>vehicle_make</th>\n",
       "      <th>bankruptcy_ind</th>\n",
       "      <th>tot_derog</th>\n",
       "      <th>tot_tr</th>\n",
       "      <th>age_oldest_tr</th>\n",
       "      <th>tot_open_tr</th>\n",
       "      <th>tot_rev_tr</th>\n",
       "      <th>tot_rev_debt</th>\n",
       "      <th>tot_rev_line</th>\n",
       "      <th>rev_util</th>\n",
       "      <th>fico_score</th>\n",
       "      <th>purch_price</th>\n",
       "      <th>msrp</th>\n",
       "      <th>down_pyt</th>\n",
       "      <th>loan_term</th>\n",
       "      <th>loan_amt</th>\n",
       "      <th>ltv</th>\n",
       "      <th>tot_income</th>\n",
       "      <th>veh_mileage</th>\n",
       "      <th>used_ind</th>\n",
       "      <th>weight</th>\n",
       "      <th>dti_hist</th>\n",
       "      <th>dti_mew</th>\n",
       "      <th>fta</th>\n",
       "      <th>nth</th>\n",
       "      <th>nta</th>\n",
       "    </tr>\n",
       "  </thead>\n",
       "  <tbody>\n",
       "    <tr>\n",
       "      <th>0</th>\n",
       "      <td>2314049</td>\n",
       "      <td>11613</td>\n",
       "      <td>1</td>\n",
       "      <td>1998.0</td>\n",
       "      <td>FORD</td>\n",
       "      <td>N</td>\n",
       "      <td>7.0</td>\n",
       "      <td>9.0</td>\n",
       "      <td>64.0</td>\n",
       "      <td>2.0</td>\n",
       "      <td>1.0</td>\n",
       "      <td>506.0</td>\n",
       "      <td>500.0</td>\n",
       "      <td>101</td>\n",
       "      <td>650.0</td>\n",
       "      <td>17200.00</td>\n",
       "      <td>17350.0</td>\n",
       "      <td>0.00</td>\n",
       "      <td>36</td>\n",
       "      <td>17200.00</td>\n",
       "      <td>99.0</td>\n",
       "      <td>6550.00</td>\n",
       "      <td>24000.0</td>\n",
       "      <td>1</td>\n",
       "      <td>1.00</td>\n",
       "      <td>0.076336</td>\n",
       "      <td>2.625954</td>\n",
       "      <td>0.000000</td>\n",
       "      <td>33.992095</td>\n",
       "      <td>34.400000</td>\n",
       "    </tr>\n",
       "    <tr>\n",
       "      <th>1</th>\n",
       "      <td>63539</td>\n",
       "      <td>13449</td>\n",
       "      <td>0</td>\n",
       "      <td>2000.0</td>\n",
       "      <td>DAEWOO</td>\n",
       "      <td>N</td>\n",
       "      <td>0.0</td>\n",
       "      <td>21.0</td>\n",
       "      <td>240.0</td>\n",
       "      <td>11.0</td>\n",
       "      <td>7.0</td>\n",
       "      <td>34605.0</td>\n",
       "      <td>57241.0</td>\n",
       "      <td>60</td>\n",
       "      <td>649.0</td>\n",
       "      <td>19588.54</td>\n",
       "      <td>19788.0</td>\n",
       "      <td>683.54</td>\n",
       "      <td>60</td>\n",
       "      <td>19588.54</td>\n",
       "      <td>99.0</td>\n",
       "      <td>4666.67</td>\n",
       "      <td>22.0</td>\n",
       "      <td>0</td>\n",
       "      <td>4.75</td>\n",
       "      <td>12.265920</td>\n",
       "      <td>4.197541</td>\n",
       "      <td>0.034895</td>\n",
       "      <td>0.566061</td>\n",
       "      <td>0.342212</td>\n",
       "    </tr>\n",
       "    <tr>\n",
       "      <th>2</th>\n",
       "      <td>7328510</td>\n",
       "      <td>14323</td>\n",
       "      <td>1</td>\n",
       "      <td>1998.0</td>\n",
       "      <td>PLYMOUTH</td>\n",
       "      <td>N</td>\n",
       "      <td>7.0</td>\n",
       "      <td>10.0</td>\n",
       "      <td>60.0</td>\n",
       "      <td>NaN</td>\n",
       "      <td>NaN</td>\n",
       "      <td>NaN</td>\n",
       "      <td>NaN</td>\n",
       "      <td>0</td>\n",
       "      <td>613.0</td>\n",
       "      <td>13595.00</td>\n",
       "      <td>11450.0</td>\n",
       "      <td>0.00</td>\n",
       "      <td>60</td>\n",
       "      <td>10500.00</td>\n",
       "      <td>92.0</td>\n",
       "      <td>2000.00</td>\n",
       "      <td>19600.0</td>\n",
       "      <td>1</td>\n",
       "      <td>1.00</td>\n",
       "      <td>NaN</td>\n",
       "      <td>5.250000</td>\n",
       "      <td>0.000000</td>\n",
       "      <td>NaN</td>\n",
       "      <td>NaN</td>\n",
       "    </tr>\n",
       "    <tr>\n",
       "      <th>3</th>\n",
       "      <td>8725187</td>\n",
       "      <td>15359</td>\n",
       "      <td>1</td>\n",
       "      <td>1997.0</td>\n",
       "      <td>FORD</td>\n",
       "      <td>N</td>\n",
       "      <td>3.0</td>\n",
       "      <td>10.0</td>\n",
       "      <td>35.0</td>\n",
       "      <td>5.0</td>\n",
       "      <td>4.0</td>\n",
       "      <td>4019.0</td>\n",
       "      <td>5946.0</td>\n",
       "      <td>68</td>\n",
       "      <td>603.0</td>\n",
       "      <td>12999.00</td>\n",
       "      <td>12100.0</td>\n",
       "      <td>3099.00</td>\n",
       "      <td>60</td>\n",
       "      <td>10800.00</td>\n",
       "      <td>118.0</td>\n",
       "      <td>1500.00</td>\n",
       "      <td>10000.0</td>\n",
       "      <td>1</td>\n",
       "      <td>1.00</td>\n",
       "      <td>3.964000</td>\n",
       "      <td>7.200000</td>\n",
       "      <td>0.286944</td>\n",
       "      <td>2.687236</td>\n",
       "      <td>1.816347</td>\n",
       "    </tr>\n",
       "    <tr>\n",
       "      <th>4</th>\n",
       "      <td>4275127</td>\n",
       "      <td>15812</td>\n",
       "      <td>0</td>\n",
       "      <td>2000.0</td>\n",
       "      <td>TOYOTA</td>\n",
       "      <td>N</td>\n",
       "      <td>0.0</td>\n",
       "      <td>10.0</td>\n",
       "      <td>104.0</td>\n",
       "      <td>2.0</td>\n",
       "      <td>0.0</td>\n",
       "      <td>0.0</td>\n",
       "      <td>1800.0</td>\n",
       "      <td>0</td>\n",
       "      <td>764.0</td>\n",
       "      <td>26328.04</td>\n",
       "      <td>22024.0</td>\n",
       "      <td>0.00</td>\n",
       "      <td>60</td>\n",
       "      <td>26328.04</td>\n",
       "      <td>122.0</td>\n",
       "      <td>4144.00</td>\n",
       "      <td>14.0</td>\n",
       "      <td>0</td>\n",
       "      <td>4.75</td>\n",
       "      <td>0.434363</td>\n",
       "      <td>6.353292</td>\n",
       "      <td>0.000000</td>\n",
       "      <td>-1.000000</td>\n",
       "      <td>14.626689</td>\n",
       "    </tr>\n",
       "  </tbody>\n",
       "</table>\n",
       "</div>"
      ],
      "text/plain": [
       "   application_id  account_number  bad_ind  vehicle_year vehicle_make  \\\n",
       "0         2314049           11613        1        1998.0         FORD   \n",
       "1           63539           13449        0        2000.0       DAEWOO   \n",
       "2         7328510           14323        1        1998.0     PLYMOUTH   \n",
       "3         8725187           15359        1        1997.0         FORD   \n",
       "4         4275127           15812        0        2000.0       TOYOTA   \n",
       "\n",
       "  bankruptcy_ind  tot_derog  tot_tr  age_oldest_tr  tot_open_tr  tot_rev_tr  \\\n",
       "0              N        7.0     9.0           64.0          2.0         1.0   \n",
       "1              N        0.0    21.0          240.0         11.0         7.0   \n",
       "2              N        7.0    10.0           60.0          NaN         NaN   \n",
       "3              N        3.0    10.0           35.0          5.0         4.0   \n",
       "4              N        0.0    10.0          104.0          2.0         0.0   \n",
       "\n",
       "   tot_rev_debt  tot_rev_line  rev_util  fico_score  purch_price     msrp  \\\n",
       "0         506.0         500.0       101       650.0     17200.00  17350.0   \n",
       "1       34605.0       57241.0        60       649.0     19588.54  19788.0   \n",
       "2           NaN           NaN         0       613.0     13595.00  11450.0   \n",
       "3        4019.0        5946.0        68       603.0     12999.00  12100.0   \n",
       "4           0.0        1800.0         0       764.0     26328.04  22024.0   \n",
       "\n",
       "   down_pyt  loan_term  loan_amt    ltv  tot_income  veh_mileage  used_ind  \\\n",
       "0      0.00         36  17200.00   99.0     6550.00      24000.0         1   \n",
       "1    683.54         60  19588.54   99.0     4666.67         22.0         0   \n",
       "2      0.00         60  10500.00   92.0     2000.00      19600.0         1   \n",
       "3   3099.00         60  10800.00  118.0     1500.00      10000.0         1   \n",
       "4      0.00         60  26328.04  122.0     4144.00         14.0         0   \n",
       "\n",
       "   weight   dti_hist   dti_mew       fta        nth        nta  \n",
       "0    1.00   0.076336  2.625954  0.000000  33.992095  34.400000  \n",
       "1    4.75  12.265920  4.197541  0.034895   0.566061   0.342212  \n",
       "2    1.00        NaN  5.250000  0.000000        NaN        NaN  \n",
       "3    1.00   3.964000  7.200000  0.286944   2.687236   1.816347  \n",
       "4    4.75   0.434363  6.353292  0.000000  -1.000000  14.626689  "
      ]
     },
     "execution_count": 16,
     "metadata": {},
     "output_type": "execute_result"
    }
   ],
   "source": [
    "##历史负债收入比:tot_rev_line/tot_income\n",
    "data_raw[\"dti_hist\"]=data_raw[[\"tot_rev_line\",\"tot_income\"]].apply(lambda x:divMy(x[0],x[1]),axis = 1)\n",
    "##本次新增负债收入比:loan_amt/tot_income\n",
    "data_raw[\"dti_mew\"]=data_raw[[\"loan_amt\",\"tot_income\"]].apply(lambda x:divMy(x[0],x[1]),axis = 1)\n",
    "##本次贷款首付比例:down_pyt/loan_amt\n",
    "data_raw[\"fta\"]=data_raw[[\"down_pyt\",\"loan_amt\"]].apply(lambda x:divMy(x[0],x[1]),axis = 1)\n",
    "##新增债务比:loan_amt/tot_rev_debt\n",
    "data_raw[\"nth\"]=data_raw[[\"loan_amt\",\"tot_rev_debt\"]].apply(lambda x:divMy(x[0],x[1]),axis = 1)\n",
    "##新增债务额度比:loan_amt/tot_rev_line\n",
    "data_raw[\"nta\"]=data_raw[[\"loan_amt\",\"tot_rev_line\"]].apply(lambda x:divMy(x[0],x[1]),axis = 1)\n",
    "\n",
    "data_raw.head()\n"
   ]
  },
  {
   "cell_type": "code",
   "execution_count": null,
   "metadata": {},
   "outputs": [],
   "source": []
  },
  {
   "cell_type": "code",
   "execution_count": null,
   "metadata": {},
   "outputs": [],
   "source": []
  },
  {
   "cell_type": "code",
   "execution_count": null,
   "metadata": {},
   "outputs": [],
   "source": []
  },
  {
   "cell_type": "markdown",
   "metadata": {},
   "source": [
    "<font color=red size=3>  3.1 变量的基本情况 </font>"
   ]
  },
  {
   "cell_type": "code",
   "execution_count": 17,
   "metadata": {},
   "outputs": [],
   "source": [
    "# 创建一个列表，用来保存所有的建模数据清洗的相关信息\n",
    "DATA_CLEAN = []"
   ]
  },
  {
   "cell_type": "code",
   "execution_count": 18,
   "metadata": {},
   "outputs": [
    {
     "name": "stdout",
     "output_type": "stream",
     "text": [
      "<class 'pandas.core.frame.DataFrame'>\n",
      "RangeIndex: 5845 entries, 0 to 5844\n",
      "Data columns (total 30 columns):\n",
      "application_id    5845 non-null int64\n",
      "account_number    5845 non-null int64\n",
      "bad_ind           5845 non-null int64\n",
      "vehicle_year      5844 non-null float64\n",
      "vehicle_make      5546 non-null object\n",
      "bankruptcy_ind    5628 non-null object\n",
      "tot_derog         5632 non-null float64\n",
      "tot_tr            5632 non-null float64\n",
      "age_oldest_tr     5629 non-null float64\n",
      "tot_open_tr       4426 non-null float64\n",
      "tot_rev_tr        5207 non-null float64\n",
      "tot_rev_debt      5367 non-null float64\n",
      "tot_rev_line      5367 non-null float64\n",
      "rev_util          5845 non-null int64\n",
      "fico_score        5531 non-null float64\n",
      "purch_price       5845 non-null float64\n",
      "msrp              5844 non-null float64\n",
      "down_pyt          5845 non-null float64\n",
      "loan_term         5845 non-null int64\n",
      "loan_amt          5845 non-null float64\n",
      "ltv               5844 non-null float64\n",
      "tot_income        5840 non-null float64\n",
      "veh_mileage       5844 non-null float64\n",
      "used_ind          5845 non-null int64\n",
      "weight            5845 non-null float64\n",
      "dti_hist          5373 non-null float64\n",
      "dti_mew           5840 non-null float64\n",
      "fta               5845 non-null float64\n",
      "nth               5367 non-null float64\n",
      "nta               5367 non-null float64\n",
      "dtypes: float64(22), int64(6), object(2)\n",
      "memory usage: 1.3+ MB\n"
     ]
    }
   ],
   "source": [
    "data_raw.info()"
   ]
  },
  {
   "cell_type": "code",
   "execution_count": 19,
   "metadata": {},
   "outputs": [
    {
     "data": {
      "text/plain": [
       "['application_id',\n",
       " 'account_number',\n",
       " 'bad_ind',\n",
       " 'vehicle_year',\n",
       " 'vehicle_make',\n",
       " 'bankruptcy_ind',\n",
       " 'tot_derog',\n",
       " 'tot_tr',\n",
       " 'age_oldest_tr',\n",
       " 'tot_open_tr',\n",
       " 'tot_rev_tr',\n",
       " 'tot_rev_debt',\n",
       " 'tot_rev_line',\n",
       " 'rev_util',\n",
       " 'fico_score',\n",
       " 'purch_price',\n",
       " 'msrp',\n",
       " 'down_pyt',\n",
       " 'loan_term',\n",
       " 'loan_amt',\n",
       " 'ltv',\n",
       " 'tot_income',\n",
       " 'veh_mileage',\n",
       " 'used_ind',\n",
       " 'weight',\n",
       " 'dti_hist',\n",
       " 'dti_mew',\n",
       " 'fta',\n",
       " 'nth',\n",
       " 'nta']"
      ]
     },
     "execution_count": 19,
     "metadata": {},
     "output_type": "execute_result"
    }
   ],
   "source": [
    "list(data_raw)"
   ]
  },
  {
   "cell_type": "code",
   "execution_count": null,
   "metadata": {},
   "outputs": [],
   "source": []
  },
  {
   "cell_type": "markdown",
   "metadata": {},
   "source": [
    "<font color=red size=3> 设置自变量与因变量 </font>"
   ]
  },
  {
   "cell_type": "code",
   "execution_count": 20,
   "metadata": {},
   "outputs": [],
   "source": [
    "#x_var_d，分类变量：目前vehicle_year、vehicle_make、bankruptcy_ind、used_ind这些分类变量\n",
    "#x_var_c，连续变量"
   ]
  },
  {
   "cell_type": "code",
   "execution_count": 21,
   "metadata": {},
   "outputs": [],
   "source": [
    "\n",
    "y_var = 'bad_ind'\n",
    "x_var_c = ['tot_tr',\n",
    "           'age_oldest_tr', 'tot_open_tr', 'tot_rev_tr', 'tot_rev_debt', 'tot_rev_line', 'rev_util', 'fico_score', 'purch_price',\n",
    "            'msrp', 'loan_term', 'loan_amt', 'ltv', 'tot_income', 'veh_mileage', 'dti_hist',\n",
    "            'dti_mew',  'nth', 'nta']\n",
    "x_var_d=['vehicle_year','bankruptcy_ind','used_ind']\n",
    "data_x_raw = data_raw[x_var_c + x_var_d]\n",
    "data_y_raw = data_raw[y_var]"
   ]
  },
  {
   "cell_type": "code",
   "execution_count": null,
   "metadata": {},
   "outputs": [],
   "source": []
  },
  {
   "cell_type": "markdown",
   "metadata": {},
   "source": [
    "<font color=red size=3> 3.2 分类变量的筛选与规范化 </font>"
   ]
  },
  {
   "cell_type": "markdown",
   "metadata": {},
   "source": [
    "<font color=red size=3> 3.2.1  分类变量的交叉表与卡方检验 </font>"
   ]
  },
  {
   "cell_type": "code",
   "execution_count": 22,
   "metadata": {},
   "outputs": [],
   "source": [
    "from scipy import stats"
   ]
  },
  {
   "cell_type": "code",
   "execution_count": 23,
   "metadata": {},
   "outputs": [],
   "source": [
    "def chi2_test(x,y):\n",
    "    cross_table=pd.crosstab(x,y,margins=True)\n",
    "    cross_table.apply(lambda s:s/cross_table['All'])\n",
    "    stats.chi2_contingency(cross_table.iloc[:2, :2])\n",
    "    print('''chisq = %6.4f \n",
    "p-value = %6.4f\n",
    "dof = %i \n",
    "expected_freq = %s'''  %stats.chi2_contingency(cross_table.iloc[:2, :2]))"
   ]
  },
  {
   "cell_type": "code",
   "execution_count": 24,
   "metadata": {},
   "outputs": [
    {
     "name": "stdout",
     "output_type": "stream",
     "text": [
      "chisq = 17.2265 \n",
      "p-value = 0.0000\n",
      "dof = 1 \n",
      "expected_freq = [[2023.01317365  520.98682635]\n",
      " [2624.98682635  676.01317365]]\n"
     ]
    }
   ],
   "source": [
    "chi2_test(data_raw.used_ind,data_raw.bad_ind)"
   ]
  },
  {
   "cell_type": "code",
   "execution_count": 25,
   "metadata": {},
   "outputs": [
    {
     "name": "stdout",
     "output_type": "stream",
     "text": [
      "chisq = 0.1875 \n",
      "p-value = 0.6650\n",
      "dof = 1 \n",
      "expected_freq = [[0.66666667 0.33333333]\n",
      " [1.33333333 0.66666667]]\n"
     ]
    }
   ],
   "source": [
    "chi2_test(data_raw.vehicle_make,data_raw.bad_ind)"
   ]
  },
  {
   "cell_type": "code",
   "execution_count": 26,
   "metadata": {},
   "outputs": [
    {
     "name": "stdout",
     "output_type": "stream",
     "text": [
      "chisq = 0.5228 \n",
      "p-value = 0.4697\n",
      "dof = 1 \n",
      "expected_freq = [[2.36207358e+02 6.17926421e+01]\n",
      " [7.92642140e-01 2.07357860e-01]]\n"
     ]
    }
   ],
   "source": [
    "chi2_test(data_raw.vehicle_year,data_raw.bad_ind)"
   ]
  },
  {
   "cell_type": "code",
   "execution_count": null,
   "metadata": {},
   "outputs": [],
   "source": []
  },
  {
   "cell_type": "code",
   "execution_count": null,
   "metadata": {},
   "outputs": [],
   "source": []
  },
  {
   "cell_type": "markdown",
   "metadata": {},
   "source": [
    "<font color=red size=3> 3.2.2  WOE转换与IV值筛选 </font>"
   ]
  },
  {
   "cell_type": "code",
   "execution_count": 27,
   "metadata": {},
   "outputs": [],
   "source": [
    "import sys\n",
    "sys.path.append('E:\\python\\myscripts')\n",
    "from woe import WoE"
   ]
  },
  {
   "cell_type": "code",
   "execution_count": 28,
   "metadata": {},
   "outputs": [],
   "source": [
    "iv_d={}\n",
    "for i in x_var_d:\n",
    "    iv_d[i]=WoE(v_type='d').fit(data_x_raw[i].copy(),data_y_raw.copy()).iv"
   ]
  },
  {
   "cell_type": "code",
   "execution_count": 29,
   "metadata": {},
   "outputs": [],
   "source": [
    "x_var_d_select=pd.DataFrame(pd.Series(iv_d).sort_values(ascending = False),columns=['a'])"
   ]
  },
  {
   "cell_type": "code",
   "execution_count": 30,
   "metadata": {},
   "outputs": [
    {
     "data": {
      "text/html": [
       "<div>\n",
       "<style scoped>\n",
       "    .dataframe tbody tr th:only-of-type {\n",
       "        vertical-align: middle;\n",
       "    }\n",
       "\n",
       "    .dataframe tbody tr th {\n",
       "        vertical-align: top;\n",
       "    }\n",
       "\n",
       "    .dataframe thead th {\n",
       "        text-align: right;\n",
       "    }\n",
       "</style>\n",
       "<table border=\"1\" class=\"dataframe\">\n",
       "  <thead>\n",
       "    <tr style=\"text-align: right;\">\n",
       "      <th></th>\n",
       "      <th>a</th>\n",
       "    </tr>\n",
       "  </thead>\n",
       "  <tbody>\n",
       "    <tr>\n",
       "      <th>vehicle_year</th>\n",
       "      <td>0.036389</td>\n",
       "    </tr>\n",
       "    <tr>\n",
       "      <th>bankruptcy_ind</th>\n",
       "      <td>0.030132</td>\n",
       "    </tr>\n",
       "    <tr>\n",
       "      <th>used_ind</th>\n",
       "      <td>0.018641</td>\n",
       "    </tr>\n",
       "  </tbody>\n",
       "</table>\n",
       "</div>"
      ],
      "text/plain": [
       "                       a\n",
       "vehicle_year    0.036389\n",
       "bankruptcy_ind  0.030132\n",
       "used_ind        0.018641"
      ]
     },
     "execution_count": 30,
     "metadata": {},
     "output_type": "execute_result"
    }
   ],
   "source": [
    "x_var_d_select"
   ]
  },
  {
   "cell_type": "code",
   "execution_count": 31,
   "metadata": {},
   "outputs": [],
   "source": [
    "x_var_d_select=x_var_d_select[x_var_d_select.a>0.02]"
   ]
  },
  {
   "cell_type": "code",
   "execution_count": 32,
   "metadata": {},
   "outputs": [],
   "source": [
    "x_var_d_select=x_var_d_select.index.tolist()"
   ]
  },
  {
   "cell_type": "code",
   "execution_count": 33,
   "metadata": {},
   "outputs": [
    {
     "data": {
      "text/plain": [
       "['vehicle_year', 'bankruptcy_ind']"
      ]
     },
     "execution_count": 33,
     "metadata": {},
     "output_type": "execute_result"
    }
   ],
   "source": [
    "x_var_d_select"
   ]
  },
  {
   "cell_type": "code",
   "execution_count": 34,
   "metadata": {},
   "outputs": [
    {
     "data": {
      "text/html": [
       "<div>\n",
       "<style scoped>\n",
       "    .dataframe tbody tr th:only-of-type {\n",
       "        vertical-align: middle;\n",
       "    }\n",
       "\n",
       "    .dataframe tbody tr th {\n",
       "        vertical-align: top;\n",
       "    }\n",
       "\n",
       "    .dataframe thead th {\n",
       "        text-align: right;\n",
       "    }\n",
       "</style>\n",
       "<table border=\"1\" class=\"dataframe\">\n",
       "  <thead>\n",
       "    <tr style=\"text-align: right;\">\n",
       "      <th></th>\n",
       "      <th>tot_tr</th>\n",
       "      <th>age_oldest_tr</th>\n",
       "      <th>tot_open_tr</th>\n",
       "      <th>tot_rev_tr</th>\n",
       "      <th>tot_rev_debt</th>\n",
       "      <th>tot_rev_line</th>\n",
       "      <th>rev_util</th>\n",
       "      <th>fico_score</th>\n",
       "      <th>purch_price</th>\n",
       "      <th>msrp</th>\n",
       "      <th>loan_term</th>\n",
       "      <th>loan_amt</th>\n",
       "      <th>ltv</th>\n",
       "      <th>tot_income</th>\n",
       "      <th>veh_mileage</th>\n",
       "      <th>dti_hist</th>\n",
       "      <th>dti_mew</th>\n",
       "      <th>nth</th>\n",
       "      <th>nta</th>\n",
       "      <th>vehicle_year</th>\n",
       "      <th>bankruptcy_ind</th>\n",
       "    </tr>\n",
       "  </thead>\n",
       "  <tbody>\n",
       "    <tr>\n",
       "      <th>0</th>\n",
       "      <td>9.0</td>\n",
       "      <td>64.0</td>\n",
       "      <td>2.0</td>\n",
       "      <td>1.0</td>\n",
       "      <td>506.0</td>\n",
       "      <td>500.0</td>\n",
       "      <td>101</td>\n",
       "      <td>650.0</td>\n",
       "      <td>17200.00</td>\n",
       "      <td>17350.0</td>\n",
       "      <td>36</td>\n",
       "      <td>17200.00</td>\n",
       "      <td>99.0</td>\n",
       "      <td>6550.00</td>\n",
       "      <td>24000.0</td>\n",
       "      <td>0.076336</td>\n",
       "      <td>2.625954</td>\n",
       "      <td>33.992095</td>\n",
       "      <td>34.400000</td>\n",
       "      <td>1998.0</td>\n",
       "      <td>N</td>\n",
       "    </tr>\n",
       "    <tr>\n",
       "      <th>1</th>\n",
       "      <td>21.0</td>\n",
       "      <td>240.0</td>\n",
       "      <td>11.0</td>\n",
       "      <td>7.0</td>\n",
       "      <td>34605.0</td>\n",
       "      <td>57241.0</td>\n",
       "      <td>60</td>\n",
       "      <td>649.0</td>\n",
       "      <td>19588.54</td>\n",
       "      <td>19788.0</td>\n",
       "      <td>60</td>\n",
       "      <td>19588.54</td>\n",
       "      <td>99.0</td>\n",
       "      <td>4666.67</td>\n",
       "      <td>22.0</td>\n",
       "      <td>12.265920</td>\n",
       "      <td>4.197541</td>\n",
       "      <td>0.566061</td>\n",
       "      <td>0.342212</td>\n",
       "      <td>2000.0</td>\n",
       "      <td>N</td>\n",
       "    </tr>\n",
       "    <tr>\n",
       "      <th>2</th>\n",
       "      <td>10.0</td>\n",
       "      <td>60.0</td>\n",
       "      <td>NaN</td>\n",
       "      <td>NaN</td>\n",
       "      <td>NaN</td>\n",
       "      <td>NaN</td>\n",
       "      <td>0</td>\n",
       "      <td>613.0</td>\n",
       "      <td>13595.00</td>\n",
       "      <td>11450.0</td>\n",
       "      <td>60</td>\n",
       "      <td>10500.00</td>\n",
       "      <td>92.0</td>\n",
       "      <td>2000.00</td>\n",
       "      <td>19600.0</td>\n",
       "      <td>NaN</td>\n",
       "      <td>5.250000</td>\n",
       "      <td>NaN</td>\n",
       "      <td>NaN</td>\n",
       "      <td>1998.0</td>\n",
       "      <td>N</td>\n",
       "    </tr>\n",
       "    <tr>\n",
       "      <th>3</th>\n",
       "      <td>10.0</td>\n",
       "      <td>35.0</td>\n",
       "      <td>5.0</td>\n",
       "      <td>4.0</td>\n",
       "      <td>4019.0</td>\n",
       "      <td>5946.0</td>\n",
       "      <td>68</td>\n",
       "      <td>603.0</td>\n",
       "      <td>12999.00</td>\n",
       "      <td>12100.0</td>\n",
       "      <td>60</td>\n",
       "      <td>10800.00</td>\n",
       "      <td>118.0</td>\n",
       "      <td>1500.00</td>\n",
       "      <td>10000.0</td>\n",
       "      <td>3.964000</td>\n",
       "      <td>7.200000</td>\n",
       "      <td>2.687236</td>\n",
       "      <td>1.816347</td>\n",
       "      <td>1997.0</td>\n",
       "      <td>N</td>\n",
       "    </tr>\n",
       "    <tr>\n",
       "      <th>4</th>\n",
       "      <td>10.0</td>\n",
       "      <td>104.0</td>\n",
       "      <td>2.0</td>\n",
       "      <td>0.0</td>\n",
       "      <td>0.0</td>\n",
       "      <td>1800.0</td>\n",
       "      <td>0</td>\n",
       "      <td>764.0</td>\n",
       "      <td>26328.04</td>\n",
       "      <td>22024.0</td>\n",
       "      <td>60</td>\n",
       "      <td>26328.04</td>\n",
       "      <td>122.0</td>\n",
       "      <td>4144.00</td>\n",
       "      <td>14.0</td>\n",
       "      <td>0.434363</td>\n",
       "      <td>6.353292</td>\n",
       "      <td>-1.000000</td>\n",
       "      <td>14.626689</td>\n",
       "      <td>2000.0</td>\n",
       "      <td>N</td>\n",
       "    </tr>\n",
       "  </tbody>\n",
       "</table>\n",
       "</div>"
      ],
      "text/plain": [
       "   tot_tr  age_oldest_tr  tot_open_tr  tot_rev_tr  tot_rev_debt  tot_rev_line  \\\n",
       "0     9.0           64.0          2.0         1.0         506.0         500.0   \n",
       "1    21.0          240.0         11.0         7.0       34605.0       57241.0   \n",
       "2    10.0           60.0          NaN         NaN           NaN           NaN   \n",
       "3    10.0           35.0          5.0         4.0        4019.0        5946.0   \n",
       "4    10.0          104.0          2.0         0.0           0.0        1800.0   \n",
       "\n",
       "   rev_util  fico_score  purch_price     msrp  loan_term  loan_amt    ltv  \\\n",
       "0       101       650.0     17200.00  17350.0         36  17200.00   99.0   \n",
       "1        60       649.0     19588.54  19788.0         60  19588.54   99.0   \n",
       "2         0       613.0     13595.00  11450.0         60  10500.00   92.0   \n",
       "3        68       603.0     12999.00  12100.0         60  10800.00  118.0   \n",
       "4         0       764.0     26328.04  22024.0         60  26328.04  122.0   \n",
       "\n",
       "   tot_income  veh_mileage   dti_hist   dti_mew        nth        nta  \\\n",
       "0     6550.00      24000.0   0.076336  2.625954  33.992095  34.400000   \n",
       "1     4666.67         22.0  12.265920  4.197541   0.566061   0.342212   \n",
       "2     2000.00      19600.0        NaN  5.250000        NaN        NaN   \n",
       "3     1500.00      10000.0   3.964000  7.200000   2.687236   1.816347   \n",
       "4     4144.00         14.0   0.434363  6.353292  -1.000000  14.626689   \n",
       "\n",
       "   vehicle_year bankruptcy_ind  \n",
       "0        1998.0              N  \n",
       "1        2000.0              N  \n",
       "2        1998.0              N  \n",
       "3        1997.0              N  \n",
       "4        2000.0              N  "
      ]
     },
     "execution_count": 34,
     "metadata": {},
     "output_type": "execute_result"
    }
   ],
   "source": [
    "data_x_repaired=data_x_raw[x_var_c+x_var_d_select]\n",
    "data_x_repaired.head()"
   ]
  },
  {
   "cell_type": "code",
   "execution_count": null,
   "metadata": {},
   "outputs": [],
   "source": []
  },
  {
   "cell_type": "markdown",
   "metadata": {},
   "source": [
    "<font color=red size=3> 分类变量的概化与WOE转换 </font>"
   ]
  },
  {
   "cell_type": "code",
   "execution_count": 35,
   "metadata": {},
   "outputs": [],
   "source": [
    "data_vehicleyear_gr=data_raw[['vehicle_year','bad_ind']].groupby('vehicle_year',as_index = False)"
   ]
  },
  {
   "cell_type": "code",
   "execution_count": 36,
   "metadata": {},
   "outputs": [],
   "source": [
    "data_vehicleyear_count=data_vehicleyear_gr['bad_ind'].agg({'mean':'mean','count':'count'}).sort_values(\"count\")"
   ]
  },
  {
   "cell_type": "code",
   "execution_count": 37,
   "metadata": {},
   "outputs": [],
   "source": [
    "data_vehicleyear_count['cumsum']=data_vehicleyear_count['count'].cumsum()"
   ]
  },
  {
   "cell_type": "code",
   "execution_count": 38,
   "metadata": {},
   "outputs": [],
   "source": [
    "data_vehicleyear_count['newyear']=data_vehicleyear_count['cumsum'].apply(lambda x:x/(len(data_raw)/5)).astype(int)"
   ]
  },
  {
   "cell_type": "code",
   "execution_count": 39,
   "metadata": {},
   "outputs": [],
   "source": [
    "data_vehicleyear_count=data_vehicleyear_count[(data_vehicleyear_count['vehicle_year']<2001)&(data_vehicleyear_count['vehicle_year']>1980)]"
   ]
  },
  {
   "cell_type": "code",
   "execution_count": 40,
   "metadata": {},
   "outputs": [
    {
     "data": {
      "text/html": [
       "<div>\n",
       "<style scoped>\n",
       "    .dataframe tbody tr th:only-of-type {\n",
       "        vertical-align: middle;\n",
       "    }\n",
       "\n",
       "    .dataframe tbody tr th {\n",
       "        vertical-align: top;\n",
       "    }\n",
       "\n",
       "    .dataframe thead th {\n",
       "        text-align: right;\n",
       "    }\n",
       "</style>\n",
       "<table border=\"1\" class=\"dataframe\">\n",
       "  <thead>\n",
       "    <tr style=\"text-align: right;\">\n",
       "      <th></th>\n",
       "      <th>vehicle_year</th>\n",
       "      <th>mean</th>\n",
       "      <th>count</th>\n",
       "      <th>cumsum</th>\n",
       "      <th>newyear</th>\n",
       "    </tr>\n",
       "  </thead>\n",
       "  <tbody>\n",
       "    <tr>\n",
       "      <th>2</th>\n",
       "      <td>1982.0</td>\n",
       "      <td>1.000000</td>\n",
       "      <td>1</td>\n",
       "      <td>2</td>\n",
       "      <td>0</td>\n",
       "    </tr>\n",
       "    <tr>\n",
       "      <th>3</th>\n",
       "      <td>1985.0</td>\n",
       "      <td>0.000000</td>\n",
       "      <td>1</td>\n",
       "      <td>3</td>\n",
       "      <td>0</td>\n",
       "    </tr>\n",
       "    <tr>\n",
       "      <th>5</th>\n",
       "      <td>1988.0</td>\n",
       "      <td>0.000000</td>\n",
       "      <td>1</td>\n",
       "      <td>4</td>\n",
       "      <td>0</td>\n",
       "    </tr>\n",
       "    <tr>\n",
       "      <th>4</th>\n",
       "      <td>1986.0</td>\n",
       "      <td>0.500000</td>\n",
       "      <td>2</td>\n",
       "      <td>7</td>\n",
       "      <td>0</td>\n",
       "    </tr>\n",
       "    <tr>\n",
       "      <th>6</th>\n",
       "      <td>1989.0</td>\n",
       "      <td>0.333333</td>\n",
       "      <td>3</td>\n",
       "      <td>10</td>\n",
       "      <td>0</td>\n",
       "    </tr>\n",
       "    <tr>\n",
       "      <th>7</th>\n",
       "      <td>1990.0</td>\n",
       "      <td>0.083333</td>\n",
       "      <td>12</td>\n",
       "      <td>26</td>\n",
       "      <td>0</td>\n",
       "    </tr>\n",
       "    <tr>\n",
       "      <th>8</th>\n",
       "      <td>1991.0</td>\n",
       "      <td>0.052632</td>\n",
       "      <td>19</td>\n",
       "      <td>45</td>\n",
       "      <td>0</td>\n",
       "    </tr>\n",
       "    <tr>\n",
       "      <th>9</th>\n",
       "      <td>1992.0</td>\n",
       "      <td>0.250000</td>\n",
       "      <td>32</td>\n",
       "      <td>77</td>\n",
       "      <td>0</td>\n",
       "    </tr>\n",
       "    <tr>\n",
       "      <th>10</th>\n",
       "      <td>1993.0</td>\n",
       "      <td>0.227848</td>\n",
       "      <td>79</td>\n",
       "      <td>156</td>\n",
       "      <td>0</td>\n",
       "    </tr>\n",
       "    <tr>\n",
       "      <th>11</th>\n",
       "      <td>1994.0</td>\n",
       "      <td>0.282353</td>\n",
       "      <td>170</td>\n",
       "      <td>326</td>\n",
       "      <td>0</td>\n",
       "    </tr>\n",
       "    <tr>\n",
       "      <th>12</th>\n",
       "      <td>1995.0</td>\n",
       "      <td>0.261029</td>\n",
       "      <td>272</td>\n",
       "      <td>598</td>\n",
       "      <td>0</td>\n",
       "    </tr>\n",
       "    <tr>\n",
       "      <th>13</th>\n",
       "      <td>1996.0</td>\n",
       "      <td>0.237885</td>\n",
       "      <td>454</td>\n",
       "      <td>1350</td>\n",
       "      <td>1</td>\n",
       "    </tr>\n",
       "    <tr>\n",
       "      <th>15</th>\n",
       "      <td>1998.0</td>\n",
       "      <td>0.215926</td>\n",
       "      <td>653</td>\n",
       "      <td>2003</td>\n",
       "      <td>1</td>\n",
       "    </tr>\n",
       "    <tr>\n",
       "      <th>14</th>\n",
       "      <td>1997.0</td>\n",
       "      <td>0.210379</td>\n",
       "      <td>713</td>\n",
       "      <td>2716</td>\n",
       "      <td>2</td>\n",
       "    </tr>\n",
       "    <tr>\n",
       "      <th>16</th>\n",
       "      <td>1999.0</td>\n",
       "      <td>0.210526</td>\n",
       "      <td>1045</td>\n",
       "      <td>3761</td>\n",
       "      <td>3</td>\n",
       "    </tr>\n",
       "    <tr>\n",
       "      <th>17</th>\n",
       "      <td>2000.0</td>\n",
       "      <td>0.175228</td>\n",
       "      <td>2083</td>\n",
       "      <td>5844</td>\n",
       "      <td>4</td>\n",
       "    </tr>\n",
       "  </tbody>\n",
       "</table>\n",
       "</div>"
      ],
      "text/plain": [
       "    vehicle_year      mean  count  cumsum  newyear\n",
       "2         1982.0  1.000000      1       2        0\n",
       "3         1985.0  0.000000      1       3        0\n",
       "5         1988.0  0.000000      1       4        0\n",
       "4         1986.0  0.500000      2       7        0\n",
       "6         1989.0  0.333333      3      10        0\n",
       "7         1990.0  0.083333     12      26        0\n",
       "8         1991.0  0.052632     19      45        0\n",
       "9         1992.0  0.250000     32      77        0\n",
       "10        1993.0  0.227848     79     156        0\n",
       "11        1994.0  0.282353    170     326        0\n",
       "12        1995.0  0.261029    272     598        0\n",
       "13        1996.0  0.237885    454    1350        1\n",
       "15        1998.0  0.215926    653    2003        1\n",
       "14        1997.0  0.210379    713    2716        2\n",
       "16        1999.0  0.210526   1045    3761        3\n",
       "17        2000.0  0.175228   2083    5844        4"
      ]
     },
     "execution_count": 40,
     "metadata": {},
     "output_type": "execute_result"
    }
   ],
   "source": [
    "data_vehicleyear_count"
   ]
  },
  {
   "cell_type": "code",
   "execution_count": 41,
   "metadata": {},
   "outputs": [
    {
     "data": {
      "text/html": [
       "<div>\n",
       "<style scoped>\n",
       "    .dataframe tbody tr th:only-of-type {\n",
       "        vertical-align: middle;\n",
       "    }\n",
       "\n",
       "    .dataframe tbody tr th {\n",
       "        vertical-align: top;\n",
       "    }\n",
       "\n",
       "    .dataframe thead th {\n",
       "        text-align: right;\n",
       "    }\n",
       "</style>\n",
       "<table border=\"1\" class=\"dataframe\">\n",
       "  <thead>\n",
       "    <tr style=\"text-align: right;\">\n",
       "      <th></th>\n",
       "      <th>count</th>\n",
       "    </tr>\n",
       "    <tr>\n",
       "      <th>newyear</th>\n",
       "      <th></th>\n",
       "    </tr>\n",
       "  </thead>\n",
       "  <tbody>\n",
       "    <tr>\n",
       "      <th>0</th>\n",
       "      <td>592</td>\n",
       "    </tr>\n",
       "    <tr>\n",
       "      <th>1</th>\n",
       "      <td>1107</td>\n",
       "    </tr>\n",
       "    <tr>\n",
       "      <th>2</th>\n",
       "      <td>713</td>\n",
       "    </tr>\n",
       "    <tr>\n",
       "      <th>3</th>\n",
       "      <td>1045</td>\n",
       "    </tr>\n",
       "    <tr>\n",
       "      <th>4</th>\n",
       "      <td>2083</td>\n",
       "    </tr>\n",
       "  </tbody>\n",
       "</table>\n",
       "</div>"
      ],
      "text/plain": [
       "         count\n",
       "newyear       \n",
       "0          592\n",
       "1         1107\n",
       "2          713\n",
       "3         1045\n",
       "4         2083"
      ]
     },
     "execution_count": 41,
     "metadata": {},
     "output_type": "execute_result"
    }
   ],
   "source": [
    "data_vehicleyear_count[['newyear','count']].groupby('newyear').sum()"
   ]
  },
  {
   "cell_type": "code",
   "execution_count": 42,
   "metadata": {},
   "outputs": [],
   "source": [
    "vehicleyear_labels=data_vehicleyear_count[['vehicle_year','newyear']].set_index('vehicle_year').to_dict()"
   ]
  },
  {
   "cell_type": "code",
   "execution_count": null,
   "metadata": {},
   "outputs": [],
   "source": []
  },
  {
   "cell_type": "code",
   "execution_count": 43,
   "metadata": {},
   "outputs": [],
   "source": [
    "data_x_repaired['vehicle_year']=data_x_repaired['vehicle_year'].map(vehicleyear_labels['newyear'])"
   ]
  },
  {
   "cell_type": "code",
   "execution_count": 44,
   "metadata": {},
   "outputs": [
    {
     "data": {
      "text/html": [
       "<div>\n",
       "<style scoped>\n",
       "    .dataframe tbody tr th:only-of-type {\n",
       "        vertical-align: middle;\n",
       "    }\n",
       "\n",
       "    .dataframe tbody tr th {\n",
       "        vertical-align: top;\n",
       "    }\n",
       "\n",
       "    .dataframe thead th {\n",
       "        text-align: right;\n",
       "    }\n",
       "</style>\n",
       "<table border=\"1\" class=\"dataframe\">\n",
       "  <thead>\n",
       "    <tr style=\"text-align: right;\">\n",
       "      <th></th>\n",
       "      <th>tot_tr</th>\n",
       "      <th>age_oldest_tr</th>\n",
       "      <th>tot_open_tr</th>\n",
       "      <th>tot_rev_tr</th>\n",
       "      <th>tot_rev_debt</th>\n",
       "      <th>tot_rev_line</th>\n",
       "      <th>rev_util</th>\n",
       "      <th>fico_score</th>\n",
       "      <th>purch_price</th>\n",
       "      <th>msrp</th>\n",
       "      <th>loan_term</th>\n",
       "      <th>loan_amt</th>\n",
       "      <th>ltv</th>\n",
       "      <th>tot_income</th>\n",
       "      <th>veh_mileage</th>\n",
       "      <th>dti_hist</th>\n",
       "      <th>dti_mew</th>\n",
       "      <th>nth</th>\n",
       "      <th>nta</th>\n",
       "      <th>vehicle_year</th>\n",
       "      <th>bankruptcy_ind</th>\n",
       "    </tr>\n",
       "  </thead>\n",
       "  <tbody>\n",
       "    <tr>\n",
       "      <th>0</th>\n",
       "      <td>9.0</td>\n",
       "      <td>64.0</td>\n",
       "      <td>2.0</td>\n",
       "      <td>1.0</td>\n",
       "      <td>506.0</td>\n",
       "      <td>500.0</td>\n",
       "      <td>101</td>\n",
       "      <td>650.0</td>\n",
       "      <td>17200.00</td>\n",
       "      <td>17350.0</td>\n",
       "      <td>36</td>\n",
       "      <td>17200.00</td>\n",
       "      <td>99.0</td>\n",
       "      <td>6550.00</td>\n",
       "      <td>24000.0</td>\n",
       "      <td>0.076336</td>\n",
       "      <td>2.625954</td>\n",
       "      <td>33.992095</td>\n",
       "      <td>34.400000</td>\n",
       "      <td>1.0</td>\n",
       "      <td>N</td>\n",
       "    </tr>\n",
       "    <tr>\n",
       "      <th>1</th>\n",
       "      <td>21.0</td>\n",
       "      <td>240.0</td>\n",
       "      <td>11.0</td>\n",
       "      <td>7.0</td>\n",
       "      <td>34605.0</td>\n",
       "      <td>57241.0</td>\n",
       "      <td>60</td>\n",
       "      <td>649.0</td>\n",
       "      <td>19588.54</td>\n",
       "      <td>19788.0</td>\n",
       "      <td>60</td>\n",
       "      <td>19588.54</td>\n",
       "      <td>99.0</td>\n",
       "      <td>4666.67</td>\n",
       "      <td>22.0</td>\n",
       "      <td>12.265920</td>\n",
       "      <td>4.197541</td>\n",
       "      <td>0.566061</td>\n",
       "      <td>0.342212</td>\n",
       "      <td>4.0</td>\n",
       "      <td>N</td>\n",
       "    </tr>\n",
       "    <tr>\n",
       "      <th>2</th>\n",
       "      <td>10.0</td>\n",
       "      <td>60.0</td>\n",
       "      <td>NaN</td>\n",
       "      <td>NaN</td>\n",
       "      <td>NaN</td>\n",
       "      <td>NaN</td>\n",
       "      <td>0</td>\n",
       "      <td>613.0</td>\n",
       "      <td>13595.00</td>\n",
       "      <td>11450.0</td>\n",
       "      <td>60</td>\n",
       "      <td>10500.00</td>\n",
       "      <td>92.0</td>\n",
       "      <td>2000.00</td>\n",
       "      <td>19600.0</td>\n",
       "      <td>NaN</td>\n",
       "      <td>5.250000</td>\n",
       "      <td>NaN</td>\n",
       "      <td>NaN</td>\n",
       "      <td>1.0</td>\n",
       "      <td>N</td>\n",
       "    </tr>\n",
       "    <tr>\n",
       "      <th>3</th>\n",
       "      <td>10.0</td>\n",
       "      <td>35.0</td>\n",
       "      <td>5.0</td>\n",
       "      <td>4.0</td>\n",
       "      <td>4019.0</td>\n",
       "      <td>5946.0</td>\n",
       "      <td>68</td>\n",
       "      <td>603.0</td>\n",
       "      <td>12999.00</td>\n",
       "      <td>12100.0</td>\n",
       "      <td>60</td>\n",
       "      <td>10800.00</td>\n",
       "      <td>118.0</td>\n",
       "      <td>1500.00</td>\n",
       "      <td>10000.0</td>\n",
       "      <td>3.964000</td>\n",
       "      <td>7.200000</td>\n",
       "      <td>2.687236</td>\n",
       "      <td>1.816347</td>\n",
       "      <td>2.0</td>\n",
       "      <td>N</td>\n",
       "    </tr>\n",
       "    <tr>\n",
       "      <th>4</th>\n",
       "      <td>10.0</td>\n",
       "      <td>104.0</td>\n",
       "      <td>2.0</td>\n",
       "      <td>0.0</td>\n",
       "      <td>0.0</td>\n",
       "      <td>1800.0</td>\n",
       "      <td>0</td>\n",
       "      <td>764.0</td>\n",
       "      <td>26328.04</td>\n",
       "      <td>22024.0</td>\n",
       "      <td>60</td>\n",
       "      <td>26328.04</td>\n",
       "      <td>122.0</td>\n",
       "      <td>4144.00</td>\n",
       "      <td>14.0</td>\n",
       "      <td>0.434363</td>\n",
       "      <td>6.353292</td>\n",
       "      <td>-1.000000</td>\n",
       "      <td>14.626689</td>\n",
       "      <td>4.0</td>\n",
       "      <td>N</td>\n",
       "    </tr>\n",
       "  </tbody>\n",
       "</table>\n",
       "</div>"
      ],
      "text/plain": [
       "   tot_tr  age_oldest_tr  tot_open_tr  tot_rev_tr  tot_rev_debt  tot_rev_line  \\\n",
       "0     9.0           64.0          2.0         1.0         506.0         500.0   \n",
       "1    21.0          240.0         11.0         7.0       34605.0       57241.0   \n",
       "2    10.0           60.0          NaN         NaN           NaN           NaN   \n",
       "3    10.0           35.0          5.0         4.0        4019.0        5946.0   \n",
       "4    10.0          104.0          2.0         0.0           0.0        1800.0   \n",
       "\n",
       "   rev_util  fico_score  purch_price     msrp  loan_term  loan_amt    ltv  \\\n",
       "0       101       650.0     17200.00  17350.0         36  17200.00   99.0   \n",
       "1        60       649.0     19588.54  19788.0         60  19588.54   99.0   \n",
       "2         0       613.0     13595.00  11450.0         60  10500.00   92.0   \n",
       "3        68       603.0     12999.00  12100.0         60  10800.00  118.0   \n",
       "4         0       764.0     26328.04  22024.0         60  26328.04  122.0   \n",
       "\n",
       "   tot_income  veh_mileage   dti_hist   dti_mew        nth        nta  \\\n",
       "0     6550.00      24000.0   0.076336  2.625954  33.992095  34.400000   \n",
       "1     4666.67         22.0  12.265920  4.197541   0.566061   0.342212   \n",
       "2     2000.00      19600.0        NaN  5.250000        NaN        NaN   \n",
       "3     1500.00      10000.0   3.964000  7.200000   2.687236   1.816347   \n",
       "4     4144.00         14.0   0.434363  6.353292  -1.000000  14.626689   \n",
       "\n",
       "   vehicle_year bankruptcy_ind  \n",
       "0           1.0              N  \n",
       "1           4.0              N  \n",
       "2           1.0              N  \n",
       "3           2.0              N  \n",
       "4           4.0              N  "
      ]
     },
     "execution_count": 44,
     "metadata": {},
     "output_type": "execute_result"
    }
   ],
   "source": [
    "data_x_repaired.head()"
   ]
  },
  {
   "cell_type": "code",
   "execution_count": null,
   "metadata": {},
   "outputs": [],
   "source": []
  },
  {
   "cell_type": "markdown",
   "metadata": {},
   "source": [
    "<font color=red size=3> 分类变量的二值化 </font>"
   ]
  },
  {
   "cell_type": "code",
   "execution_count": 45,
   "metadata": {},
   "outputs": [],
   "source": [
    "from sklearn import preprocessing"
   ]
  },
  {
   "cell_type": "code",
   "execution_count": 46,
   "metadata": {},
   "outputs": [],
   "source": [
    "data_x_repaired=data_x_repaired[data_x_repaired['bankruptcy_ind'].notna()]"
   ]
  },
  {
   "cell_type": "code",
   "execution_count": 47,
   "metadata": {},
   "outputs": [],
   "source": [
    "labelen=preprocessing.LabelEncoder()"
   ]
  },
  {
   "cell_type": "code",
   "execution_count": 48,
   "metadata": {},
   "outputs": [],
   "source": [
    "data_x_repaired['bankruptcy_ind']=labelen.fit_transform(data_x_repaired[['bankruptcy_ind']].values)"
   ]
  },
  {
   "cell_type": "code",
   "execution_count": 49,
   "metadata": {},
   "outputs": [
    {
     "data": {
      "text/html": [
       "<div>\n",
       "<style scoped>\n",
       "    .dataframe tbody tr th:only-of-type {\n",
       "        vertical-align: middle;\n",
       "    }\n",
       "\n",
       "    .dataframe tbody tr th {\n",
       "        vertical-align: top;\n",
       "    }\n",
       "\n",
       "    .dataframe thead th {\n",
       "        text-align: right;\n",
       "    }\n",
       "</style>\n",
       "<table border=\"1\" class=\"dataframe\">\n",
       "  <thead>\n",
       "    <tr style=\"text-align: right;\">\n",
       "      <th></th>\n",
       "      <th>tot_tr</th>\n",
       "      <th>age_oldest_tr</th>\n",
       "      <th>tot_open_tr</th>\n",
       "      <th>tot_rev_tr</th>\n",
       "      <th>tot_rev_debt</th>\n",
       "      <th>tot_rev_line</th>\n",
       "      <th>rev_util</th>\n",
       "      <th>fico_score</th>\n",
       "      <th>purch_price</th>\n",
       "      <th>msrp</th>\n",
       "      <th>loan_term</th>\n",
       "      <th>loan_amt</th>\n",
       "      <th>ltv</th>\n",
       "      <th>tot_income</th>\n",
       "      <th>veh_mileage</th>\n",
       "      <th>dti_hist</th>\n",
       "      <th>dti_mew</th>\n",
       "      <th>nth</th>\n",
       "      <th>nta</th>\n",
       "      <th>vehicle_year</th>\n",
       "      <th>bankruptcy_ind</th>\n",
       "    </tr>\n",
       "  </thead>\n",
       "  <tbody>\n",
       "    <tr>\n",
       "      <th>0</th>\n",
       "      <td>9.0</td>\n",
       "      <td>64.0</td>\n",
       "      <td>2.0</td>\n",
       "      <td>1.0</td>\n",
       "      <td>506.0</td>\n",
       "      <td>500.0</td>\n",
       "      <td>101</td>\n",
       "      <td>650.0</td>\n",
       "      <td>17200.00</td>\n",
       "      <td>17350.0</td>\n",
       "      <td>36</td>\n",
       "      <td>17200.00</td>\n",
       "      <td>99.0</td>\n",
       "      <td>6550.00</td>\n",
       "      <td>24000.0</td>\n",
       "      <td>0.076336</td>\n",
       "      <td>2.625954</td>\n",
       "      <td>33.992095</td>\n",
       "      <td>34.400000</td>\n",
       "      <td>1.0</td>\n",
       "      <td>0</td>\n",
       "    </tr>\n",
       "    <tr>\n",
       "      <th>1</th>\n",
       "      <td>21.0</td>\n",
       "      <td>240.0</td>\n",
       "      <td>11.0</td>\n",
       "      <td>7.0</td>\n",
       "      <td>34605.0</td>\n",
       "      <td>57241.0</td>\n",
       "      <td>60</td>\n",
       "      <td>649.0</td>\n",
       "      <td>19588.54</td>\n",
       "      <td>19788.0</td>\n",
       "      <td>60</td>\n",
       "      <td>19588.54</td>\n",
       "      <td>99.0</td>\n",
       "      <td>4666.67</td>\n",
       "      <td>22.0</td>\n",
       "      <td>12.265920</td>\n",
       "      <td>4.197541</td>\n",
       "      <td>0.566061</td>\n",
       "      <td>0.342212</td>\n",
       "      <td>4.0</td>\n",
       "      <td>0</td>\n",
       "    </tr>\n",
       "    <tr>\n",
       "      <th>2</th>\n",
       "      <td>10.0</td>\n",
       "      <td>60.0</td>\n",
       "      <td>NaN</td>\n",
       "      <td>NaN</td>\n",
       "      <td>NaN</td>\n",
       "      <td>NaN</td>\n",
       "      <td>0</td>\n",
       "      <td>613.0</td>\n",
       "      <td>13595.00</td>\n",
       "      <td>11450.0</td>\n",
       "      <td>60</td>\n",
       "      <td>10500.00</td>\n",
       "      <td>92.0</td>\n",
       "      <td>2000.00</td>\n",
       "      <td>19600.0</td>\n",
       "      <td>NaN</td>\n",
       "      <td>5.250000</td>\n",
       "      <td>NaN</td>\n",
       "      <td>NaN</td>\n",
       "      <td>1.0</td>\n",
       "      <td>0</td>\n",
       "    </tr>\n",
       "    <tr>\n",
       "      <th>3</th>\n",
       "      <td>10.0</td>\n",
       "      <td>35.0</td>\n",
       "      <td>5.0</td>\n",
       "      <td>4.0</td>\n",
       "      <td>4019.0</td>\n",
       "      <td>5946.0</td>\n",
       "      <td>68</td>\n",
       "      <td>603.0</td>\n",
       "      <td>12999.00</td>\n",
       "      <td>12100.0</td>\n",
       "      <td>60</td>\n",
       "      <td>10800.00</td>\n",
       "      <td>118.0</td>\n",
       "      <td>1500.00</td>\n",
       "      <td>10000.0</td>\n",
       "      <td>3.964000</td>\n",
       "      <td>7.200000</td>\n",
       "      <td>2.687236</td>\n",
       "      <td>1.816347</td>\n",
       "      <td>2.0</td>\n",
       "      <td>0</td>\n",
       "    </tr>\n",
       "    <tr>\n",
       "      <th>4</th>\n",
       "      <td>10.0</td>\n",
       "      <td>104.0</td>\n",
       "      <td>2.0</td>\n",
       "      <td>0.0</td>\n",
       "      <td>0.0</td>\n",
       "      <td>1800.0</td>\n",
       "      <td>0</td>\n",
       "      <td>764.0</td>\n",
       "      <td>26328.04</td>\n",
       "      <td>22024.0</td>\n",
       "      <td>60</td>\n",
       "      <td>26328.04</td>\n",
       "      <td>122.0</td>\n",
       "      <td>4144.00</td>\n",
       "      <td>14.0</td>\n",
       "      <td>0.434363</td>\n",
       "      <td>6.353292</td>\n",
       "      <td>-1.000000</td>\n",
       "      <td>14.626689</td>\n",
       "      <td>4.0</td>\n",
       "      <td>0</td>\n",
       "    </tr>\n",
       "  </tbody>\n",
       "</table>\n",
       "</div>"
      ],
      "text/plain": [
       "   tot_tr  age_oldest_tr  tot_open_tr  tot_rev_tr  tot_rev_debt  tot_rev_line  \\\n",
       "0     9.0           64.0          2.0         1.0         506.0         500.0   \n",
       "1    21.0          240.0         11.0         7.0       34605.0       57241.0   \n",
       "2    10.0           60.0          NaN         NaN           NaN           NaN   \n",
       "3    10.0           35.0          5.0         4.0        4019.0        5946.0   \n",
       "4    10.0          104.0          2.0         0.0           0.0        1800.0   \n",
       "\n",
       "   rev_util  fico_score  purch_price     msrp  loan_term  loan_amt    ltv  \\\n",
       "0       101       650.0     17200.00  17350.0         36  17200.00   99.0   \n",
       "1        60       649.0     19588.54  19788.0         60  19588.54   99.0   \n",
       "2         0       613.0     13595.00  11450.0         60  10500.00   92.0   \n",
       "3        68       603.0     12999.00  12100.0         60  10800.00  118.0   \n",
       "4         0       764.0     26328.04  22024.0         60  26328.04  122.0   \n",
       "\n",
       "   tot_income  veh_mileage   dti_hist   dti_mew        nth        nta  \\\n",
       "0     6550.00      24000.0   0.076336  2.625954  33.992095  34.400000   \n",
       "1     4666.67         22.0  12.265920  4.197541   0.566061   0.342212   \n",
       "2     2000.00      19600.0        NaN  5.250000        NaN        NaN   \n",
       "3     1500.00      10000.0   3.964000  7.200000   2.687236   1.816347   \n",
       "4     4144.00         14.0   0.434363  6.353292  -1.000000  14.626689   \n",
       "\n",
       "   vehicle_year  bankruptcy_ind  \n",
       "0           1.0               0  \n",
       "1           4.0               0  \n",
       "2           1.0               0  \n",
       "3           2.0               0  \n",
       "4           4.0               0  "
      ]
     },
     "execution_count": 49,
     "metadata": {},
     "output_type": "execute_result"
    }
   ],
   "source": [
    "data_x_repaired.head()"
   ]
  },
  {
   "cell_type": "code",
   "execution_count": null,
   "metadata": {},
   "outputs": [],
   "source": []
  },
  {
   "cell_type": "code",
   "execution_count": null,
   "metadata": {},
   "outputs": [],
   "source": []
  },
  {
   "cell_type": "markdown",
   "metadata": {},
   "source": [
    "<font color=red size=3> 3.3 连续变量的筛选与规范化 </font>"
   ]
  },
  {
   "cell_type": "markdown",
   "metadata": {},
   "source": [
    "<font color=red size=3>  3.3,1 WOE选择变量 </font>"
   ]
  },
  {
   "cell_type": "code",
   "execution_count": null,
   "metadata": {},
   "outputs": [],
   "source": []
  },
  {
   "cell_type": "code",
   "execution_count": 50,
   "metadata": {},
   "outputs": [],
   "source": [
    "iv_c={}\n",
    "for i in x_var_c:\n",
    "    iv_c[i]=WoE(v_type='c',t_type='b',qnt_num=3).fit(data_x_raw[i].copy(),data_y_raw.copy()).iv"
   ]
  },
  {
   "cell_type": "code",
   "execution_count": 51,
   "metadata": {},
   "outputs": [],
   "source": [
    "x_var_c_woe=pd.Series(iv_c).sort_values(ascending = False)[pd.Series(iv_c).sort_values(ascending = False)>0.02].index"
   ]
  },
  {
   "cell_type": "code",
   "execution_count": 52,
   "metadata": {},
   "outputs": [
    {
     "data": {
      "text/plain": [
       "fico_score       0.724730\n",
       "tot_rev_line     0.368499\n",
       "nta              0.315410\n",
       "dti_hist         0.293146\n",
       "age_oldest_tr    0.236852\n",
       "rev_util         0.159759\n",
       "ltv              0.155953\n",
       "tot_tr           0.129646\n",
       "tot_rev_tr       0.071730\n",
       "tot_rev_debt     0.062536\n",
       "nth              0.059873\n",
       "tot_income       0.059364\n",
       "veh_mileage      0.037718\n",
       "dti_mew          0.034909\n",
       "purch_price      0.027539\n",
       "msrp             0.026451\n",
       "tot_open_tr      0.023910\n",
       "loan_amt         0.005815\n",
       "loan_term        0.003324\n",
       "dtype: float64"
      ]
     },
     "execution_count": 52,
     "metadata": {},
     "output_type": "execute_result"
    }
   ],
   "source": [
    "pd.Series(iv_c).sort_values(ascending = False)"
   ]
  },
  {
   "cell_type": "code",
   "execution_count": 53,
   "metadata": {},
   "outputs": [],
   "source": [
    "x_var_c_woe=x_var_c_woe.to_list()"
   ]
  },
  {
   "cell_type": "code",
   "execution_count": 54,
   "metadata": {},
   "outputs": [
    {
     "data": {
      "text/plain": [
       "['fico_score',\n",
       " 'tot_rev_line',\n",
       " 'nta',\n",
       " 'dti_hist',\n",
       " 'age_oldest_tr',\n",
       " 'rev_util',\n",
       " 'ltv',\n",
       " 'tot_tr',\n",
       " 'tot_rev_tr',\n",
       " 'tot_rev_debt',\n",
       " 'nth',\n",
       " 'tot_income',\n",
       " 'veh_mileage',\n",
       " 'dti_mew',\n",
       " 'purch_price',\n",
       " 'msrp',\n",
       " 'tot_open_tr']"
      ]
     },
     "execution_count": 54,
     "metadata": {},
     "output_type": "execute_result"
    }
   ],
   "source": [
    "x_var_c_woe"
   ]
  },
  {
   "cell_type": "markdown",
   "metadata": {},
   "source": [
    "<font color=red size=3>  3.3,2 向前法根据AIC选择变量 </font>"
   ]
  },
  {
   "cell_type": "code",
   "execution_count": 55,
   "metadata": {},
   "outputs": [],
   "source": [
    "#只有连续变量可以进行变量筛选，分类变量需要进行WOE转换才可以进行变量筛选"
   ]
  },
  {
   "cell_type": "code",
   "execution_count": 56,
   "metadata": {},
   "outputs": [],
   "source": [
    "var_c_forward_select=[]\n",
    "# 向前法\n",
    "def forward_select(data, response):\n",
    "    remaining = set(data.columns)\n",
    "    remaining.remove(response)\n",
    "    selected = []\n",
    "    current_score, best_new_score = float('inf'), float('inf')\n",
    "    while remaining:\n",
    "        aic_with_candidates=[]\n",
    "        for candidate in remaining:\n",
    "            formula = \"{} ~ {}\".format(\n",
    "                response,' + '.join(selected + [candidate]))\n",
    "            aic = smf.glm(\n",
    "                formula=formula, data=data, \n",
    "                family=sm.families.Binomial(sm.families.links.logit)\n",
    "            ).fit().aic\n",
    "            aic_with_candidates.append((aic, candidate))\n",
    "        aic_with_candidates.sort(reverse=True)\n",
    "        best_new_score, best_candidate=aic_with_candidates.pop()\n",
    "        if current_score > best_new_score: \n",
    "            remaining.remove(best_candidate)\n",
    "            selected.append(best_candidate)\n",
    "            current_score = best_new_score\n",
    "            var_c_forward_select.append(best_candidate)\n",
    "            print ('aic is {},continuing!'.format(current_score))\n",
    "        else:        \n",
    "            print ('forward selection over!')\n",
    "            break    \n",
    "    formula = \"{} ~ {} \".format(response,' + '.join(selected))\n",
    "    print('final formula is {}'.format(formula))\n",
    "    model = smf.glm(\n",
    "        formula=formula, data=data, \n",
    "        family=sm.families.Binomial(sm.families.links.logit)\n",
    "    ).fit()\n",
    "    return(model)"
   ]
  },
  {
   "cell_type": "code",
   "execution_count": null,
   "metadata": {},
   "outputs": [],
   "source": []
  },
  {
   "cell_type": "code",
   "execution_count": 57,
   "metadata": {},
   "outputs": [],
   "source": [
    "x_var_c_s=x_var_c_woe"
   ]
  },
  {
   "cell_type": "code",
   "execution_count": 58,
   "metadata": {},
   "outputs": [],
   "source": [
    "x_var_c_s.append(y_var)"
   ]
  },
  {
   "cell_type": "code",
   "execution_count": 59,
   "metadata": {},
   "outputs": [],
   "source": [
    "data_raw_forselect=data_raw[x_var_c_s]"
   ]
  },
  {
   "cell_type": "code",
   "execution_count": 60,
   "metadata": {},
   "outputs": [
    {
     "name": "stdout",
     "output_type": "stream",
     "text": [
      "aic is 4313.645322040558,continuing!\n",
      "aic is 3777.9942002712783,continuing!\n",
      "aic is 3644.1100213117547,continuing!\n",
      "aic is 3596.9072586682773,continuing!\n",
      "aic is 3581.936068320804,continuing!\n",
      "aic is 3578.214780375815,continuing!\n",
      "aic is 3576.846186261635,continuing!\n",
      "aic is 3575.5650404770386,continuing!\n",
      "aic is 3575.2107296542936,continuing!\n",
      "aic is 3575.11169543479,continuing!\n",
      "forward selection over!\n",
      "final formula is bad_ind ~ tot_open_tr + fico_score + ltv + tot_rev_line + age_oldest_tr + dti_mew + rev_util + dti_hist + nth + tot_rev_tr \n"
     ]
    },
    {
     "data": {
      "text/html": [
       "<table class=\"simpletable\">\n",
       "<caption>Generalized Linear Model Regression Results</caption>\n",
       "<tr>\n",
       "  <th>Dep. Variable:</th>       <td>bad_ind</td>     <th>  No. Observations:  </th>  <td>  4355</td>  \n",
       "</tr>\n",
       "<tr>\n",
       "  <th>Model:</th>                 <td>GLM</td>       <th>  Df Residuals:      </th>  <td>  4344</td>  \n",
       "</tr>\n",
       "<tr>\n",
       "  <th>Model Family:</th>       <td>Binomial</td>     <th>  Df Model:          </th>  <td>    10</td>  \n",
       "</tr>\n",
       "<tr>\n",
       "  <th>Link Function:</th>        <td>logit</td>      <th>  Scale:             </th> <td>  1.0000</td> \n",
       "</tr>\n",
       "<tr>\n",
       "  <th>Method:</th>               <td>IRLS</td>       <th>  Log-Likelihood:    </th> <td> -1776.6</td> \n",
       "</tr>\n",
       "<tr>\n",
       "  <th>Date:</th>           <td>Sat, 06 Apr 2019</td> <th>  Deviance:          </th> <td>  3553.1</td> \n",
       "</tr>\n",
       "<tr>\n",
       "  <th>Time:</th>               <td>16:30:09</td>     <th>  Pearson chi2:      </th> <td>4.18e+03</td> \n",
       "</tr>\n",
       "<tr>\n",
       "  <th>No. Iterations:</th>         <td>9</td>        <th>  Covariance Type:   </th> <td>nonrobust</td>\n",
       "</tr>\n",
       "</table>\n",
       "<table class=\"simpletable\">\n",
       "<tr>\n",
       "        <td></td>           <th>coef</th>     <th>std err</th>      <th>z</th>      <th>P>|z|</th>  <th>[0.025</th>    <th>0.975]</th>  \n",
       "</tr>\n",
       "<tr>\n",
       "  <th>Intercept</th>     <td>    5.6081</td> <td>    0.643</td> <td>    8.719</td> <td> 0.000</td> <td>    4.347</td> <td>    6.869</td>\n",
       "</tr>\n",
       "<tr>\n",
       "  <th>tot_open_tr</th>   <td>   -0.0063</td> <td>    0.023</td> <td>   -0.272</td> <td> 0.786</td> <td>   -0.052</td> <td>    0.039</td>\n",
       "</tr>\n",
       "<tr>\n",
       "  <th>fico_score</th>    <td>   -0.0139</td> <td>    0.001</td> <td>  -14.947</td> <td> 0.000</td> <td>   -0.016</td> <td>   -0.012</td>\n",
       "</tr>\n",
       "<tr>\n",
       "  <th>ltv</th>           <td>    0.0275</td> <td>    0.003</td> <td>    9.730</td> <td> 0.000</td> <td>    0.022</td> <td>    0.033</td>\n",
       "</tr>\n",
       "<tr>\n",
       "  <th>tot_rev_line</th>  <td>-1.606e-05</td> <td> 4.72e-06</td> <td>   -3.406</td> <td> 0.001</td> <td>-2.53e-05</td> <td>-6.82e-06</td>\n",
       "</tr>\n",
       "<tr>\n",
       "  <th>age_oldest_tr</th> <td>   -0.0022</td> <td>    0.001</td> <td>   -4.038</td> <td> 0.000</td> <td>   -0.003</td> <td>   -0.001</td>\n",
       "</tr>\n",
       "<tr>\n",
       "  <th>dti_mew</th>       <td>    0.0082</td> <td>    0.006</td> <td>    1.273</td> <td> 0.203</td> <td>   -0.004</td> <td>    0.021</td>\n",
       "</tr>\n",
       "<tr>\n",
       "  <th>rev_util</th>      <td>    0.0008</td> <td>    0.000</td> <td>    1.685</td> <td> 0.092</td> <td>   -0.000</td> <td>    0.002</td>\n",
       "</tr>\n",
       "<tr>\n",
       "  <th>dti_hist</th>      <td>   -0.0123</td> <td>    0.014</td> <td>   -0.869</td> <td> 0.385</td> <td>   -0.040</td> <td>    0.015</td>\n",
       "</tr>\n",
       "<tr>\n",
       "  <th>nth</th>           <td>    0.0002</td> <td>    0.000</td> <td>    1.634</td> <td> 0.102</td> <td>-4.14e-05</td> <td>    0.000</td>\n",
       "</tr>\n",
       "<tr>\n",
       "  <th>tot_rev_tr</th>    <td>    0.0475</td> <td>    0.033</td> <td>    1.445</td> <td> 0.148</td> <td>   -0.017</td> <td>    0.112</td>\n",
       "</tr>\n",
       "</table>"
      ],
      "text/plain": [
       "<class 'statsmodels.iolib.summary.Summary'>\n",
       "\"\"\"\n",
       "                 Generalized Linear Model Regression Results                  \n",
       "==============================================================================\n",
       "Dep. Variable:                bad_ind   No. Observations:                 4355\n",
       "Model:                            GLM   Df Residuals:                     4344\n",
       "Model Family:                Binomial   Df Model:                           10\n",
       "Link Function:                  logit   Scale:                          1.0000\n",
       "Method:                          IRLS   Log-Likelihood:                -1776.6\n",
       "Date:                Sat, 06 Apr 2019   Deviance:                       3553.1\n",
       "Time:                        16:30:09   Pearson chi2:                 4.18e+03\n",
       "No. Iterations:                     9   Covariance Type:             nonrobust\n",
       "=================================================================================\n",
       "                    coef    std err          z      P>|z|      [0.025      0.975]\n",
       "---------------------------------------------------------------------------------\n",
       "Intercept         5.6081      0.643      8.719      0.000       4.347       6.869\n",
       "tot_open_tr      -0.0063      0.023     -0.272      0.786      -0.052       0.039\n",
       "fico_score       -0.0139      0.001    -14.947      0.000      -0.016      -0.012\n",
       "ltv               0.0275      0.003      9.730      0.000       0.022       0.033\n",
       "tot_rev_line  -1.606e-05   4.72e-06     -3.406      0.001   -2.53e-05   -6.82e-06\n",
       "age_oldest_tr    -0.0022      0.001     -4.038      0.000      -0.003      -0.001\n",
       "dti_mew           0.0082      0.006      1.273      0.203      -0.004       0.021\n",
       "rev_util          0.0008      0.000      1.685      0.092      -0.000       0.002\n",
       "dti_hist         -0.0123      0.014     -0.869      0.385      -0.040       0.015\n",
       "nth               0.0002      0.000      1.634      0.102   -4.14e-05       0.000\n",
       "tot_rev_tr        0.0475      0.033      1.445      0.148      -0.017       0.112\n",
       "=================================================================================\n",
       "\"\"\""
      ]
     },
     "execution_count": 60,
     "metadata": {},
     "output_type": "execute_result"
    }
   ],
   "source": [
    "lg_m1 = forward_select(data=data_raw_forselect, response='bad_ind')\n",
    "lg_m1.summary()"
   ]
  },
  {
   "cell_type": "code",
   "execution_count": 61,
   "metadata": {},
   "outputs": [
    {
     "data": {
      "text/plain": [
       "['tot_open_tr',\n",
       " 'fico_score',\n",
       " 'ltv',\n",
       " 'tot_rev_line',\n",
       " 'age_oldest_tr',\n",
       " 'dti_mew',\n",
       " 'rev_util',\n",
       " 'dti_hist',\n",
       " 'nth',\n",
       " 'tot_rev_tr']"
      ]
     },
     "execution_count": 61,
     "metadata": {},
     "output_type": "execute_result"
    }
   ],
   "source": [
    "var_c_forward_select"
   ]
  },
  {
   "cell_type": "code",
   "execution_count": null,
   "metadata": {},
   "outputs": [],
   "source": []
  },
  {
   "cell_type": "code",
   "execution_count": null,
   "metadata": {},
   "outputs": [],
   "source": []
  },
  {
   "cell_type": "code",
   "execution_count": 62,
   "metadata": {},
   "outputs": [
    {
     "data": {
      "text/html": [
       "<div>\n",
       "<style scoped>\n",
       "    .dataframe tbody tr th:only-of-type {\n",
       "        vertical-align: middle;\n",
       "    }\n",
       "\n",
       "    .dataframe tbody tr th {\n",
       "        vertical-align: top;\n",
       "    }\n",
       "\n",
       "    .dataframe thead th {\n",
       "        text-align: right;\n",
       "    }\n",
       "</style>\n",
       "<table border=\"1\" class=\"dataframe\">\n",
       "  <thead>\n",
       "    <tr style=\"text-align: right;\">\n",
       "      <th></th>\n",
       "      <th>tot_open_tr</th>\n",
       "      <th>fico_score</th>\n",
       "      <th>ltv</th>\n",
       "      <th>tot_rev_line</th>\n",
       "      <th>age_oldest_tr</th>\n",
       "      <th>dti_mew</th>\n",
       "      <th>rev_util</th>\n",
       "      <th>dti_hist</th>\n",
       "      <th>nth</th>\n",
       "      <th>tot_rev_tr</th>\n",
       "      <th>vehicle_year</th>\n",
       "      <th>bankruptcy_ind</th>\n",
       "    </tr>\n",
       "  </thead>\n",
       "  <tbody>\n",
       "    <tr>\n",
       "      <th>0</th>\n",
       "      <td>2.0</td>\n",
       "      <td>650.0</td>\n",
       "      <td>99.0</td>\n",
       "      <td>500.0</td>\n",
       "      <td>64.0</td>\n",
       "      <td>2.625954</td>\n",
       "      <td>101</td>\n",
       "      <td>0.076336</td>\n",
       "      <td>33.992095</td>\n",
       "      <td>1.0</td>\n",
       "      <td>1.0</td>\n",
       "      <td>0</td>\n",
       "    </tr>\n",
       "    <tr>\n",
       "      <th>1</th>\n",
       "      <td>11.0</td>\n",
       "      <td>649.0</td>\n",
       "      <td>99.0</td>\n",
       "      <td>57241.0</td>\n",
       "      <td>240.0</td>\n",
       "      <td>4.197541</td>\n",
       "      <td>60</td>\n",
       "      <td>12.265920</td>\n",
       "      <td>0.566061</td>\n",
       "      <td>7.0</td>\n",
       "      <td>4.0</td>\n",
       "      <td>0</td>\n",
       "    </tr>\n",
       "    <tr>\n",
       "      <th>2</th>\n",
       "      <td>NaN</td>\n",
       "      <td>613.0</td>\n",
       "      <td>92.0</td>\n",
       "      <td>NaN</td>\n",
       "      <td>60.0</td>\n",
       "      <td>5.250000</td>\n",
       "      <td>0</td>\n",
       "      <td>NaN</td>\n",
       "      <td>NaN</td>\n",
       "      <td>NaN</td>\n",
       "      <td>1.0</td>\n",
       "      <td>0</td>\n",
       "    </tr>\n",
       "    <tr>\n",
       "      <th>3</th>\n",
       "      <td>5.0</td>\n",
       "      <td>603.0</td>\n",
       "      <td>118.0</td>\n",
       "      <td>5946.0</td>\n",
       "      <td>35.0</td>\n",
       "      <td>7.200000</td>\n",
       "      <td>68</td>\n",
       "      <td>3.964000</td>\n",
       "      <td>2.687236</td>\n",
       "      <td>4.0</td>\n",
       "      <td>2.0</td>\n",
       "      <td>0</td>\n",
       "    </tr>\n",
       "    <tr>\n",
       "      <th>4</th>\n",
       "      <td>2.0</td>\n",
       "      <td>764.0</td>\n",
       "      <td>122.0</td>\n",
       "      <td>1800.0</td>\n",
       "      <td>104.0</td>\n",
       "      <td>6.353292</td>\n",
       "      <td>0</td>\n",
       "      <td>0.434363</td>\n",
       "      <td>-1.000000</td>\n",
       "      <td>0.0</td>\n",
       "      <td>4.0</td>\n",
       "      <td>0</td>\n",
       "    </tr>\n",
       "  </tbody>\n",
       "</table>\n",
       "</div>"
      ],
      "text/plain": [
       "   tot_open_tr  fico_score    ltv  tot_rev_line  age_oldest_tr   dti_mew  \\\n",
       "0          2.0       650.0   99.0         500.0           64.0  2.625954   \n",
       "1         11.0       649.0   99.0       57241.0          240.0  4.197541   \n",
       "2          NaN       613.0   92.0           NaN           60.0  5.250000   \n",
       "3          5.0       603.0  118.0        5946.0           35.0  7.200000   \n",
       "4          2.0       764.0  122.0        1800.0          104.0  6.353292   \n",
       "\n",
       "   rev_util   dti_hist        nth  tot_rev_tr  vehicle_year  bankruptcy_ind  \n",
       "0       101   0.076336  33.992095         1.0           1.0               0  \n",
       "1        60  12.265920   0.566061         7.0           4.0               0  \n",
       "2         0        NaN        NaN         NaN           1.0               0  \n",
       "3        68   3.964000   2.687236         4.0           2.0               0  \n",
       "4         0   0.434363  -1.000000         0.0           4.0               0  "
      ]
     },
     "execution_count": 62,
     "metadata": {},
     "output_type": "execute_result"
    }
   ],
   "source": [
    "data_x_repaired=data_x_repaired[var_c_forward_select+x_var_d_select]\n",
    "data_x_repaired.head()"
   ]
  },
  {
   "cell_type": "code",
   "execution_count": null,
   "metadata": {},
   "outputs": [],
   "source": []
  },
  {
   "cell_type": "code",
   "execution_count": null,
   "metadata": {},
   "outputs": [],
   "source": []
  },
  {
   "cell_type": "markdown",
   "metadata": {},
   "source": [
    "<font color=red size=3>  3.1,3 多重共线性诊断选择变量 </font>"
   ]
  },
  {
   "cell_type": "code",
   "execution_count": 63,
   "metadata": {},
   "outputs": [],
   "source": [
    "#VIF判定\n",
    "def vif(df, col_i):\n",
    "    cols = list(df.columns)\n",
    "    cols.remove(col_i)\n",
    "    cols_noti = cols\n",
    "    formula = col_i + '~' + '+'.join(cols_noti)\n",
    "    r2 = smf.ols(formula, df).fit().rsquared\n",
    "    return 1. / (1. - r2)"
   ]
  },
  {
   "cell_type": "code",
   "execution_count": 64,
   "metadata": {},
   "outputs": [],
   "source": [
    "data_test=data_x_repaired[var_c_forward_select]"
   ]
  },
  {
   "cell_type": "code",
   "execution_count": 65,
   "metadata": {},
   "outputs": [
    {
     "data": {
      "text/html": [
       "<div>\n",
       "<style scoped>\n",
       "    .dataframe tbody tr th:only-of-type {\n",
       "        vertical-align: middle;\n",
       "    }\n",
       "\n",
       "    .dataframe tbody tr th {\n",
       "        vertical-align: top;\n",
       "    }\n",
       "\n",
       "    .dataframe thead th {\n",
       "        text-align: right;\n",
       "    }\n",
       "</style>\n",
       "<table border=\"1\" class=\"dataframe\">\n",
       "  <thead>\n",
       "    <tr style=\"text-align: right;\">\n",
       "      <th></th>\n",
       "      <th>tot_open_tr</th>\n",
       "      <th>fico_score</th>\n",
       "      <th>ltv</th>\n",
       "      <th>tot_rev_line</th>\n",
       "      <th>age_oldest_tr</th>\n",
       "      <th>dti_mew</th>\n",
       "      <th>rev_util</th>\n",
       "      <th>dti_hist</th>\n",
       "      <th>nth</th>\n",
       "      <th>tot_rev_tr</th>\n",
       "    </tr>\n",
       "  </thead>\n",
       "  <tbody>\n",
       "    <tr>\n",
       "      <th>0</th>\n",
       "      <td>2.0</td>\n",
       "      <td>650.0</td>\n",
       "      <td>99.0</td>\n",
       "      <td>500.0</td>\n",
       "      <td>64.0</td>\n",
       "      <td>2.625954</td>\n",
       "      <td>101</td>\n",
       "      <td>0.076336</td>\n",
       "      <td>33.992095</td>\n",
       "      <td>1.0</td>\n",
       "    </tr>\n",
       "    <tr>\n",
       "      <th>1</th>\n",
       "      <td>11.0</td>\n",
       "      <td>649.0</td>\n",
       "      <td>99.0</td>\n",
       "      <td>57241.0</td>\n",
       "      <td>240.0</td>\n",
       "      <td>4.197541</td>\n",
       "      <td>60</td>\n",
       "      <td>12.265920</td>\n",
       "      <td>0.566061</td>\n",
       "      <td>7.0</td>\n",
       "    </tr>\n",
       "    <tr>\n",
       "      <th>2</th>\n",
       "      <td>NaN</td>\n",
       "      <td>613.0</td>\n",
       "      <td>92.0</td>\n",
       "      <td>NaN</td>\n",
       "      <td>60.0</td>\n",
       "      <td>5.250000</td>\n",
       "      <td>0</td>\n",
       "      <td>NaN</td>\n",
       "      <td>NaN</td>\n",
       "      <td>NaN</td>\n",
       "    </tr>\n",
       "    <tr>\n",
       "      <th>3</th>\n",
       "      <td>5.0</td>\n",
       "      <td>603.0</td>\n",
       "      <td>118.0</td>\n",
       "      <td>5946.0</td>\n",
       "      <td>35.0</td>\n",
       "      <td>7.200000</td>\n",
       "      <td>68</td>\n",
       "      <td>3.964000</td>\n",
       "      <td>2.687236</td>\n",
       "      <td>4.0</td>\n",
       "    </tr>\n",
       "    <tr>\n",
       "      <th>4</th>\n",
       "      <td>2.0</td>\n",
       "      <td>764.0</td>\n",
       "      <td>122.0</td>\n",
       "      <td>1800.0</td>\n",
       "      <td>104.0</td>\n",
       "      <td>6.353292</td>\n",
       "      <td>0</td>\n",
       "      <td>0.434363</td>\n",
       "      <td>-1.000000</td>\n",
       "      <td>0.0</td>\n",
       "    </tr>\n",
       "  </tbody>\n",
       "</table>\n",
       "</div>"
      ],
      "text/plain": [
       "   tot_open_tr  fico_score    ltv  tot_rev_line  age_oldest_tr   dti_mew  \\\n",
       "0          2.0       650.0   99.0         500.0           64.0  2.625954   \n",
       "1         11.0       649.0   99.0       57241.0          240.0  4.197541   \n",
       "2          NaN       613.0   92.0           NaN           60.0  5.250000   \n",
       "3          5.0       603.0  118.0        5946.0           35.0  7.200000   \n",
       "4          2.0       764.0  122.0        1800.0          104.0  6.353292   \n",
       "\n",
       "   rev_util   dti_hist        nth  tot_rev_tr  \n",
       "0       101   0.076336  33.992095         1.0  \n",
       "1        60  12.265920   0.566061         7.0  \n",
       "2         0        NaN        NaN         NaN  \n",
       "3        68   3.964000   2.687236         4.0  \n",
       "4         0   0.434363  -1.000000         0.0  "
      ]
     },
     "execution_count": 65,
     "metadata": {},
     "output_type": "execute_result"
    }
   ],
   "source": [
    "data_test.head()"
   ]
  },
  {
   "cell_type": "code",
   "execution_count": 66,
   "metadata": {},
   "outputs": [],
   "source": [
    "var_vif={}\n",
    "for i in data_test.columns:\n",
    "    var_vif.update({i:vif(df=data_test, col_i=i)})"
   ]
  },
  {
   "cell_type": "code",
   "execution_count": 67,
   "metadata": {},
   "outputs": [
    {
     "data": {
      "text/plain": [
       "{'tot_open_tr': 3.2333633073568575,\n",
       " 'fico_score': 1.385169140333883,\n",
       " 'ltv': 1.0316154378328113,\n",
       " 'tot_rev_line': 1.8870585061615726,\n",
       " 'age_oldest_tr': 1.281736529181638,\n",
       " 'dti_mew': 9.699786388328917,\n",
       " 'rev_util': 1.1149705096729743,\n",
       " 'dti_hist': 9.728600717947252,\n",
       " 'nth': 1.0136897770154423,\n",
       " 'tot_rev_tr': 3.65026108668901}"
      ]
     },
     "execution_count": 67,
     "metadata": {},
     "output_type": "execute_result"
    }
   ],
   "source": [
    "var_vif"
   ]
  },
  {
   "cell_type": "code",
   "execution_count": 68,
   "metadata": {},
   "outputs": [],
   "source": [
    "var_vif_selected=pd.DataFrame(var_vif,index=['a']).T[pd.DataFrame(var_vif,index=['a']).T.values<9].index"
   ]
  },
  {
   "cell_type": "code",
   "execution_count": 69,
   "metadata": {},
   "outputs": [],
   "source": [
    "var_vif_selected=var_vif_selected.to_list()"
   ]
  },
  {
   "cell_type": "code",
   "execution_count": 70,
   "metadata": {},
   "outputs": [
    {
     "data": {
      "text/html": [
       "<div>\n",
       "<style scoped>\n",
       "    .dataframe tbody tr th:only-of-type {\n",
       "        vertical-align: middle;\n",
       "    }\n",
       "\n",
       "    .dataframe tbody tr th {\n",
       "        vertical-align: top;\n",
       "    }\n",
       "\n",
       "    .dataframe thead th {\n",
       "        text-align: right;\n",
       "    }\n",
       "</style>\n",
       "<table border=\"1\" class=\"dataframe\">\n",
       "  <thead>\n",
       "    <tr style=\"text-align: right;\">\n",
       "      <th></th>\n",
       "      <th>tot_open_tr</th>\n",
       "      <th>fico_score</th>\n",
       "      <th>ltv</th>\n",
       "      <th>tot_rev_line</th>\n",
       "      <th>age_oldest_tr</th>\n",
       "      <th>rev_util</th>\n",
       "      <th>nth</th>\n",
       "      <th>tot_rev_tr</th>\n",
       "      <th>vehicle_year</th>\n",
       "      <th>bankruptcy_ind</th>\n",
       "    </tr>\n",
       "  </thead>\n",
       "  <tbody>\n",
       "    <tr>\n",
       "      <th>0</th>\n",
       "      <td>2.0</td>\n",
       "      <td>650.0</td>\n",
       "      <td>99.0</td>\n",
       "      <td>500.0</td>\n",
       "      <td>64.0</td>\n",
       "      <td>101</td>\n",
       "      <td>33.992095</td>\n",
       "      <td>1.0</td>\n",
       "      <td>1.0</td>\n",
       "      <td>0</td>\n",
       "    </tr>\n",
       "    <tr>\n",
       "      <th>1</th>\n",
       "      <td>11.0</td>\n",
       "      <td>649.0</td>\n",
       "      <td>99.0</td>\n",
       "      <td>57241.0</td>\n",
       "      <td>240.0</td>\n",
       "      <td>60</td>\n",
       "      <td>0.566061</td>\n",
       "      <td>7.0</td>\n",
       "      <td>4.0</td>\n",
       "      <td>0</td>\n",
       "    </tr>\n",
       "    <tr>\n",
       "      <th>2</th>\n",
       "      <td>NaN</td>\n",
       "      <td>613.0</td>\n",
       "      <td>92.0</td>\n",
       "      <td>NaN</td>\n",
       "      <td>60.0</td>\n",
       "      <td>0</td>\n",
       "      <td>NaN</td>\n",
       "      <td>NaN</td>\n",
       "      <td>1.0</td>\n",
       "      <td>0</td>\n",
       "    </tr>\n",
       "    <tr>\n",
       "      <th>3</th>\n",
       "      <td>5.0</td>\n",
       "      <td>603.0</td>\n",
       "      <td>118.0</td>\n",
       "      <td>5946.0</td>\n",
       "      <td>35.0</td>\n",
       "      <td>68</td>\n",
       "      <td>2.687236</td>\n",
       "      <td>4.0</td>\n",
       "      <td>2.0</td>\n",
       "      <td>0</td>\n",
       "    </tr>\n",
       "    <tr>\n",
       "      <th>4</th>\n",
       "      <td>2.0</td>\n",
       "      <td>764.0</td>\n",
       "      <td>122.0</td>\n",
       "      <td>1800.0</td>\n",
       "      <td>104.0</td>\n",
       "      <td>0</td>\n",
       "      <td>-1.000000</td>\n",
       "      <td>0.0</td>\n",
       "      <td>4.0</td>\n",
       "      <td>0</td>\n",
       "    </tr>\n",
       "  </tbody>\n",
       "</table>\n",
       "</div>"
      ],
      "text/plain": [
       "   tot_open_tr  fico_score    ltv  tot_rev_line  age_oldest_tr  rev_util  \\\n",
       "0          2.0       650.0   99.0         500.0           64.0       101   \n",
       "1         11.0       649.0   99.0       57241.0          240.0        60   \n",
       "2          NaN       613.0   92.0           NaN           60.0         0   \n",
       "3          5.0       603.0  118.0        5946.0           35.0        68   \n",
       "4          2.0       764.0  122.0        1800.0          104.0         0   \n",
       "\n",
       "         nth  tot_rev_tr  vehicle_year  bankruptcy_ind  \n",
       "0  33.992095         1.0           1.0               0  \n",
       "1   0.566061         7.0           4.0               0  \n",
       "2        NaN         NaN           1.0               0  \n",
       "3   2.687236         4.0           2.0               0  \n",
       "4  -1.000000         0.0           4.0               0  "
      ]
     },
     "execution_count": 70,
     "metadata": {},
     "output_type": "execute_result"
    }
   ],
   "source": [
    "data_x_repaired=data_x_repaired[var_vif_selected+x_var_d_select]\n",
    "data_x_repaired.head()"
   ]
  },
  {
   "cell_type": "code",
   "execution_count": null,
   "metadata": {},
   "outputs": [],
   "source": []
  },
  {
   "cell_type": "code",
   "execution_count": null,
   "metadata": {},
   "outputs": [],
   "source": []
  },
  {
   "cell_type": "markdown",
   "metadata": {},
   "source": [
    "<font color=red size=3> 3.1.4  连续变量筛选后的数据清洗--缺失值填充 </font>"
   ]
  },
  {
   "cell_type": "code",
   "execution_count": 71,
   "metadata": {},
   "outputs": [
    {
     "data": {
      "text/html": [
       "<div>\n",
       "<style scoped>\n",
       "    .dataframe tbody tr th:only-of-type {\n",
       "        vertical-align: middle;\n",
       "    }\n",
       "\n",
       "    .dataframe tbody tr th {\n",
       "        vertical-align: top;\n",
       "    }\n",
       "\n",
       "    .dataframe thead th {\n",
       "        text-align: right;\n",
       "    }\n",
       "</style>\n",
       "<table border=\"1\" class=\"dataframe\">\n",
       "  <thead>\n",
       "    <tr style=\"text-align: right;\">\n",
       "      <th></th>\n",
       "      <th>tot_open_tr</th>\n",
       "      <th>fico_score</th>\n",
       "      <th>ltv</th>\n",
       "      <th>tot_rev_line</th>\n",
       "      <th>age_oldest_tr</th>\n",
       "      <th>rev_util</th>\n",
       "      <th>nth</th>\n",
       "      <th>tot_rev_tr</th>\n",
       "    </tr>\n",
       "  </thead>\n",
       "  <tbody>\n",
       "    <tr>\n",
       "      <th>0</th>\n",
       "      <td>2.0</td>\n",
       "      <td>650.0</td>\n",
       "      <td>99.0</td>\n",
       "      <td>500.0</td>\n",
       "      <td>64.0</td>\n",
       "      <td>101</td>\n",
       "      <td>33.992095</td>\n",
       "      <td>1.0</td>\n",
       "    </tr>\n",
       "    <tr>\n",
       "      <th>1</th>\n",
       "      <td>11.0</td>\n",
       "      <td>649.0</td>\n",
       "      <td>99.0</td>\n",
       "      <td>57241.0</td>\n",
       "      <td>240.0</td>\n",
       "      <td>60</td>\n",
       "      <td>0.566061</td>\n",
       "      <td>7.0</td>\n",
       "    </tr>\n",
       "    <tr>\n",
       "      <th>2</th>\n",
       "      <td>NaN</td>\n",
       "      <td>613.0</td>\n",
       "      <td>92.0</td>\n",
       "      <td>NaN</td>\n",
       "      <td>60.0</td>\n",
       "      <td>0</td>\n",
       "      <td>NaN</td>\n",
       "      <td>NaN</td>\n",
       "    </tr>\n",
       "    <tr>\n",
       "      <th>3</th>\n",
       "      <td>5.0</td>\n",
       "      <td>603.0</td>\n",
       "      <td>118.0</td>\n",
       "      <td>5946.0</td>\n",
       "      <td>35.0</td>\n",
       "      <td>68</td>\n",
       "      <td>2.687236</td>\n",
       "      <td>4.0</td>\n",
       "    </tr>\n",
       "    <tr>\n",
       "      <th>4</th>\n",
       "      <td>2.0</td>\n",
       "      <td>764.0</td>\n",
       "      <td>122.0</td>\n",
       "      <td>1800.0</td>\n",
       "      <td>104.0</td>\n",
       "      <td>0</td>\n",
       "      <td>-1.000000</td>\n",
       "      <td>0.0</td>\n",
       "    </tr>\n",
       "  </tbody>\n",
       "</table>\n",
       "</div>"
      ],
      "text/plain": [
       "   tot_open_tr  fico_score    ltv  tot_rev_line  age_oldest_tr  rev_util  \\\n",
       "0          2.0       650.0   99.0         500.0           64.0       101   \n",
       "1         11.0       649.0   99.0       57241.0          240.0        60   \n",
       "2          NaN       613.0   92.0           NaN           60.0         0   \n",
       "3          5.0       603.0  118.0        5946.0           35.0        68   \n",
       "4          2.0       764.0  122.0        1800.0          104.0         0   \n",
       "\n",
       "         nth  tot_rev_tr  \n",
       "0  33.992095         1.0  \n",
       "1   0.566061         7.0  \n",
       "2        NaN         NaN  \n",
       "3   2.687236         4.0  \n",
       "4  -1.000000         0.0  "
      ]
     },
     "execution_count": 71,
     "metadata": {},
     "output_type": "execute_result"
    }
   ],
   "source": [
    "data_x_c_repaired=data_x_repaired[var_vif_selected]\n",
    "data_x_c_repaired.head()"
   ]
  },
  {
   "cell_type": "code",
   "execution_count": 72,
   "metadata": {},
   "outputs": [
    {
     "name": "stdout",
     "output_type": "stream",
     "text": [
      "<class 'pandas.core.frame.DataFrame'>\n",
      "Int64Index: 5628 entries, 0 to 5844\n",
      "Data columns (total 8 columns):\n",
      "tot_open_tr      4424 non-null float64\n",
      "fico_score       5525 non-null float64\n",
      "ltv              5627 non-null float64\n",
      "tot_rev_line     5335 non-null float64\n",
      "age_oldest_tr    5564 non-null float64\n",
      "rev_util         5628 non-null int64\n",
      "nth              5335 non-null float64\n",
      "tot_rev_tr       5187 non-null float64\n",
      "dtypes: float64(7), int64(1)\n",
      "memory usage: 395.7 KB\n"
     ]
    }
   ],
   "source": [
    "data_x_c_repaired.info()"
   ]
  },
  {
   "cell_type": "code",
   "execution_count": 73,
   "metadata": {},
   "outputs": [
    {
     "data": {
      "text/plain": [
       "<matplotlib.axes._subplots.AxesSubplot at 0x2d3bbebff60>"
      ]
     },
     "execution_count": 73,
     "metadata": {},
     "output_type": "execute_result"
    },
    {
     "data": {
      "image/png": "[encoded data removed]",
      "text/plain": [
       "<Figure size 1800x720 with 2 Axes>"
      ]
     },
     "metadata": {
      "needs_background": "light"
     },
     "output_type": "display_data"
    }
   ],
   "source": [
    "import missingno as msno\n",
    "msno.matrix(data_x_c_repaired, labels=True)\n",
    "# msno.heatmap(data)\n",
    "#msno.dendrogram(data)"
   ]
  },
  {
   "cell_type": "code",
   "execution_count": null,
   "metadata": {},
   "outputs": [],
   "source": []
  },
  {
   "cell_type": "markdown",
   "metadata": {},
   "source": [
    "<font color=red size=3> 缺失值填充 </font>"
   ]
  },
  {
   "cell_type": "code",
   "execution_count": 74,
   "metadata": {},
   "outputs": [],
   "source": [
    "x_var_c_repaired=data_x_c_repaired.columns"
   ]
  },
  {
   "cell_type": "code",
   "execution_count": 75,
   "metadata": {},
   "outputs": [],
   "source": [
    "for i in x_var_c_repaired:\n",
    "    data_x_c_repaired[i].fillna(value=data_x_c_repaired[i].copy().median(),inplace=True)"
   ]
  },
  {
   "cell_type": "code",
   "execution_count": null,
   "metadata": {},
   "outputs": [],
   "source": []
  },
  {
   "cell_type": "code",
   "execution_count": null,
   "metadata": {},
   "outputs": [],
   "source": []
  },
  {
   "cell_type": "code",
   "execution_count": 76,
   "metadata": {},
   "outputs": [
    {
     "data": {
      "text/plain": [
       "<matplotlib.axes._subplots.AxesSubplot at 0x2d3bbe96f28>"
      ]
     },
     "execution_count": 76,
     "metadata": {},
     "output_type": "execute_result"
    },
    {
     "data": {
      "image/png": "[encoded data removed]",
      "text/plain": [
       "<Figure size 1728x720 with 3 Axes>"
      ]
     },
     "metadata": {
      "needs_background": "light"
     },
     "output_type": "display_data"
    }
   ],
   "source": [
    "msno.bar(data_x_c_repaired)"
   ]
  },
  {
   "cell_type": "code",
   "execution_count": 77,
   "metadata": {},
   "outputs": [
    {
     "name": "stdout",
     "output_type": "stream",
     "text": [
      "<class 'pandas.core.frame.DataFrame'>\n",
      "Int64Index: 5628 entries, 0 to 5844\n",
      "Data columns (total 8 columns):\n",
      "tot_open_tr      5628 non-null float64\n",
      "fico_score       5628 non-null float64\n",
      "ltv              5628 non-null float64\n",
      "tot_rev_line     5628 non-null float64\n",
      "age_oldest_tr    5628 non-null float64\n",
      "rev_util         5628 non-null int64\n",
      "nth              5628 non-null float64\n",
      "tot_rev_tr       5628 non-null float64\n",
      "dtypes: float64(7), int64(1)\n",
      "memory usage: 395.7 KB\n"
     ]
    }
   ],
   "source": [
    "data_x_c_repaired.info()"
   ]
  },
  {
   "cell_type": "code",
   "execution_count": 78,
   "metadata": {},
   "outputs": [],
   "source": [
    "data_x_repaired[var_vif_selected]=data_x_c_repaired"
   ]
  },
  {
   "cell_type": "code",
   "execution_count": null,
   "metadata": {},
   "outputs": [],
   "source": []
  },
  {
   "cell_type": "code",
   "execution_count": null,
   "metadata": {},
   "outputs": [],
   "source": []
  },
  {
   "cell_type": "markdown",
   "metadata": {},
   "source": [
    "<font color=red size=3> 3.1.5  连续变量异常值寻找 </font>"
   ]
  },
  {
   "cell_type": "code",
   "execution_count": 79,
   "metadata": {},
   "outputs": [
    {
     "data": {
      "text/plain": [
       "Index(['tot_open_tr', 'fico_score', 'ltv', 'tot_rev_line', 'age_oldest_tr',\n",
       "       'rev_util', 'nth', 'tot_rev_tr'],\n",
       "      dtype='object')"
      ]
     },
     "execution_count": 79,
     "metadata": {},
     "output_type": "execute_result"
    }
   ],
   "source": [
    "x_var_c_repaired"
   ]
  },
  {
   "cell_type": "code",
   "execution_count": 80,
   "metadata": {},
   "outputs": [
    {
     "data": {
      "text/plain": [
       "tot_open_tr      0.000000\n",
       "fico_score       0.000000\n",
       "ltv              0.000000\n",
       "tot_rev_line     0.000000\n",
       "age_oldest_tr    0.000000\n",
       "rev_util         0.516667\n",
       "nth              0.472749\n",
       "tot_rev_tr       0.000000\n",
       "dtype: float64"
      ]
     },
     "execution_count": 80,
     "metadata": {},
     "output_type": "execute_result"
    }
   ],
   "source": [
    "abs((data_x_c_repaired[x_var_c_repaired].mode().iloc[0,] - data_x_c_repaired[x_var_c_repaired].median()) /\n",
    "    (data_x_c_repaired[x_var_c_repaired].quantile(0.75) - data_x_c_repaired[x_var_c_repaired].quantile(0.25)))"
   ]
  },
  {
   "cell_type": "code",
   "execution_count": null,
   "metadata": {},
   "outputs": [],
   "source": []
  },
  {
   "cell_type": "markdown",
   "metadata": {},
   "source": [
    "<font color=red size=3> 3.1.6  连续变量正态分布检验 </font>"
   ]
  },
  {
   "cell_type": "code",
   "execution_count": null,
   "metadata": {},
   "outputs": [],
   "source": []
  },
  {
   "cell_type": "code",
   "execution_count": 81,
   "metadata": {},
   "outputs": [
    {
     "data": {
      "text/plain": [
       "nth              47.241780\n",
       "rev_util         14.363256\n",
       "tot_rev_line      2.228698\n",
       "tot_rev_tr        1.757906\n",
       "tot_open_tr       1.641392\n",
       "age_oldest_tr     0.921242\n",
       "ltv               0.614401\n",
       "fico_score        0.148855\n",
       "dtype: float64"
      ]
     },
     "execution_count": 81,
     "metadata": {},
     "output_type": "execute_result"
    }
   ],
   "source": [
    "skew_var_x={}\n",
    "for i in x_var_c_repaired:\n",
    "    skew_var_x[i] = abs(data_x_c_repaired[i].skew())  \n",
    "skew = pd.Series(skew_var_x).sort_values(ascending=False)\n",
    "skew"
   ]
  },
  {
   "cell_type": "code",
   "execution_count": 82,
   "metadata": {},
   "outputs": [
    {
     "data": {
      "text/plain": [
       "Index(['nth', 'rev_util', 'tot_rev_line', 'tot_rev_tr', 'tot_open_tr'], dtype='object')"
      ]
     },
     "execution_count": 82,
     "metadata": {},
     "output_type": "execute_result"
    }
   ],
   "source": [
    "var_x_ln = skew.index[skew > 1]\n",
    "var_x_ln"
   ]
  },
  {
   "cell_type": "code",
   "execution_count": 83,
   "metadata": {},
   "outputs": [],
   "source": [
    "for i in var_x_ln:\n",
    "    if min(data_x_c_repaired[i]) <= 0:\n",
    "        data_x_c_repaired[i] =np.log(data_x_c_repaired[i] + abs(min(data_x_c_repaired[i])) + 0.01)\n",
    "    else:\n",
    "        data_x_c_repaired[i] =np.log(data_x_c_repaired[i])"
   ]
  },
  {
   "cell_type": "code",
   "execution_count": 84,
   "metadata": {},
   "outputs": [
    {
     "data": {
      "text/plain": [
       "tot_rev_line     3.704956\n",
       "tot_rev_tr       2.715526\n",
       "rev_util         1.567193\n",
       "nth              1.143489\n",
       "tot_open_tr      0.993597\n",
       "age_oldest_tr    0.921242\n",
       "ltv              0.614401\n",
       "fico_score       0.148855\n",
       "dtype: float64"
      ]
     },
     "execution_count": 84,
     "metadata": {},
     "output_type": "execute_result"
    }
   ],
   "source": [
    "for i in var_x_ln:\n",
    "    skew_var_x[i] = abs(data_x_c_repaired[i].skew())  \n",
    "skew = pd.Series(skew_var_x).sort_values(ascending=False)\n",
    "skew"
   ]
  },
  {
   "cell_type": "code",
   "execution_count": 85,
   "metadata": {},
   "outputs": [],
   "source": [
    "data_x_repaired[var_vif_selected]=data_x_c_repaired"
   ]
  },
  {
   "cell_type": "code",
   "execution_count": 86,
   "metadata": {},
   "outputs": [
    {
     "data": {
      "text/html": [
       "<div>\n",
       "<style scoped>\n",
       "    .dataframe tbody tr th:only-of-type {\n",
       "        vertical-align: middle;\n",
       "    }\n",
       "\n",
       "    .dataframe tbody tr th {\n",
       "        vertical-align: top;\n",
       "    }\n",
       "\n",
       "    .dataframe thead th {\n",
       "        text-align: right;\n",
       "    }\n",
       "</style>\n",
       "<table border=\"1\" class=\"dataframe\">\n",
       "  <thead>\n",
       "    <tr style=\"text-align: right;\">\n",
       "      <th></th>\n",
       "      <th>tot_open_tr</th>\n",
       "      <th>fico_score</th>\n",
       "      <th>ltv</th>\n",
       "      <th>tot_rev_line</th>\n",
       "      <th>age_oldest_tr</th>\n",
       "      <th>rev_util</th>\n",
       "      <th>nth</th>\n",
       "      <th>tot_rev_tr</th>\n",
       "      <th>vehicle_year</th>\n",
       "      <th>bankruptcy_ind</th>\n",
       "    </tr>\n",
       "  </thead>\n",
       "  <tbody>\n",
       "    <tr>\n",
       "      <th>0</th>\n",
       "      <td>0.698135</td>\n",
       "      <td>650.0</td>\n",
       "      <td>99.0</td>\n",
       "      <td>6.214628</td>\n",
       "      <td>64.0</td>\n",
       "      <td>4.615220</td>\n",
       "      <td>3.555408</td>\n",
       "      <td>0.009950</td>\n",
       "      <td>1.0</td>\n",
       "      <td>0</td>\n",
       "    </tr>\n",
       "    <tr>\n",
       "      <th>1</th>\n",
       "      <td>2.398804</td>\n",
       "      <td>649.0</td>\n",
       "      <td>99.0</td>\n",
       "      <td>10.955026</td>\n",
       "      <td>240.0</td>\n",
       "      <td>4.094511</td>\n",
       "      <td>0.454929</td>\n",
       "      <td>1.947338</td>\n",
       "      <td>4.0</td>\n",
       "      <td>0</td>\n",
       "    </tr>\n",
       "    <tr>\n",
       "      <th>2</th>\n",
       "      <td>1.611436</td>\n",
       "      <td>613.0</td>\n",
       "      <td>92.0</td>\n",
       "      <td>9.277626</td>\n",
       "      <td>60.0</td>\n",
       "      <td>-4.605170</td>\n",
       "      <td>1.670286</td>\n",
       "      <td>1.101940</td>\n",
       "      <td>1.0</td>\n",
       "      <td>0</td>\n",
       "    </tr>\n",
       "    <tr>\n",
       "      <th>3</th>\n",
       "      <td>1.611436</td>\n",
       "      <td>603.0</td>\n",
       "      <td>118.0</td>\n",
       "      <td>8.690476</td>\n",
       "      <td>35.0</td>\n",
       "      <td>4.219655</td>\n",
       "      <td>1.307585</td>\n",
       "      <td>1.388791</td>\n",
       "      <td>2.0</td>\n",
       "      <td>0</td>\n",
       "    </tr>\n",
       "    <tr>\n",
       "      <th>4</th>\n",
       "      <td>0.698135</td>\n",
       "      <td>764.0</td>\n",
       "      <td>122.0</td>\n",
       "      <td>7.495547</td>\n",
       "      <td>104.0</td>\n",
       "      <td>-4.605170</td>\n",
       "      <td>-4.605170</td>\n",
       "      <td>-4.605170</td>\n",
       "      <td>4.0</td>\n",
       "      <td>0</td>\n",
       "    </tr>\n",
       "  </tbody>\n",
       "</table>\n",
       "</div>"
      ],
      "text/plain": [
       "   tot_open_tr  fico_score    ltv  tot_rev_line  age_oldest_tr  rev_util  \\\n",
       "0     0.698135       650.0   99.0      6.214628           64.0  4.615220   \n",
       "1     2.398804       649.0   99.0     10.955026          240.0  4.094511   \n",
       "2     1.611436       613.0   92.0      9.277626           60.0 -4.605170   \n",
       "3     1.611436       603.0  118.0      8.690476           35.0  4.219655   \n",
       "4     0.698135       764.0  122.0      7.495547          104.0 -4.605170   \n",
       "\n",
       "        nth  tot_rev_tr  vehicle_year  bankruptcy_ind  \n",
       "0  3.555408    0.009950           1.0               0  \n",
       "1  0.454929    1.947338           4.0               0  \n",
       "2  1.670286    1.101940           1.0               0  \n",
       "3  1.307585    1.388791           2.0               0  \n",
       "4 -4.605170   -4.605170           4.0               0  "
      ]
     },
     "execution_count": 86,
     "metadata": {},
     "output_type": "execute_result"
    }
   ],
   "source": [
    "data_x_repaired.head()"
   ]
  },
  {
   "cell_type": "code",
   "execution_count": null,
   "metadata": {},
   "outputs": [],
   "source": []
  },
  {
   "cell_type": "markdown",
   "metadata": {},
   "source": [
    "<font color=red size=3> 变量合并data model </font>"
   ]
  },
  {
   "cell_type": "code",
   "execution_count": 87,
   "metadata": {},
   "outputs": [],
   "source": [
    "data_repaired=data_x_repaired"
   ]
  },
  {
   "cell_type": "code",
   "execution_count": 88,
   "metadata": {},
   "outputs": [],
   "source": [
    "data_repaired['bad_ind']=data_raw['bad_ind']"
   ]
  },
  {
   "cell_type": "code",
   "execution_count": 89,
   "metadata": {},
   "outputs": [
    {
     "data": {
      "text/html": [
       "<div>\n",
       "<style scoped>\n",
       "    .dataframe tbody tr th:only-of-type {\n",
       "        vertical-align: middle;\n",
       "    }\n",
       "\n",
       "    .dataframe tbody tr th {\n",
       "        vertical-align: top;\n",
       "    }\n",
       "\n",
       "    .dataframe thead th {\n",
       "        text-align: right;\n",
       "    }\n",
       "</style>\n",
       "<table border=\"1\" class=\"dataframe\">\n",
       "  <thead>\n",
       "    <tr style=\"text-align: right;\">\n",
       "      <th></th>\n",
       "      <th>tot_open_tr</th>\n",
       "      <th>fico_score</th>\n",
       "      <th>ltv</th>\n",
       "      <th>tot_rev_line</th>\n",
       "      <th>age_oldest_tr</th>\n",
       "      <th>rev_util</th>\n",
       "      <th>nth</th>\n",
       "      <th>tot_rev_tr</th>\n",
       "      <th>vehicle_year</th>\n",
       "      <th>bankruptcy_ind</th>\n",
       "      <th>bad_ind</th>\n",
       "    </tr>\n",
       "  </thead>\n",
       "  <tbody>\n",
       "    <tr>\n",
       "      <th>0</th>\n",
       "      <td>0.698135</td>\n",
       "      <td>650.0</td>\n",
       "      <td>99.0</td>\n",
       "      <td>6.214628</td>\n",
       "      <td>64.0</td>\n",
       "      <td>4.615220</td>\n",
       "      <td>3.555408</td>\n",
       "      <td>0.009950</td>\n",
       "      <td>1.0</td>\n",
       "      <td>0</td>\n",
       "      <td>1</td>\n",
       "    </tr>\n",
       "    <tr>\n",
       "      <th>1</th>\n",
       "      <td>2.398804</td>\n",
       "      <td>649.0</td>\n",
       "      <td>99.0</td>\n",
       "      <td>10.955026</td>\n",
       "      <td>240.0</td>\n",
       "      <td>4.094511</td>\n",
       "      <td>0.454929</td>\n",
       "      <td>1.947338</td>\n",
       "      <td>4.0</td>\n",
       "      <td>0</td>\n",
       "      <td>0</td>\n",
       "    </tr>\n",
       "    <tr>\n",
       "      <th>2</th>\n",
       "      <td>1.611436</td>\n",
       "      <td>613.0</td>\n",
       "      <td>92.0</td>\n",
       "      <td>9.277626</td>\n",
       "      <td>60.0</td>\n",
       "      <td>-4.605170</td>\n",
       "      <td>1.670286</td>\n",
       "      <td>1.101940</td>\n",
       "      <td>1.0</td>\n",
       "      <td>0</td>\n",
       "      <td>1</td>\n",
       "    </tr>\n",
       "    <tr>\n",
       "      <th>3</th>\n",
       "      <td>1.611436</td>\n",
       "      <td>603.0</td>\n",
       "      <td>118.0</td>\n",
       "      <td>8.690476</td>\n",
       "      <td>35.0</td>\n",
       "      <td>4.219655</td>\n",
       "      <td>1.307585</td>\n",
       "      <td>1.388791</td>\n",
       "      <td>2.0</td>\n",
       "      <td>0</td>\n",
       "      <td>1</td>\n",
       "    </tr>\n",
       "    <tr>\n",
       "      <th>4</th>\n",
       "      <td>0.698135</td>\n",
       "      <td>764.0</td>\n",
       "      <td>122.0</td>\n",
       "      <td>7.495547</td>\n",
       "      <td>104.0</td>\n",
       "      <td>-4.605170</td>\n",
       "      <td>-4.605170</td>\n",
       "      <td>-4.605170</td>\n",
       "      <td>4.0</td>\n",
       "      <td>0</td>\n",
       "      <td>0</td>\n",
       "    </tr>\n",
       "  </tbody>\n",
       "</table>\n",
       "</div>"
      ],
      "text/plain": [
       "   tot_open_tr  fico_score    ltv  tot_rev_line  age_oldest_tr  rev_util  \\\n",
       "0     0.698135       650.0   99.0      6.214628           64.0  4.615220   \n",
       "1     2.398804       649.0   99.0     10.955026          240.0  4.094511   \n",
       "2     1.611436       613.0   92.0      9.277626           60.0 -4.605170   \n",
       "3     1.611436       603.0  118.0      8.690476           35.0  4.219655   \n",
       "4     0.698135       764.0  122.0      7.495547          104.0 -4.605170   \n",
       "\n",
       "        nth  tot_rev_tr  vehicle_year  bankruptcy_ind  bad_ind  \n",
       "0  3.555408    0.009950           1.0               0        1  \n",
       "1  0.454929    1.947338           4.0               0        0  \n",
       "2  1.670286    1.101940           1.0               0        1  \n",
       "3  1.307585    1.388791           2.0               0        1  \n",
       "4 -4.605170   -4.605170           4.0               0        0  "
      ]
     },
     "execution_count": 89,
     "metadata": {},
     "output_type": "execute_result"
    }
   ],
   "source": [
    "data_repaired.head()"
   ]
  },
  {
   "cell_type": "code",
   "execution_count": 90,
   "metadata": {},
   "outputs": [],
   "source": [
    "data_model=data_repaired"
   ]
  },
  {
   "cell_type": "code",
   "execution_count": 91,
   "metadata": {},
   "outputs": [],
   "source": [
    "data_model=data_model.dropna(axis=1)"
   ]
  },
  {
   "cell_type": "markdown",
   "metadata": {},
   "source": [
    "<font color=red size=3> 模块四，逻辑回归建模 </font>"
   ]
  },
  {
   "cell_type": "markdown",
   "metadata": {},
   "source": [
    "<font color=red size=3> 4.1 数据拆分 </font>"
   ]
  },
  {
   "cell_type": "code",
   "execution_count": null,
   "metadata": {},
   "outputs": [],
   "source": []
  },
  {
   "cell_type": "code",
   "execution_count": 92,
   "metadata": {},
   "outputs": [],
   "source": [
    "from sklearn.model_selection import train_test_split\n",
    "predictor=list(data_model.columns)\n",
    "predictor.remove('bad_ind')\n",
    "x_train,x_test,y_train,y_test=train_test_split(data_model[predictor],data_model['bad_ind'],train_size=0.8,test_size=0.2,random_state=1234)"
   ]
  },
  {
   "cell_type": "code",
   "execution_count": 93,
   "metadata": {},
   "outputs": [],
   "source": [
    "import sklearn.linear_model as linear_model\n",
    "logistic_model = linear_model.LogisticRegression(class_weight = None,\n",
    "                                                 dual = False,\n",
    "                                                 fit_intercept = True,\n",
    "                                                 intercept_scaling = 1,\n",
    "                                                 penalty = 'l1',\n",
    "                                                 random_state = None,\n",
    "                                                 tol = 0.001)"
   ]
  },
  {
   "cell_type": "code",
   "execution_count": 94,
   "metadata": {},
   "outputs": [
    {
     "data": {
      "text/plain": [
       "GridSearchCV(cv=5, error_score='raise-deprecating',\n",
       "       estimator=LogisticRegression(C=1.0, class_weight=None, dual=False, fit_intercept=True,\n",
       "          intercept_scaling=1, max_iter=100, multi_class='warn',\n",
       "          n_jobs=None, penalty='l1', random_state=None, solver='warn',\n",
       "          tol=0.001, verbose=0, warm_start=False),\n",
       "       fit_params=None, iid='warn', n_jobs=None,\n",
       "       param_grid={'C': array([0.001  , 0.00144, 0.00207, 0.00298, 0.00428, 0.00616, 0.00886,\n",
       "       0.01274, 0.01833, 0.02637, 0.03793, 0.05456, 0.07848, 0.11288,\n",
       "       0.16238, 0.23357, 0.33598, 0.48329, 0.69519, 1.     ])},\n",
       "       pre_dispatch='2*n_jobs', refit=True, return_train_score='warn',\n",
       "       scoring='roc_auc', verbose=0)"
      ]
     },
     "execution_count": 94,
     "metadata": {},
     "output_type": "execute_result"
    }
   ],
   "source": [
    "from sklearn.model_selection import ParameterGrid, GridSearchCV\n",
    "C = np.logspace(-3,0,20,base=10)\n",
    "param_grid = {'C': C}\n",
    "clf_cv = GridSearchCV(estimator=logistic_model, \n",
    "                      param_grid=param_grid, \n",
    "                      cv=5, \n",
    "                      scoring='roc_auc')\n",
    "clf_cv.fit(x_train, y_train)"
   ]
  },
  {
   "cell_type": "code",
   "execution_count": 95,
   "metadata": {},
   "outputs": [
    {
     "data": {
      "text/plain": [
       "{'C': 1.0}"
      ]
     },
     "execution_count": 95,
     "metadata": {},
     "output_type": "execute_result"
    }
   ],
   "source": [
    "clf_cv.best_params_"
   ]
  },
  {
   "cell_type": "code",
   "execution_count": 96,
   "metadata": {},
   "outputs": [
    {
     "data": {
      "text/plain": [
       "LogisticRegression(C=1.0, class_weight=None, dual=False, fit_intercept=True,\n",
       "          intercept_scaling=1, max_iter=100, multi_class='warn',\n",
       "          n_jobs=None, penalty='l1', random_state=None, solver='warn',\n",
       "          tol=0.001, verbose=0, warm_start=False)"
      ]
     },
     "execution_count": 96,
     "metadata": {},
     "output_type": "execute_result"
    }
   ],
   "source": [
    "logistic_model = linear_model.LogisticRegression(C=clf_cv.best_params_[\"C\"],\n",
    "                                                 class_weight=None,\n",
    "                                                 dual=False,\n",
    "                                                 fit_intercept=True,\n",
    "                                                 intercept_scaling=1,\n",
    "                                                 penalty='l1',\n",
    "                                                 random_state=None,\n",
    "                                                 tol=0.001)\n",
    "logistic_model.fit(x_train, y_train)"
   ]
  },
  {
   "cell_type": "code",
   "execution_count": 97,
   "metadata": {},
   "outputs": [
    {
     "data": {
      "text/plain": [
       "array([[ 0.07706213, -0.01414522,  0.02394973, -0.03865627, -0.00305484,\n",
       "         0.00172413,  0.04654995, -0.04595257, -0.23812413]])"
      ]
     },
     "execution_count": 97,
     "metadata": {},
     "output_type": "execute_result"
    }
   ],
   "source": [
    "logistic_model.coef_"
   ]
  },
  {
   "cell_type": "code",
   "execution_count": 98,
   "metadata": {},
   "outputs": [
    {
     "data": {
      "text/html": [
       "<table class=\"simpletable\">\n",
       "<caption>Generalized Linear Model Regression Results</caption>\n",
       "<tr>\n",
       "  <th>Dep. Variable:</th>       <td>bad_ind</td>     <th>  No. Observations:  </th>  <td>  5628</td>  \n",
       "</tr>\n",
       "<tr>\n",
       "  <th>Model:</th>                 <td>GLM</td>       <th>  Df Residuals:      </th>  <td>  5621</td>  \n",
       "</tr>\n",
       "<tr>\n",
       "  <th>Model Family:</th>       <td>Binomial</td>     <th>  Df Model:          </th>  <td>     6</td>  \n",
       "</tr>\n",
       "<tr>\n",
       "  <th>Link Function:</th>        <td>logit</td>      <th>  Scale:             </th> <td>  1.0000</td> \n",
       "</tr>\n",
       "<tr>\n",
       "  <th>Method:</th>               <td>IRLS</td>       <th>  Log-Likelihood:    </th> <td> -2396.1</td> \n",
       "</tr>\n",
       "<tr>\n",
       "  <th>Date:</th>           <td>Sat, 06 Apr 2019</td> <th>  Deviance:          </th> <td>  4792.1</td> \n",
       "</tr>\n",
       "<tr>\n",
       "  <th>Time:</th>               <td>16:31:10</td>     <th>  Pearson chi2:      </th> <td>5.31e+03</td> \n",
       "</tr>\n",
       "<tr>\n",
       "  <th>No. Iterations:</th>         <td>6</td>        <th>  Covariance Type:   </th> <td>nonrobust</td>\n",
       "</tr>\n",
       "</table>\n",
       "<table class=\"simpletable\">\n",
       "<tr>\n",
       "        <td></td>           <th>coef</th>     <th>std err</th>      <th>z</th>      <th>P>|z|</th>  <th>[0.025</th>    <th>0.975]</th>  \n",
       "</tr>\n",
       "<tr>\n",
       "  <th>Intercept</th>     <td>    7.1759</td> <td>    0.530</td> <td>   13.546</td> <td> 0.000</td> <td>    6.138</td> <td>    8.214</td>\n",
       "</tr>\n",
       "<tr>\n",
       "  <th>fico_score</th>    <td>   -0.0158</td> <td>    0.001</td> <td>  -21.024</td> <td> 0.000</td> <td>   -0.017</td> <td>   -0.014</td>\n",
       "</tr>\n",
       "<tr>\n",
       "  <th>ltv</th>           <td>    0.0260</td> <td>    0.002</td> <td>   11.127</td> <td> 0.000</td> <td>    0.021</td> <td>    0.031</td>\n",
       "</tr>\n",
       "<tr>\n",
       "  <th>age_oldest_tr</th> <td>   -0.0027</td> <td>    0.000</td> <td>   -6.008</td> <td> 0.000</td> <td>   -0.004</td> <td>   -0.002</td>\n",
       "</tr>\n",
       "<tr>\n",
       "  <th>nth</th>           <td>    0.0320</td> <td>    0.021</td> <td>    1.561</td> <td> 0.119</td> <td>   -0.008</td> <td>    0.072</td>\n",
       "</tr>\n",
       "<tr>\n",
       "  <th>tot_open_tr</th>   <td>   -0.1025</td> <td>    0.074</td> <td>   -1.383</td> <td> 0.167</td> <td>   -0.248</td> <td>    0.043</td>\n",
       "</tr>\n",
       "<tr>\n",
       "  <th>rev_util</th>      <td>   -0.0052</td> <td>    0.013</td> <td>   -0.406</td> <td> 0.684</td> <td>   -0.030</td> <td>    0.020</td>\n",
       "</tr>\n",
       "</table>"
      ],
      "text/plain": [
       "<class 'statsmodels.iolib.summary.Summary'>\n",
       "\"\"\"\n",
       "                 Generalized Linear Model Regression Results                  \n",
       "==============================================================================\n",
       "Dep. Variable:                bad_ind   No. Observations:                 5628\n",
       "Model:                            GLM   Df Residuals:                     5621\n",
       "Model Family:                Binomial   Df Model:                            6\n",
       "Link Function:                  logit   Scale:                          1.0000\n",
       "Method:                          IRLS   Log-Likelihood:                -2396.1\n",
       "Date:                Sat, 06 Apr 2019   Deviance:                       4792.1\n",
       "Time:                        16:31:10   Pearson chi2:                 5.31e+03\n",
       "No. Iterations:                     6   Covariance Type:             nonrobust\n",
       "=================================================================================\n",
       "                    coef    std err          z      P>|z|      [0.025      0.975]\n",
       "---------------------------------------------------------------------------------\n",
       "Intercept         7.1759      0.530     13.546      0.000       6.138       8.214\n",
       "fico_score       -0.0158      0.001    -21.024      0.000      -0.017      -0.014\n",
       "ltv               0.0260      0.002     11.127      0.000       0.021       0.031\n",
       "age_oldest_tr    -0.0027      0.000     -6.008      0.000      -0.004      -0.002\n",
       "nth               0.0320      0.021      1.561      0.119      -0.008       0.072\n",
       "tot_open_tr      -0.1025      0.074     -1.383      0.167      -0.248       0.043\n",
       "rev_util         -0.0052      0.013     -0.406      0.684      -0.030       0.020\n",
       "=================================================================================\n",
       "\"\"\""
      ]
     },
     "execution_count": 98,
     "metadata": {},
     "output_type": "execute_result"
    }
   ],
   "source": [
    "\n",
    "\n",
    "#%%\n",
    "#目前vehicle_year、vehicle_make、bankruptcy_ind、used_ind这些分类变量无法通过逐步变量筛选法\n",
    "#解决方案：\n",
    "#1、逐一根据显著性测试\n",
    "#2、使用决策树等方法筛选变量，但是多分类变量需要事先进行变量概化\n",
    "#3、使用WOE转换，多分类变量也需要事先进行概化，使用scorecardpy包中的woe算法可以自动进行概化wq \n",
    "# 使用第一种方法3gv\n",
    "#formula = '''bad_igb1i48\\ u/lpplnd ~ fico_score+ltv+age_oldest_tr+tot_derog+nth+tot_open_tr+veh_mileage+rev_util+C(used_ind)+C(vehicle_year)+C(bankruptcy_ind)'''\n",
    "formula = '''bad_ind ~ fico_score+ltv+age_oldest_tr+nth+tot_open_tr+rev_util'''\n",
    "lg_m = smf.glm(formula=formula, data=data_model, \n",
    "             family=sm.families.Binomial(sm.families.links.logit)).fit()\n",
    "lg_m.summary()"
   ]
  },
  {
   "cell_type": "code",
   "execution_count": null,
   "metadata": {},
   "outputs": [],
   "source": []
  },
  {
   "cell_type": "code",
   "execution_count": null,
   "metadata": {},
   "outputs": [],
   "source": []
  },
  {
   "cell_type": "markdown",
   "metadata": {},
   "source": [
    "<font color=red size=3> 模块五，模型的评估 </font>"
   ]
  },
  {
   "cell_type": "code",
   "execution_count": 102,
   "metadata": {},
   "outputs": [],
   "source": [
    "y_train_predict = logistic_model.predict(x_train)\n",
    "y_test_predict = logistic_model.predict(x_test)\n",
    "y_train_proba = logistic_model.predict_proba(x_train)[:, 1]  \n",
    "y_test_proba = logistic_model.predict_proba(x_test)[:, 1]"
   ]
  },
  {
   "cell_type": "code",
   "execution_count": 104,
   "metadata": {},
   "outputs": [
    {
     "data": {
      "image/png": "[encoded data removed]",
      "text/plain": [
       "<Figure size 864x576 with 2 Axes>"
      ]
     },
     "metadata": {
      "needs_background": "light"
     },
     "output_type": "display_data"
    }
   ],
   "source": [
    "from sklearn.metrics import confusion_matrix\n",
    "from sklearn.metrics import recall_score\n",
    "import matplotlib.pyplot as plt\n",
    " \n",
    "\n",
    "classes = list(set(y_test))\n",
    "classes.sort()\n",
    "confusion = confusion_matrix(y_test_predict, y_test)\n",
    "plt.figure(figsize=(12,8))\n",
    "plt.imshow(confusion, cmap=plt.cm.Blues)\n",
    "indices = range(len(confusion))\n",
    "plt.xticks(indices, classes)\n",
    "plt.yticks(indices, classes)\n",
    "plt.colorbar()\n",
    "plt.xlabel('guess')\n",
    "plt.ylabel('fact')\n",
    "\n",
    "for first_index in range(len(confusion)):\n",
    "    for second_index in range(len(confusion[first_index])):\n",
    "        plt.text(first_index, second_index, confusion[first_index][second_index],fontsize='xx-large',color='red')\n",
    "plt.show()"
   ]
  },
  {
   "cell_type": "code",
   "execution_count": 108,
   "metadata": {},
   "outputs": [
    {
     "name": "stdout",
     "output_type": "stream",
     "text": [
      "AUC = 0.7708\n"
     ]
    },
    {
     "data": {
      "image/png": "[encoded data removed]",
      "text/plain": [
       "<Figure size 864x648 with 1 Axes>"
      ]
     },
     "metadata": {
      "needs_background": "light"
     },
     "output_type": "display_data"
    }
   ],
   "source": [
    "print('AUC = %.4f' %metrics.auc(fpr_test, tpr_test))\n",
    "import sklearn.metrics as metrics\n",
    "\n",
    "fpr_test, tpr_test, th_test = metrics.roc_curve(y_test, y_test_proba)\n",
    "fpr_train, tpr_train, th_train = metrics.roc_curve(y_train, y_train_proba)\n",
    "\n",
    "plt.figure(figsize=(12,9))\n",
    "plt.plot(fpr_test, tpr_test, 'b--')\n",
    "plt.plot(fpr_train, tpr_train, 'r-')\n",
    "plt.title('ROC curve')\n",
    "plt.show()\n"
   ]
  },
  {
   "cell_type": "code",
   "execution_count": null,
   "metadata": {},
   "outputs": [],
   "source": []
  },
  {
   "cell_type": "code",
   "execution_count": null,
   "metadata": {},
   "outputs": [],
   "source": []
  },
  {
   "cell_type": "markdown",
   "metadata": {},
   "source": [
    "# ## 构建神经网络并评估"
   ]
  },
  {
   "cell_type": "code",
   "execution_count": 100,
   "metadata": {},
   "outputs": [],
   "source": [
    "from sklearn.preprocessing import MinMaxScaler\n",
    "\n",
    "scaler = MinMaxScaler()\n",
    "scaler.fit(x_train)\n",
    "\n",
    "scaled_x_train = scaler.transform(x_train)\n",
    "scaled_x_test = scaler.transform(x_test)"
   ]
  },
  {
   "cell_type": "code",
   "execution_count": 101,
   "metadata": {},
   "outputs": [],
   "source": [
    "from sklearn.neural_network import MLPClassifier\n",
    "\n",
    "mlp = MLPClassifier(hidden_layer_sizes=(10,), \n",
    "                    activation='logistic', alpha=0.1, max_iter=1000)"
   ]
  },
  {
   "cell_type": "code",
   "execution_count": 102,
   "metadata": {},
   "outputs": [
    {
     "data": {
      "text/plain": [
       "GridSearchCV(cv=4, error_score='raise-deprecating',\n",
       "       estimator=MLPClassifier(activation='relu', alpha=0.0001, batch_size='auto', beta_1=0.9,\n",
       "       beta_2=0.999, early_stopping=False, epsilon=1e-08,\n",
       "       hidden_layer_sizes=(100,), learning_rate='constant',\n",
       "       learning_rate_init=0.001, max_iter=1000, momentum=0.9,\n",
       "       n_iter_no_change=10, nesterovs_momentum=True, power_t=0.5,\n",
       "       random_state=None, shuffle=True, solver='adam', tol=0.0001,\n",
       "       validation_fraction=0.1, verbose=False, warm_start=False),\n",
       "       fit_params=None, iid='warn', n_jobs=-1,\n",
       "       param_grid={'hidden_layer_sizes': [(10,), (15,), (20,), (5, 5)], 'activation': ['logistic', 'tanh', 'relu'], 'alpha': [0.001, 0.01, 0.1, 0.2, 0.4, 1, 10]},\n",
       "       pre_dispatch='2*n_jobs', refit=True, return_train_score='warn',\n",
       "       scoring='roc_auc', verbose=0)"
      ]
     },
     "execution_count": 102,
     "metadata": {},
     "output_type": "execute_result"
    }
   ],
   "source": [
    "from sklearn.model_selection import GridSearchCV\n",
    "from sklearn import metrics\n",
    "\n",
    "param_grid = {\n",
    "    'hidden_layer_sizes':[(10, ), (15, ), (20, ), (5, 5)],\n",
    "    'activation':['logistic', 'tanh', 'relu'], \n",
    "    'alpha':[0.001, 0.01, 0.1, 0.2, 0.4, 1, 10]\n",
    "}\n",
    "mlp = MLPClassifier(max_iter=1000)\n",
    "gcv = GridSearchCV(estimator=mlp, param_grid=param_grid, \n",
    "                   scoring='roc_auc', cv=4, n_jobs=-1)\n",
    "gcv.fit(scaled_x_train, y_train)"
   ]
  },
  {
   "cell_type": "code",
   "execution_count": 103,
   "metadata": {},
   "outputs": [
    {
     "data": {
      "text/plain": [
       "{'activation': 'relu', 'alpha': 0.01, 'hidden_layer_sizes': (15,)}"
      ]
     },
     "execution_count": 103,
     "metadata": {},
     "output_type": "execute_result"
    }
   ],
   "source": [
    "gcv.best_params_"
   ]
  },
  {
   "cell_type": "code",
   "execution_count": 104,
   "metadata": {},
   "outputs": [
    {
     "data": {
      "text/plain": [
       "MLPClassifier(activation='relu', alpha=0.01, batch_size='auto', beta_1=0.9,\n",
       "       beta_2=0.999, early_stopping=False, epsilon=1e-08,\n",
       "       hidden_layer_sizes=(15,), learning_rate='constant',\n",
       "       learning_rate_init=0.001, max_iter=1000, momentum=0.9,\n",
       "       n_iter_no_change=10, nesterovs_momentum=True, power_t=0.5,\n",
       "       random_state=None, shuffle=True, solver='adam', tol=0.0001,\n",
       "       validation_fraction=0.1, verbose=False, warm_start=False)"
      ]
     },
     "execution_count": 104,
     "metadata": {},
     "output_type": "execute_result"
    }
   ],
   "source": [
    "mlp = MLPClassifier(hidden_layer_sizes=gcv.best_params_[\"hidden_layer_sizes\"], \n",
    "                    activation=gcv.best_params_[\"activation\"], alpha=gcv.best_params_[\"alpha\"], max_iter=1000)\n",
    "\n",
    "mlp.fit(scaled_x_train, y_train)"
   ]
  },
  {
   "cell_type": "code",
   "execution_count": 105,
   "metadata": {},
   "outputs": [
    {
     "name": "stdout",
     "output_type": "stream",
     "text": [
      "[[899   9]\n",
      " [189  29]]\n",
      "              precision    recall  f1-score   support\n",
      "\n",
      "           0       0.83      0.99      0.90       908\n",
      "           1       0.76      0.13      0.23       218\n",
      "\n",
      "   micro avg       0.82      0.82      0.82      1126\n",
      "   macro avg       0.79      0.56      0.56      1126\n",
      "weighted avg       0.81      0.82      0.77      1126\n",
      "\n"
     ]
    }
   ],
   "source": [
    "y_train_predict = mlp.predict(scaled_x_train)\n",
    "y_test_predict = mlp.predict(scaled_x_test)\n",
    "y_train_proba = mlp.predict_proba(scaled_x_train)[:, 1]  \n",
    "y_test_proba = mlp.predict_proba(scaled_x_test)[:, 1]\n",
    "\n",
    "\n",
    "from sklearn import metrics\n",
    "print(metrics.confusion_matrix(y_test, y_test_predict, labels=[0, 1]))\n",
    "print(metrics.classification_report(y_test, y_test_predict))"
   ]
  },
  {
   "cell_type": "code",
   "execution_count": 106,
   "metadata": {},
   "outputs": [
    {
     "data": {
      "image/png": "[encoded data removed]",
      "text/plain": [
       "<Figure size 864x864 with 1 Axes>"
      ]
     },
     "metadata": {
      "needs_background": "light"
     },
     "output_type": "display_data"
    },
    {
     "name": "stdout",
     "output_type": "stream",
     "text": [
      "AUC = 0.7662\n"
     ]
    }
   ],
   "source": [
    "fpr_test, tpr_test, th_test = metrics.roc_curve(y_test, y_test_proba)\n",
    "fpr_train, tpr_train, th_train = metrics.roc_curve(y_train, y_train_proba)\n",
    "\n",
    "plt.figure(figsize=[12, 12])\n",
    "plt.plot(fpr_test, tpr_test, 'b-')\n",
    "plt.plot(fpr_train, tpr_train, 'r-')\n",
    "plt.title('ROC curve')\n",
    "plt.show()\n",
    "\n",
    "print('AUC = %6.4f' %metrics.auc(fpr_test, tpr_test))"
   ]
  },
  {
   "cell_type": "code",
   "execution_count": null,
   "metadata": {},
   "outputs": [],
   "source": []
  },
  {
   "cell_type": "markdown",
   "metadata": {},
   "source": [
    "<font color=red size=3> GBDT建模对比 </font>"
   ]
  },
  {
   "cell_type": "code",
   "execution_count": 107,
   "metadata": {},
   "outputs": [],
   "source": [
    "from sklearn import ensemble"
   ]
  },
  {
   "cell_type": "code",
   "execution_count": 127,
   "metadata": {},
   "outputs": [],
   "source": [
    "param_grid = {\n",
    "    'loss':['deviance','exponential'],\n",
    "    'learning_rate':[0.1,0.3,0.5],\n",
    "    'n_estimators':[20,30,40,50],  #决策树个数-GBDT特有参数\n",
    "    'max_depth':[1,2,3],  #单棵树最大深度-GBDT特有参数\n",
    "    'min_samples_split':[2,4,8,12],\n",
    "    'subsample':[0.7,0.8,0.9]\n",
    "    'max_features':range(2,10,2)\n",
    "    \n",
    "}"
   ]
  },
  {
   "cell_type": "code",
   "execution_count": 128,
   "metadata": {},
   "outputs": [
    {
     "data": {
      "text/plain": [
       "GridSearchCV(cv=4, error_score='raise-deprecating',\n",
       "       estimator=GradientBoostingClassifier(criterion='friedman_mse', init=None,\n",
       "              learning_rate=0.1, loss='deviance', max_depth=3,\n",
       "              max_features=None, max_leaf_nodes=None,\n",
       "              min_impurity_decrease=0.0, min_impurity_split=None,\n",
       "              min_samples_leaf=1, min_sampl...      subsample=1.0, tol=0.0001, validation_fraction=0.1,\n",
       "              verbose=0, warm_start=False),\n",
       "       fit_params=None, iid='warn', n_jobs=None,\n",
       "       param_grid={'loss': ['deviance', 'exponential'], 'learning_rate': [0.1, 0.3, 0.5, 0.7, 1], 'n_estimators': [10, 15, 20, 30, 40, 50], 'max_depth': [1, 2, 3], 'min_samples_split': [2, 4, 8, 12, 16, 20], 'subsample': [0.6, 0.7, 0.75, 0.8, 0.85, 0.9]},\n",
       "       pre_dispatch='2*n_jobs', refit=True, return_train_score='warn',\n",
       "       scoring='roc_auc', verbose=0)"
      ]
     },
     "execution_count": 128,
     "metadata": {},
     "output_type": "execute_result"
    }
   ],
   "source": [
    "gbc = ensemble.GradientBoostingClassifier()\n",
    "gbccv = GridSearchCV(estimator=gbc, param_grid=param_grid, scoring='roc_auc', cv=4)\n",
    "gbccv.fit(x_train, y_train)\n"
   ]
  },
  {
   "cell_type": "code",
   "execution_count": 129,
   "metadata": {},
   "outputs": [
    {
     "data": {
      "text/plain": [
       "{'learning_rate': 0.3,\n",
       " 'loss': 'exponential',\n",
       " 'max_depth': 1,\n",
       " 'min_samples_split': 16,\n",
       " 'n_estimators': 40,\n",
       " 'subsample': 0.85}"
      ]
     },
     "execution_count": 129,
     "metadata": {},
     "output_type": "execute_result"
    }
   ],
   "source": [
    "gbccv.best_params_"
   ]
  },
  {
   "cell_type": "code",
   "execution_count": 130,
   "metadata": {},
   "outputs": [],
   "source": [
    "y_train_predict = gbccv.predict(x_train)\n",
    "y_test_predict = gbccv.predict(x_test)\n",
    "y_train_proba = gbccv.predict_proba(x_train)[:, 1]  \n",
    "y_test_proba = gbccv.predict_proba(x_test)[:, 1]"
   ]
  },
  {
   "cell_type": "code",
   "execution_count": 131,
   "metadata": {},
   "outputs": [
    {
     "name": "stdout",
     "output_type": "stream",
     "text": [
      "gradient boosting accuracy:\n",
      "              precision    recall  f1-score   support\n",
      "\n",
      "           0       0.83      0.97      0.89       908\n",
      "           1       0.59      0.16      0.25       218\n",
      "\n",
      "   micro avg       0.82      0.82      0.82      1126\n",
      "   macro avg       0.71      0.56      0.57      1126\n",
      "weighted avg       0.78      0.82      0.77      1126\n",
      "\n"
     ]
    }
   ],
   "source": [
    "\n",
    "print(\"gradient boosting accuracy:\")\n",
    "print(metrics.classification_report(y_test,y_test_predict))"
   ]
  },
  {
   "cell_type": "code",
   "execution_count": 132,
   "metadata": {},
   "outputs": [
    {
     "data": {
      "image/png": "[encoded data removed]",
      "text/plain": [
       "<Figure size 432x288 with 2 Axes>"
      ]
     },
     "metadata": {
      "needs_background": "light"
     },
     "output_type": "display_data"
    }
   ],
   "source": [
    "classes = list(set(y_test))\n",
    "classes.sort()\n",
    "confusion = confusion_matrix(y_test_predict, y_test)\n",
    "plt.imshow(confusion, cmap=plt.cm.Blues)\n",
    "indices = range(len(confusion))\n",
    "plt.xticks(indices, classes)\n",
    "plt.yticks(indices, classes)\n",
    "plt.colorbar()\n",
    "plt.xlabel('guess')\n",
    "plt.ylabel('fact')\n",
    "for first_index in range(len(confusion)):\n",
    "    for second_index in range(len(confusion[first_index])):\n",
    "        plt.text(first_index, second_index, confusion[first_index][second_index],fontsize='xx-large',color='red')\n",
    "plt.show()"
   ]
  },
  {
   "cell_type": "code",
   "execution_count": 133,
   "metadata": {},
   "outputs": [
    {
     "data": {
      "image/png": "[encoded data removed]",
      "text/plain": [
       "<Figure size 864x864 with 1 Axes>"
      ]
     },
     "metadata": {
      "needs_background": "light"
     },
     "output_type": "display_data"
    },
    {
     "name": "stdout",
     "output_type": "stream",
     "text": [
      "AUC = 0.7730\n"
     ]
    }
   ],
   "source": [
    "fpr_test, tpr_test, th_test = metrics.roc_curve(y_test, y_test_proba)\n",
    "fpr_train, tpr_train, th_train = metrics.roc_curve(y_train, y_train_proba)\n",
    "\n",
    "plt.figure(figsize=[12, 12])\n",
    "plt.plot(fpr_test, tpr_test, 'b-')\n",
    "plt.plot(fpr_train, tpr_train, 'r-')\n",
    "plt.title('ROC curve')\n",
    "plt.show()\n",
    "\n",
    "print('AUC = %6.4f' %metrics.auc(fpr_test, tpr_test))"
   ]
  },
  {
   "cell_type": "code",
   "execution_count": null,
   "metadata": {},
   "outputs": [],
   "source": []
  },
  {
   "cell_type": "markdown",
   "metadata": {},
   "source": [
    "<font color=red size=3> 随机森林建模对比 </font>"
   ]
  },
  {
   "cell_type": "code",
   "execution_count": 140,
   "metadata": {},
   "outputs": [],
   "source": [
    "param_grid = {\n",
    "    'criterion':['entropy','gini'],\n",
    "    'max_depth':[6,7,8,10],\n",
    "    'n_estimators':[11,13,15,20],  #决策树个数-随机森林特有参数\n",
    "    'max_features':[0.3,0.4,0.5], #每棵决策树使用的变量占比-随机森林特有参数\n",
    "    'min_samples_split':[3,8,10] \n",
    "}"
   ]
  },
  {
   "cell_type": "code",
   "execution_count": 141,
   "metadata": {},
   "outputs": [
    {
     "data": {
      "text/plain": [
       "GridSearchCV(cv=4, error_score='raise-deprecating',\n",
       "       estimator=RandomForestClassifier(bootstrap=True, class_weight=None, criterion='gini',\n",
       "            max_depth=None, max_features='auto', max_leaf_nodes=None,\n",
       "            min_impurity_decrease=0.0, min_impurity_split=None,\n",
       "            min_samples_leaf=1, min_samples_split=2,\n",
       "            min_weight_fraction_leaf=0.0, n_estimators='warn', n_jobs=None,\n",
       "            oob_score=False, random_state=None, verbose=0,\n",
       "            warm_start=False),\n",
       "       fit_params=None, iid='warn', n_jobs=None,\n",
       "       param_grid={'criterion': ['entropy', 'gini'], 'max_depth': [6, 7, 8, 10], 'n_estimators': [11, 13, 15, 20], 'max_features': [0.3, 0.4, 0.5], 'min_samples_split': [3, 8, 10]},\n",
       "       pre_dispatch='2*n_jobs', refit=True, return_train_score='warn',\n",
       "       scoring='roc_auc', verbose=0)"
      ]
     },
     "execution_count": 141,
     "metadata": {},
     "output_type": "execute_result"
    }
   ],
   "source": [
    "rfc = ensemble.RandomForestClassifier()\n",
    "rfccv = GridSearchCV(estimator=rfc, param_grid=param_grid, scoring='roc_auc', cv=4)\n",
    "rfccv.fit(x_train, y_train)"
   ]
  },
  {
   "cell_type": "code",
   "execution_count": 142,
   "metadata": {},
   "outputs": [
    {
     "data": {
      "text/plain": [
       "{'criterion': 'entropy',\n",
       " 'max_depth': 6,\n",
       " 'max_features': 0.4,\n",
       " 'min_samples_split': 10,\n",
       " 'n_estimators': 13}"
      ]
     },
     "execution_count": 142,
     "metadata": {},
     "output_type": "execute_result"
    }
   ],
   "source": [
    "rfccv.best_params_"
   ]
  },
  {
   "cell_type": "code",
   "execution_count": null,
   "metadata": {},
   "outputs": [],
   "source": []
  },
  {
   "cell_type": "code",
   "execution_count": 143,
   "metadata": {},
   "outputs": [],
   "source": [
    "y_train_predict = rfccv.predict(x_train)\n",
    "y_test_predict = rfccv.predict(x_test)\n",
    "y_train_proba = rfccv.predict_proba(x_train)[:, 1]  \n",
    "y_test_proba = rfccv.predict_proba(x_test)[:, 1]"
   ]
  },
  {
   "cell_type": "code",
   "execution_count": 144,
   "metadata": {},
   "outputs": [
    {
     "name": "stdout",
     "output_type": "stream",
     "text": [
      "RandomForest accuracy:\n",
      "              precision    recall  f1-score   support\n",
      "\n",
      "           0       0.82      0.99      0.90       908\n",
      "           1       0.75      0.08      0.15       218\n",
      "\n",
      "   micro avg       0.82      0.82      0.82      1126\n",
      "   macro avg       0.78      0.54      0.52      1126\n",
      "weighted avg       0.81      0.82      0.75      1126\n",
      "\n"
     ]
    }
   ],
   "source": [
    "\n",
    "print(\"RandomForest accuracy:\")\n",
    "print(metrics.classification_report(y_test,y_test_predict))"
   ]
  },
  {
   "cell_type": "code",
   "execution_count": 145,
   "metadata": {},
   "outputs": [
    {
     "data": {
      "image/png": "[encoded data removed]",
      "text/plain": [
       "<Figure size 432x288 with 2 Axes>"
      ]
     },
     "metadata": {
      "needs_background": "light"
     },
     "output_type": "display_data"
    }
   ],
   "source": [
    "classes = list(set(y_test))\n",
    "classes.sort()\n",
    "confusion = confusion_matrix(y_test_predict, y_test)\n",
    "plt.imshow(confusion, cmap=plt.cm.Blues)\n",
    "indices = range(len(confusion))\n",
    "plt.xticks(indices, classes)\n",
    "plt.yticks(indices, classes)\n",
    "plt.colorbar()\n",
    "plt.xlabel('guess')\n",
    "plt.ylabel('fact')\n",
    "for first_index in range(len(confusion)):\n",
    "    for second_index in range(len(confusion[first_index])):\n",
    "        plt.text(first_index, second_index, confusion[first_index][second_index],fontsize='xx-large',color='red')\n",
    "plt.show()"
   ]
  },
  {
   "cell_type": "code",
   "execution_count": 146,
   "metadata": {},
   "outputs": [
    {
     "data": {
      "image/png": "[encoded data removed]",
      "text/plain": [
       "<Figure size 864x864 with 1 Axes>"
      ]
     },
     "metadata": {
      "needs_background": "light"
     },
     "output_type": "display_data"
    },
    {
     "name": "stdout",
     "output_type": "stream",
     "text": [
      "AUC = 0.7632\n"
     ]
    }
   ],
   "source": [
    "fpr_test, tpr_test, th_test = metrics.roc_curve(y_test, y_test_proba)\n",
    "fpr_train, tpr_train, th_train = metrics.roc_curve(y_train, y_train_proba)\n",
    "\n",
    "plt.figure(figsize=[12, 12])\n",
    "plt.plot(fpr_test, tpr_test, 'b-')\n",
    "plt.plot(fpr_train, tpr_train, 'r-')\n",
    "plt.title('ROC curve')\n",
    "plt.show()\n",
    "\n",
    "print('AUC = %6.4f' %metrics.auc(fpr_test, tpr_test))"
   ]
  },
  {
   "cell_type": "code",
   "execution_count": null,
   "metadata": {},
   "outputs": [],
   "source": []
  },
  {
   "cell_type": "markdown",
   "metadata": {},
   "source": [
    "<font color=red size=3> XGboost建模对比 </font>"
   ]
  },
  {
   "cell_type": "code",
   "execution_count": 147,
   "metadata": {},
   "outputs": [],
   "source": [
    "import xgboost as xgb"
   ]
  },
  {
   "cell_type": "code",
   "execution_count": 148,
   "metadata": {},
   "outputs": [],
   "source": [
    "dtrain=xgb.DMatrix(x_train,y_train)\n",
    "dtest=xgb.DMatrix(x_test,y_test)"
   ]
  },
  {
   "cell_type": "code",
   "execution_count": null,
   "metadata": {},
   "outputs": [],
   "source": [
    "#dtrain = xgb.DMatrix( data, label=label, missing = -999.0)  处理 DMatrix中的缺失值"
   ]
  },
  {
   "cell_type": "code",
   "execution_count": null,
   "metadata": {},
   "outputs": [],
   "source": [
    "#w = np.random.rand(5,1)\n",
    "#dtrain = xgb.DMatrix( data, label=label, missing = -999.0, weight=w)\n",
    "#给样本设置权重时"
   ]
  },
  {
   "cell_type": "markdown",
   "metadata": {},
   "source": [
    "<font color=red size=3> XGboost网格搜索 </font>"
   ]
  },
  {
   "cell_type": "code",
   "execution_count": 239,
   "metadata": {},
   "outputs": [],
   "source": [
    "from xgboost.sklearn import XGBClassifier"
   ]
  },
  {
   "cell_type": "markdown",
   "metadata": {},
   "source": [
    "<font color=red size=3> 参数搜索第一次 </font>"
   ]
  },
  {
   "cell_type": "code",
   "execution_count": 255,
   "metadata": {},
   "outputs": [],
   "source": [
    "param_test1 = {\n",
    " 'max_depth':[2,4],\n",
    " 'n_estimators':[500,1000,2000],\n",
    " 'learning_rate':[0.01,0.1]\n",
    "}"
   ]
  },
  {
   "cell_type": "code",
   "execution_count": 256,
   "metadata": {},
   "outputs": [
    {
     "data": {
      "text/plain": [
       "({'learning_rate': 0.01, 'max_depth': 2, 'n_estimators': 1000},\n",
       " 0.7579507963304004)"
      ]
     },
     "execution_count": 256,
     "metadata": {},
     "output_type": "execute_result"
    }
   ],
   "source": [
    "xgb_grid_search1 = GridSearchCV(estimator = XGBClassifier(\n",
    "    min_child_weight=1, \n",
    "    gamma=0, \n",
    "    subsample=0.8,\n",
    "    colsample_bytree=0.8,\n",
    "    objective= 'binary:logistic', \n",
    "    nthread=4, \n",
    "    scale_pos_weight=1, seed=27), \n",
    "    param_grid = param_test1,\n",
    "    scoring='roc_auc',n_jobs=4,iid=False, cv=5)\n",
    "xgb_grid_search1.fit(x_train,y_train)\n",
    "xgb_grid_search1.best_params_,xgb_grid_search1.best_score_"
   ]
  },
  {
   "cell_type": "code",
   "execution_count": null,
   "metadata": {},
   "outputs": [],
   "source": []
  },
  {
   "cell_type": "markdown",
   "metadata": {},
   "source": [
    "<font color=red size=3> 参数搜索第二次 </font>"
   ]
  },
  {
   "cell_type": "code",
   "execution_count": 261,
   "metadata": {},
   "outputs": [],
   "source": [
    "param_test2 = {\n",
    "    'min_child_weight':[12,16], \n",
    "    'gamma':[0.1,0.2,0.5], \n",
    "    'subsample':[0.3,0.5]\n",
    "}"
   ]
  },
  {
   "cell_type": "code",
   "execution_count": 262,
   "metadata": {},
   "outputs": [
    {
     "data": {
      "text/plain": [
       "({'gamma': 0.1, 'min_child_weight': 12, 'subsample': 0.5}, 0.7600056399631676)"
      ]
     },
     "execution_count": 262,
     "metadata": {},
     "output_type": "execute_result"
    }
   ],
   "source": [
    "xgb_grid_search2 = GridSearchCV(estimator = XGBClassifier(\n",
    "     max_depth=2,\n",
    "    n_estimators=1000,\n",
    "    learning_rate=0.01,\n",
    "    colsample_bytree=0.8,\n",
    "    objective= 'binary:logistic', \n",
    "    nthread=4, \n",
    "    scale_pos_weight=1, seed=27), \n",
    "    param_grid = param_test2,\n",
    "    scoring='roc_auc',n_jobs=4,iid=False, cv=5)\n",
    "xgb_grid_search2.fit(x_train,y_train)\n",
    "xgb_grid_search2.best_params_,xgb_grid_search2.best_score_"
   ]
  },
  {
   "cell_type": "code",
   "execution_count": null,
   "metadata": {},
   "outputs": [],
   "source": []
  },
  {
   "cell_type": "markdown",
   "metadata": {},
   "source": [
    "<font color=red size=3> 参数搜索第三次 </font>"
   ]
  },
  {
   "cell_type": "code",
   "execution_count": 267,
   "metadata": {},
   "outputs": [],
   "source": [
    "param_test3 = {\n",
    "    'colsample_bytree':[0.2,0.4,0.8],\n",
    "    'reg_alpha':[0.1,1,10]\n",
    "}"
   ]
  },
  {
   "cell_type": "code",
   "execution_count": 268,
   "metadata": {},
   "outputs": [
    {
     "data": {
      "text/plain": [
       "({'colsample_bytree': 0.8, 'reg_alpha': 0.1}, 0.7598509310415388)"
      ]
     },
     "execution_count": 268,
     "metadata": {},
     "output_type": "execute_result"
    }
   ],
   "source": [
    "xgb_grid_search3 = GridSearchCV(estimator = XGBClassifier(\n",
    "    max_depth=2,\n",
    "    n_estimators=1000,\n",
    "    learning_rate=0.01,\n",
    "    min_child_weight=12, \n",
    "    gamma=0.1, \n",
    "    subsample=0.5,\n",
    "    objective= 'binary:logistic', \n",
    "    nthread=4, \n",
    "    scale_pos_weight=1, seed=27), \n",
    "    param_grid = param_test3,\n",
    "    scoring='roc_auc',n_jobs=4,iid=False, cv=5)\n",
    "xgb_grid_search3.fit(x_train,y_train)\n",
    "xgb_grid_search3.best_params_,xgb_grid_search3.best_score_"
   ]
  },
  {
   "cell_type": "code",
   "execution_count": null,
   "metadata": {},
   "outputs": [],
   "source": []
  },
  {
   "cell_type": "code",
   "execution_count": null,
   "metadata": {},
   "outputs": [],
   "source": []
  },
  {
   "cell_type": "code",
   "execution_count": null,
   "metadata": {},
   "outputs": [],
   "source": []
  },
  {
   "cell_type": "markdown",
   "metadata": {},
   "source": [
    "<font color=red size=3> 最终训练 </font>"
   ]
  },
  {
   "cell_type": "code",
   "execution_count": 269,
   "metadata": {},
   "outputs": [],
   "source": [
    "params = {\n",
    "        'n_estimators':1000,\n",
    "        'eta': 0.05, \n",
    "        'max_depth': 2, \n",
    "        'min_child_weight':12,\n",
    "        'subsample': 0.5, \n",
    "        'colsample_bytree': 0.8, \n",
    "        'objective': 'binary:logistic', \n",
    "        'eval_metric': 'logloss', \n",
    "        'seed': 99, \n",
    "        'silent': True,\n",
    "        'scale_pos_weight':7\n",
    "    }"
   ]
  },
  {
   "cell_type": "code",
   "execution_count": 270,
   "metadata": {},
   "outputs": [],
   "source": [
    "watchlist=[(dtrain,'train'),(dtest,'eval')]"
   ]
  },
  {
   "cell_type": "code",
   "execution_count": 271,
   "metadata": {},
   "outputs": [
    {
     "name": "stdout",
     "output_type": "stream",
     "text": [
      "[0]\ttrain-logloss:0.692857\teval-logloss:0.692846\n",
      "Multiple eval metrics have been passed: 'eval-logloss' will be used for early stopping.\n",
      "\n",
      "Will train until eval-logloss hasn't improved in 100 rounds.\n",
      "[10]\ttrain-logloss:0.691357\teval-logloss:0.691706\n",
      "[20]\ttrain-logloss:0.689227\teval-logloss:0.689863\n",
      "[30]\ttrain-logloss:0.689735\teval-logloss:0.691453\n",
      "[40]\ttrain-logloss:0.690837\teval-logloss:0.692433\n",
      "[50]\ttrain-logloss:0.690948\teval-logloss:0.693538\n",
      "[60]\ttrain-logloss:0.692621\teval-logloss:0.696069\n",
      "[70]\ttrain-logloss:0.693946\teval-logloss:0.697905\n",
      "[80]\ttrain-logloss:0.69545\teval-logloss:0.700288\n",
      "[90]\ttrain-logloss:0.6974\teval-logloss:0.702953\n",
      "[100]\ttrain-logloss:0.698762\teval-logloss:0.70461\n",
      "[110]\ttrain-logloss:0.700533\teval-logloss:0.70684\n",
      "[120]\ttrain-logloss:0.70229\teval-logloss:0.709271\n",
      "Stopping. Best iteration:\n",
      "[24]\ttrain-logloss:0.688805\teval-logloss:0.689529\n",
      "\n"
     ]
    }
   ],
   "source": [
    "xgbmodel = xgb.train(params,dtrain,evals=watchlist,num_boost_round=3000,early_stopping_rounds=100,verbose_eval=10)"
   ]
  },
  {
   "cell_type": "code",
   "execution_count": 272,
   "metadata": {},
   "outputs": [],
   "source": [
    "from xgboost import plot_importance"
   ]
  },
  {
   "cell_type": "code",
   "execution_count": 273,
   "metadata": {},
   "outputs": [
    {
     "data": {
      "text/plain": [
       "<matplotlib.axes._subplots.AxesSubplot at 0x18753c91eb8>"
      ]
     },
     "execution_count": 273,
     "metadata": {},
     "output_type": "execute_result"
    },
    {
     "data": {
      "image/png": "[encoded data removed]",
      "text/plain": [
       "<Figure size 432x288 with 1 Axes>"
      ]
     },
     "metadata": {
      "needs_background": "light"
     },
     "output_type": "display_data"
    }
   ],
   "source": [
    "plot_importance(xgbmodel)"
   ]
  },
  {
   "cell_type": "code",
   "execution_count": 274,
   "metadata": {},
   "outputs": [],
   "source": [
    "x_train_d=xgb.DMatrix(x_train)\n",
    "x_test_d=xgb.DMatrix(x_test)"
   ]
  },
  {
   "cell_type": "code",
   "execution_count": 275,
   "metadata": {},
   "outputs": [],
   "source": [
    "\n",
    "y_train_proba = xgbmodel.predict(x_train_d)  \n",
    "y_test_proba = xgbmodel.predict(x_test_d)\n",
    "y_train_predict = [round(i) for i in y_train_proba]\n",
    "y_test_predict = [round(i) for i in y_test_proba]"
   ]
  },
  {
   "cell_type": "code",
   "execution_count": null,
   "metadata": {},
   "outputs": [],
   "source": []
  },
  {
   "cell_type": "code",
   "execution_count": 276,
   "metadata": {},
   "outputs": [
    {
     "name": "stdout",
     "output_type": "stream",
     "text": [
      "gradient boosting accuracy:\n",
      "              precision    recall  f1-score   support\n",
      "\n",
      "           0       0.95      0.42      0.58       908\n",
      "           1       0.27      0.91      0.42       218\n",
      "\n",
      "   micro avg       0.51      0.51      0.51      1126\n",
      "   macro avg       0.61      0.66      0.50      1126\n",
      "weighted avg       0.82      0.51      0.55      1126\n",
      "\n"
     ]
    }
   ],
   "source": [
    "\n",
    "print(\"gradient boosting accuracy:\")\n",
    "print(metrics.classification_report(y_test,y_test_predict))"
   ]
  },
  {
   "cell_type": "code",
   "execution_count": 277,
   "metadata": {},
   "outputs": [
    {
     "data": {
      "image/png": "[encoded data removed]",
      "text/plain": [
       "<Figure size 432x288 with 2 Axes>"
      ]
     },
     "metadata": {
      "needs_background": "light"
     },
     "output_type": "display_data"
    }
   ],
   "source": [
    "classes = list(set(y_test))\n",
    "classes.sort()\n",
    "confusion = confusion_matrix(y_test_predict, y_test)\n",
    "plt.imshow(confusion, cmap=plt.cm.Blues)\n",
    "indices = range(len(confusion))\n",
    "plt.xticks(indices, classes)\n",
    "plt.yticks(indices, classes)\n",
    "plt.colorbar()\n",
    "plt.xlabel('guess')\n",
    "plt.ylabel('fact')\n",
    "for first_index in range(len(confusion)):\n",
    "    for second_index in range(len(confusion[first_index])):\n",
    "        plt.text(first_index, second_index, confusion[first_index][second_index],fontsize='xx-large',color='red')\n",
    "plt.show()"
   ]
  },
  {
   "cell_type": "code",
   "execution_count": 278,
   "metadata": {},
   "outputs": [
    {
     "data": {
      "image/png": "[encoded data removed]",
      "text/plain": [
       "<Figure size 864x864 with 1 Axes>"
      ]
     },
     "metadata": {
      "needs_background": "light"
     },
     "output_type": "display_data"
    },
    {
     "name": "stdout",
     "output_type": "stream",
     "text": [
      "AUC = 0.7629\n"
     ]
    }
   ],
   "source": [
    "\n",
    "print('AUC = %6.4f' %metrics.auc(fpr_test, tpr_test))\n",
    "\n",
    "fpr_test, tpr_test, th_test = metrics.roc_curve(y_test, y_test_proba)\n",
    "fpr_train, tpr_train, th_train = metrics.roc_curve(y_train, y_train_proba)\n",
    "\n",
    "plt.figure(figsize=[12, 12])\n",
    "plt.plot(fpr_test, tpr_test, 'b-')\n",
    "plt.plot(fpr_train, tpr_train, 'r-')\n",
    "plt.title('ROC curve')\n",
    "plt.show()\n"
   ]
  },
  {
   "cell_type": "code",
   "execution_count": null,
   "metadata": {},
   "outputs": [],
   "source": []
  },
  {
   "cell_type": "code",
   "execution_count": null,
   "metadata": {},
   "outputs": [],
   "source": []
  },
  {
   "cell_type": "code",
   "execution_count": null,
   "metadata": {},
   "outputs": [],
   "source": []
  },
  {
   "cell_type": "code",
   "execution_count": null,
   "metadata": {},
   "outputs": [],
   "source": []
  },
  {
   "cell_type": "code",
   "execution_count": null,
   "metadata": {},
   "outputs": [],
   "source": []
  },
  {
   "cell_type": "code",
   "execution_count": null,
   "metadata": {},
   "outputs": [],
   "source": [
    "\n"
   ]
  },
  {
   "cell_type": "code",
   "execution_count": null,
   "metadata": {},
   "outputs": [],
   "source": []
  },
  {
   "cell_type": "code",
   "execution_count": 279,
   "metadata": {},
   "outputs": [
    {
     "data": {
      "text/plain": [
       "'Digraph.gv.png'"
      ]
     },
     "execution_count": 279,
     "metadata": {},
     "output_type": "execute_result"
    }
   ],
   "source": [
    "digraph = xgb.to_graphviz(xgbmodel)\n",
    "digraph.format = 'png'\n",
    "digraph.view()\n"
   ]
  },
  {
   "cell_type": "code",
   "execution_count": null,
   "metadata": {},
   "outputs": [],
   "source": []
  },
  {
   "cell_type": "markdown",
   "metadata": {},
   "source": [
    "<font color=red size=3> 基于高斯分布的异常检测 </font>"
   ]
  },
  {
   "cell_type": "code",
   "execution_count": 287,
   "metadata": {},
   "outputs": [
    {
     "name": "stdout",
     "output_type": "stream",
     "text": [
      "tot_open_tr -0.9935965142137847\n",
      "fico_score -0.1488546151942997\n",
      "ltv -0.6144006087283834\n",
      "tot_rev_line -3.704956029247435\n",
      "age_oldest_tr 0.9212417767898473\n",
      "rev_util -1.56719348525584\n",
      "nth -1.143488715701864\n",
      "tot_rev_tr -2.7155259182758913\n"
     ]
    }
   ],
   "source": [
    "for i in x_var_c_repaired:\n",
    "    print(i,data_model[i].skew())\n"
   ]
  },
  {
   "cell_type": "code",
   "execution_count": 296,
   "metadata": {},
   "outputs": [],
   "source": [
    "from scipy.stats import multivariate_normal"
   ]
  },
  {
   "cell_type": "code",
   "execution_count": 308,
   "metadata": {},
   "outputs": [],
   "source": [
    "mu=x_train.mean().values"
   ]
  },
  {
   "cell_type": "code",
   "execution_count": 309,
   "metadata": {},
   "outputs": [],
   "source": [
    "sigma=x_train.cov().values"
   ]
  },
  {
   "cell_type": "code",
   "execution_count": 310,
   "metadata": {},
   "outputs": [],
   "source": [
    "model_normal=multivariate_normal(cov=sigma,mean=mu,allow_singular=True)"
   ]
  },
  {
   "cell_type": "code",
   "execution_count": 428,
   "metadata": {},
   "outputs": [
    {
     "name": "stdout",
     "output_type": "stream",
     "text": [
      "[['-100.00' '0.00' '0.00']\n",
      " ['-96.90' '0.00' '0.00']\n",
      " ['-93.79' '0.00' '0.00']\n",
      " ['-90.69' '0.00' '0.00']\n",
      " ['-87.59' '0.00' '0.00']\n",
      " ['-84.48' '0.00' '0.00']\n",
      " ['-81.38' '0.00' '0.00']\n",
      " ['-78.28' '0.00' '0.00']\n",
      " ['-75.17' '0.00' '0.00']\n",
      " ['-72.07' '0.00' '0.00']\n",
      " ['-68.97' '0.00' '0.00']\n",
      " ['-65.86' '0.00' '0.00']\n",
      " ['-62.76' '0.00' '0.00']\n",
      " ['-59.66' '0.00' '0.00']\n",
      " ['-56.55' '0.00' '0.00']\n",
      " ['-53.45' '0.00' '0.00']\n",
      " ['-50.34' '0.00' '0.00']\n",
      " ['-47.24' '0.00' '0.24']\n",
      " ['-44.14' '0.01' '0.22']\n",
      " ['-41.03' '0.03' '0.27']\n",
      " ['-37.93' '0.03' '0.26']\n",
      " ['-34.83' '0.04' '0.23']\n",
      " ['-31.72' '0.08' '0.24']\n",
      " ['-28.62' '0.13' '0.22']\n",
      " ['-25.52' '0.30' '0.23']\n",
      " ['-22.41' '0.58' '0.21']\n",
      " ['-19.31' '1.00' '0.20']\n",
      " ['-16.21' '1.00' '0.20']\n",
      " ['-13.10' '1.00' '0.20']\n",
      " ['-10.00' '1.00' '0.20']]\n"
     ]
    }
   ],
   "source": [
    "scores=[]\n",
    "tresholds=np.linspace(-100,-10,30)\n",
    "for treshold in tresholds:\n",
    "    y_train_predict=(model_normal.logpdf(x_train)<treshold).astype('int')\n",
    "    scores.append(['%.2f'%treshold,'%.2f'%metrics.recall_score(y_train,y_train_predict),'%.2f'%metrics.precision_score(y_train,y_train_predict)])\n",
    "scores=np.array(scores)\n",
    "print(scores)"
   ]
  },
  {
   "cell_type": "code",
   "execution_count": 431,
   "metadata": {},
   "outputs": [],
   "source": [
    "y_test_predict=(model_normal.logpdf(x_test)<-22.4).astype('int')"
   ]
  },
  {
   "cell_type": "code",
   "execution_count": null,
   "metadata": {},
   "outputs": [],
   "source": []
  },
  {
   "cell_type": "code",
   "execution_count": 434,
   "metadata": {},
   "outputs": [
    {
     "name": "stdout",
     "output_type": "stream",
     "text": [
      "              precision    recall  f1-score   support\n",
      "\n",
      "           0       0.83      0.45      0.58       908\n",
      "           1       0.21      0.62      0.32       218\n",
      "\n",
      "   micro avg       0.48      0.48      0.48      1126\n",
      "   macro avg       0.52      0.53      0.45      1126\n",
      "weighted avg       0.71      0.48      0.53      1126\n",
      "\n"
     ]
    }
   ],
   "source": [
    "print(metrics.classification_report(y_test,y_test_predict))"
   ]
  },
  {
   "cell_type": "code",
   "execution_count": 430,
   "metadata": {},
   "outputs": [
    {
     "data": {
      "image/png": "[encoded data removed]",
      "text/plain": [
       "<Figure size 432x288 with 2 Axes>"
      ]
     },
     "metadata": {
      "needs_background": "light"
     },
     "output_type": "display_data"
    }
   ],
   "source": [
    "classes = list(set(y_test))\n",
    "classes.sort()\n",
    "confusion = confusion_matrix(y_test_predict, y_test)\n",
    "plt.imshow(confusion, cmap=plt.cm.Blues)\n",
    "indices = range(len(confusion))\n",
    "plt.xticks(indices, classes)\n",
    "plt.yticks(indices, classes)\n",
    "plt.colorbar()\n",
    "plt.xlabel('guess')\n",
    "plt.ylabel('fact')\n",
    "for first_index in range(len(confusion)):\n",
    "    for second_index in range(len(confusion[first_index])):\n",
    "        plt.text(first_index, second_index, confusion[first_index][second_index],fontsize='xx-large',color='red')\n",
    "plt.show()"
   ]
  },
  {
   "cell_type": "code",
   "execution_count": null,
   "metadata": {},
   "outputs": [],
   "source": []
  },
  {
   "cell_type": "markdown",
   "metadata": {},
   "source": [
    "<font color=red size=3> 模块六，模型的应用与跟踪 </font>"
   ]
  },
  {
   "cell_type": "code",
   "execution_count": null,
   "metadata": {},
   "outputs": [],
   "source": []
  },
  {
   "cell_type": "code",
   "execution_count": null,
   "metadata": {},
   "outputs": [],
   "source": []
  },
  {
   "cell_type": "code",
   "execution_count": null,
   "metadata": {},
   "outputs": [],
   "source": []
  },
  {
   "cell_type": "code",
   "execution_count": null,
   "metadata": {},
   "outputs": [],
   "source": []
  },
  {
   "cell_type": "code",
   "execution_count": null,
   "metadata": {},
   "outputs": [],
   "source": []
  },
  {
   "cell_type": "code",
   "execution_count": null,
   "metadata": {},
   "outputs": [],
   "source": []
  },
  {
   "cell_type": "code",
   "execution_count": null,
   "metadata": {},
   "outputs": [],
   "source": []
  }
 ],
 "metadata": {
  "kernelspec": {
   "display_name": "Python 3",
   "language": "python",
   "name": "python3"
  },
  "language_info": {
   "codemirror_mode": {
    "name": "ipython",
    "version": 3
   },
   "file_extension": ".py",
   "mimetype": "text/x-python",
   "name": "python",
   "nbconvert_exporter": "python",
   "pygments_lexer": "ipython3",
   "version": "3.7.0"
  }
 },
 "nbformat": 4,
 "nbformat_minor": 2
}
